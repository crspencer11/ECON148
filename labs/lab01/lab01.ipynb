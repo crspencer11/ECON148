{
 "cells": [
  {
   "cell_type": "code",
   "execution_count": 79,
   "id": "27525fee",
   "metadata": {
    "deletable": false,
    "editable": false
   },
   "outputs": [],
   "source": [
    "# Initialize Otter\n",
    "import otter\n",
    "grader = otter.Notebook(\"lab01.ipynb\")"
   ]
  },
  {
   "cell_type": "code",
   "execution_count": 80,
   "id": "6d5eb7a7",
   "metadata": {},
   "outputs": [],
   "source": [
    "import pandas as pd\n",
    "from datetime import date"
   ]
  },
  {
   "cell_type": "markdown",
   "id": "cc6882e1",
   "metadata": {},
   "source": [
    "# Lab 1: Using Pandas\n",
    "\n",
    "*This lab heavily inspired by [Data 198 Module 2](https://github.com/ds-modules/DATA-198-SP21/blob/main/module_2/module2.ipynb), [Data 88E Lab 9](https://github.com/data-88e/fa22-dev/blob/main/lab/lab09/lab09.ipynb).*\n",
    "\n",
    "The `pandas` module is a powerful library for manipulating and analyzing data. In this lab, you will use what you learned in lecture, as well as the `pandas` documentation, to manipulate and analyze some example datasets."
   ]
  },
  {
   "cell_type": "markdown",
   "id": "d83730ea",
   "metadata": {},
   "source": [
    "**Learning Objectives**  \n",
    "\n",
    "By the end of this lab, you should be able to work with datasets with basic Pandas methods, including\n",
    "- Read a `.csv` file into a `pandas` dataframe\n",
    "- Select certain columns from a dataframe\n",
    "- Filter a dataframe\n",
    "- Use the `pandas` documentation to complete a certain data manipulation task (e.g. a join)"
   ]
  },
  {
   "cell_type": "markdown",
   "id": "b7624195",
   "metadata": {},
   "source": [
    "## Section 1: Price Data Over Time"
   ]
  },
  {
   "cell_type": "markdown",
   "id": "26e81acd",
   "metadata": {},
   "source": [
    "We begin by importing an example dataset that tells us the price of some good over time."
   ]
  },
  {
   "cell_type": "markdown",
   "id": "a9d49782",
   "metadata": {},
   "source": [
    "**Question 1.1:** Import the data from the `prices.csv` file into a dataframe named `prices_raw`."
   ]
  },
  {
   "cell_type": "code",
   "execution_count": 81,
   "id": "13180fb3",
   "metadata": {
    "tags": []
   },
   "outputs": [
    {
     "data": {
      "text/html": [
       "<div>\n",
       "<style scoped>\n",
       "    .dataframe tbody tr th:only-of-type {\n",
       "        vertical-align: middle;\n",
       "    }\n",
       "\n",
       "    .dataframe tbody tr th {\n",
       "        vertical-align: top;\n",
       "    }\n",
       "\n",
       "    .dataframe thead th {\n",
       "        text-align: right;\n",
       "    }\n",
       "</style>\n",
       "<table border=\"1\" class=\"dataframe\">\n",
       "  <thead>\n",
       "    <tr style=\"text-align: right;\">\n",
       "      <th></th>\n",
       "      <th>year</th>\n",
       "      <th>month</th>\n",
       "      <th>price</th>\n",
       "    </tr>\n",
       "  </thead>\n",
       "  <tbody>\n",
       "    <tr>\n",
       "      <th>0</th>\n",
       "      <td>2003.0</td>\n",
       "      <td>1.0</td>\n",
       "      <td>100.52</td>\n",
       "    </tr>\n",
       "    <tr>\n",
       "      <th>1</th>\n",
       "      <td>2003.0</td>\n",
       "      <td>2.0</td>\n",
       "      <td>100.71</td>\n",
       "    </tr>\n",
       "    <tr>\n",
       "      <th>2</th>\n",
       "      <td>2003.0</td>\n",
       "      <td>3.0</td>\n",
       "      <td>100.95</td>\n",
       "    </tr>\n",
       "    <tr>\n",
       "      <th>3</th>\n",
       "      <td>2003.0</td>\n",
       "      <td>4.0</td>\n",
       "      <td>101.29</td>\n",
       "    </tr>\n",
       "    <tr>\n",
       "      <th>4</th>\n",
       "      <td>2003.0</td>\n",
       "      <td>5.0</td>\n",
       "      <td>101.38</td>\n",
       "    </tr>\n",
       "    <tr>\n",
       "      <th>...</th>\n",
       "      <td>...</td>\n",
       "      <td>...</td>\n",
       "      <td>...</td>\n",
       "    </tr>\n",
       "    <tr>\n",
       "      <th>103</th>\n",
       "      <td>2011.0</td>\n",
       "      <td>8.0</td>\n",
       "      <td>119.96</td>\n",
       "    </tr>\n",
       "    <tr>\n",
       "      <th>104</th>\n",
       "      <td>2011.0</td>\n",
       "      <td>9.0</td>\n",
       "      <td>120.06</td>\n",
       "    </tr>\n",
       "    <tr>\n",
       "      <th>105</th>\n",
       "      <td>2011.0</td>\n",
       "      <td>10.0</td>\n",
       "      <td>120.27</td>\n",
       "    </tr>\n",
       "    <tr>\n",
       "      <th>106</th>\n",
       "      <td>2011.0</td>\n",
       "      <td>11.0</td>\n",
       "      <td>120.39</td>\n",
       "    </tr>\n",
       "    <tr>\n",
       "      <th>107</th>\n",
       "      <td>2011.0</td>\n",
       "      <td>12.0</td>\n",
       "      <td>120.53</td>\n",
       "    </tr>\n",
       "  </tbody>\n",
       "</table>\n",
       "<p>108 rows × 3 columns</p>\n",
       "</div>"
      ],
      "text/plain": [
       "       year  month   price\n",
       "0    2003.0    1.0  100.52\n",
       "1    2003.0    2.0  100.71\n",
       "2    2003.0    3.0  100.95\n",
       "3    2003.0    4.0  101.29\n",
       "4    2003.0    5.0  101.38\n",
       "..      ...    ...     ...\n",
       "103  2011.0    8.0  119.96\n",
       "104  2011.0    9.0  120.06\n",
       "105  2011.0   10.0  120.27\n",
       "106  2011.0   11.0  120.39\n",
       "107  2011.0   12.0  120.53\n",
       "\n",
       "[108 rows x 3 columns]"
      ]
     },
     "execution_count": 81,
     "metadata": {},
     "output_type": "execute_result"
    }
   ],
   "source": [
    "prices_raw = pd.read_csv(\"prices.csv\")\n",
    "prices_raw"
   ]
  },
  {
   "cell_type": "code",
   "execution_count": 82,
   "id": "effd224f",
   "metadata": {
    "deletable": false,
    "editable": false
   },
   "outputs": [
    {
     "data": {
      "text/html": [
       "<p><strong><pre style='display: inline;'>q1_1</pre></strong> passed! 🙌</p>"
      ],
      "text/plain": [
       "q1_1 results: All test cases passed!"
      ]
     },
     "execution_count": 82,
     "metadata": {},
     "output_type": "execute_result"
    }
   ],
   "source": [
    "grader.check(\"q1_1\")"
   ]
  },
  {
   "cell_type": "markdown",
   "id": "6beb99b5",
   "metadata": {},
   "source": [
    "First, we want to add a `date` row to this table that tells us the date, as a [Python date object](https://docs.python.org/3/library/datetime.html#datetime.date), of the entry. Let's define a function that, given a row, tells us the date of that row based on its `year` and `month`:"
   ]
  },
  {
   "cell_type": "code",
   "execution_count": 83,
   "id": "a136c24e",
   "metadata": {},
   "outputs": [],
   "source": [
    "def date_of_row(row):\n",
    "    return date(int(row['year']), int(row['month']), 1)"
   ]
  },
  {
   "cell_type": "markdown",
   "id": "3fc5176c",
   "metadata": {},
   "source": [
    "As an example, let's see what this function returns when applied to the first row:"
   ]
  },
  {
   "cell_type": "code",
   "execution_count": 84,
   "id": "67a50eb5",
   "metadata": {},
   "outputs": [
    {
     "data": {
      "text/plain": [
       "datetime.date(2003, 1, 1)"
      ]
     },
     "execution_count": 84,
     "metadata": {},
     "output_type": "execute_result"
    }
   ],
   "source": [
    "date_of_row(prices_raw.iloc[0])"
   ]
  },
  {
   "cell_type": "markdown",
   "id": "f5d44380",
   "metadata": {},
   "source": [
    "This looks good. So how do we apply it to every row in the table? Let's look at [the `pandas` documentation for the `apply` function](https://pandas.pydata.org/docs/reference/api/pandas.DataFrame.apply.html)."
   ]
  },
  {
   "cell_type": "markdown",
   "id": "c87277cb",
   "metadata": {},
   "source": [
    "<!-- BEGIN QUESTION -->\n",
    "\n",
    "**Question 1.2:** What is the `func` argument? What should we pass for the `func` argument in this case?"
   ]
  },
  {
   "cell_type": "markdown",
   "id": "a814161a",
   "metadata": {},
   "source": [
    "The func arg is just a param in which a function needs to be passed in."
   ]
  },
  {
   "cell_type": "markdown",
   "id": "b7bd858c",
   "metadata": {},
   "source": [
    "<!-- END QUESTION -->\n",
    "\n",
    "<!-- BEGIN QUESTION -->\n",
    "\n",
    "**Question 1.3:** What is the `axis` argument? What should we pass for the `axis` argument in this case?"
   ]
  },
  {
   "cell_type": "markdown",
   "id": "9645ce63",
   "metadata": {},
   "source": [
    "This is where the function will be applied. You can choose to apply it to either rows or columns."
   ]
  },
  {
   "cell_type": "markdown",
   "id": "c61df82a",
   "metadata": {},
   "source": [
    "<!-- END QUESTION -->\n",
    "\n",
    "**Question 1.4:** Now, construct a `date_column` using the `apply` function. "
   ]
  },
  {
   "cell_type": "code",
   "execution_count": 85,
   "id": "bdcf1a0e",
   "metadata": {
    "tags": []
   },
   "outputs": [
    {
     "data": {
      "text/plain": [
       "0      2003-01-01\n",
       "1      2003-02-01\n",
       "2      2003-03-01\n",
       "3      2003-04-01\n",
       "4      2003-05-01\n",
       "          ...    \n",
       "103    2011-08-01\n",
       "104    2011-09-01\n",
       "105    2011-10-01\n",
       "106    2011-11-01\n",
       "107    2011-12-01\n",
       "Length: 108, dtype: object"
      ]
     },
     "execution_count": 85,
     "metadata": {},
     "output_type": "execute_result"
    }
   ],
   "source": [
    "date_column = prices_raw.apply(date_of_row, axis=1)\n",
    "date_column"
   ]
  },
  {
   "cell_type": "code",
   "execution_count": 86,
   "id": "63fe98c4",
   "metadata": {
    "deletable": false,
    "editable": false
   },
   "outputs": [
    {
     "data": {
      "text/html": [
       "<p><strong><pre style='display: inline;'>q1_4</pre></strong> passed! 🌟</p>"
      ],
      "text/plain": [
       "q1_4 results: All test cases passed!"
      ]
     },
     "execution_count": 86,
     "metadata": {},
     "output_type": "execute_result"
    }
   ],
   "source": [
    "grader.check(\"q1_4\")"
   ]
  },
  {
   "cell_type": "markdown",
   "id": "132eb5cc",
   "metadata": {},
   "source": [
    "**Question 1.5:** Now we want to add the dates as a new column to `prices_raw`. Construct `prices_raw_with_date`, a dataframe containing all of the columns of `prices_raw`, as well as a `date` column with values from `date_column`."
   ]
  },
  {
   "cell_type": "code",
   "execution_count": 87,
   "id": "d4934c4e",
   "metadata": {
    "tags": []
   },
   "outputs": [
    {
     "data": {
      "text/html": [
       "<div>\n",
       "<style scoped>\n",
       "    .dataframe tbody tr th:only-of-type {\n",
       "        vertical-align: middle;\n",
       "    }\n",
       "\n",
       "    .dataframe tbody tr th {\n",
       "        vertical-align: top;\n",
       "    }\n",
       "\n",
       "    .dataframe thead th {\n",
       "        text-align: right;\n",
       "    }\n",
       "</style>\n",
       "<table border=\"1\" class=\"dataframe\">\n",
       "  <thead>\n",
       "    <tr style=\"text-align: right;\">\n",
       "      <th></th>\n",
       "      <th>year</th>\n",
       "      <th>month</th>\n",
       "      <th>price</th>\n",
       "      <th>date</th>\n",
       "    </tr>\n",
       "  </thead>\n",
       "  <tbody>\n",
       "    <tr>\n",
       "      <th>0</th>\n",
       "      <td>2003.0</td>\n",
       "      <td>1.0</td>\n",
       "      <td>100.52</td>\n",
       "      <td>2003-01-01</td>\n",
       "    </tr>\n",
       "    <tr>\n",
       "      <th>1</th>\n",
       "      <td>2003.0</td>\n",
       "      <td>2.0</td>\n",
       "      <td>100.71</td>\n",
       "      <td>2003-02-01</td>\n",
       "    </tr>\n",
       "    <tr>\n",
       "      <th>2</th>\n",
       "      <td>2003.0</td>\n",
       "      <td>3.0</td>\n",
       "      <td>100.95</td>\n",
       "      <td>2003-03-01</td>\n",
       "    </tr>\n",
       "    <tr>\n",
       "      <th>3</th>\n",
       "      <td>2003.0</td>\n",
       "      <td>4.0</td>\n",
       "      <td>101.29</td>\n",
       "      <td>2003-04-01</td>\n",
       "    </tr>\n",
       "    <tr>\n",
       "      <th>4</th>\n",
       "      <td>2003.0</td>\n",
       "      <td>5.0</td>\n",
       "      <td>101.38</td>\n",
       "      <td>2003-05-01</td>\n",
       "    </tr>\n",
       "    <tr>\n",
       "      <th>...</th>\n",
       "      <td>...</td>\n",
       "      <td>...</td>\n",
       "      <td>...</td>\n",
       "      <td>...</td>\n",
       "    </tr>\n",
       "    <tr>\n",
       "      <th>103</th>\n",
       "      <td>2011.0</td>\n",
       "      <td>8.0</td>\n",
       "      <td>119.96</td>\n",
       "      <td>2011-08-01</td>\n",
       "    </tr>\n",
       "    <tr>\n",
       "      <th>104</th>\n",
       "      <td>2011.0</td>\n",
       "      <td>9.0</td>\n",
       "      <td>120.06</td>\n",
       "      <td>2011-09-01</td>\n",
       "    </tr>\n",
       "    <tr>\n",
       "      <th>105</th>\n",
       "      <td>2011.0</td>\n",
       "      <td>10.0</td>\n",
       "      <td>120.27</td>\n",
       "      <td>2011-10-01</td>\n",
       "    </tr>\n",
       "    <tr>\n",
       "      <th>106</th>\n",
       "      <td>2011.0</td>\n",
       "      <td>11.0</td>\n",
       "      <td>120.39</td>\n",
       "      <td>2011-11-01</td>\n",
       "    </tr>\n",
       "    <tr>\n",
       "      <th>107</th>\n",
       "      <td>2011.0</td>\n",
       "      <td>12.0</td>\n",
       "      <td>120.53</td>\n",
       "      <td>2011-12-01</td>\n",
       "    </tr>\n",
       "  </tbody>\n",
       "</table>\n",
       "<p>108 rows × 4 columns</p>\n",
       "</div>"
      ],
      "text/plain": [
       "       year  month   price        date\n",
       "0    2003.0    1.0  100.52  2003-01-01\n",
       "1    2003.0    2.0  100.71  2003-02-01\n",
       "2    2003.0    3.0  100.95  2003-03-01\n",
       "3    2003.0    4.0  101.29  2003-04-01\n",
       "4    2003.0    5.0  101.38  2003-05-01\n",
       "..      ...    ...     ...         ...\n",
       "103  2011.0    8.0  119.96  2011-08-01\n",
       "104  2011.0    9.0  120.06  2011-09-01\n",
       "105  2011.0   10.0  120.27  2011-10-01\n",
       "106  2011.0   11.0  120.39  2011-11-01\n",
       "107  2011.0   12.0  120.53  2011-12-01\n",
       "\n",
       "[108 rows x 4 columns]"
      ]
     },
     "execution_count": 87,
     "metadata": {},
     "output_type": "execute_result"
    }
   ],
   "source": [
    "prices_raw_with_date = prices_raw.copy() # make a copy of prices_raw\n",
    "prices_raw_with_date[\"date\"] = date_column.values\n",
    "prices_raw_with_date"
   ]
  },
  {
   "cell_type": "code",
   "execution_count": 88,
   "id": "d5c3cba1",
   "metadata": {
    "deletable": false,
    "editable": false
   },
   "outputs": [
    {
     "data": {
      "text/html": [
       "<p><strong><pre style='display: inline;'>q1_5</pre></strong> passed! 🌈</p>"
      ],
      "text/plain": [
       "q1_5 results: All test cases passed!"
      ]
     },
     "execution_count": 88,
     "metadata": {},
     "output_type": "execute_result"
    }
   ],
   "source": [
    "grader.check(\"q1_5\")"
   ]
  },
  {
   "cell_type": "markdown",
   "id": "4780afcd",
   "metadata": {},
   "source": [
    "Note that another way to construct a new table with this new column is to use the [`assign` function](https://pandas.pydata.org/docs/reference/api/pandas.DataFrame.assign.html). The documentation might be a little confusing to read; when `**kwargs` is a parameter to a function, such as `assign`, it means that we can set its keywords and values like so:\n",
    "```python\n",
    "prices_raw.assign(keyword0=value0, keyword1=value1, keyword2=value2, ...)\n",
    "```\n",
    "The documentation says that, for the `assign` function, \"the [new] column names are keywords,\" so in this case, the keywords are the new column names, and the value corresponding a keyword is the data for that new column."
   ]
  },
  {
   "cell_type": "markdown",
   "id": "b513eb91",
   "metadata": {},
   "source": [
    "**Question 1.6:** Create a new table, `prices`, that contains only the `date` and `price` columns, in that order, from the `prices_raw_with_date` table."
   ]
  },
  {
   "cell_type": "code",
   "execution_count": 89,
   "id": "55b051aa",
   "metadata": {
    "tags": []
   },
   "outputs": [
    {
     "data": {
      "text/html": [
       "<div>\n",
       "<style scoped>\n",
       "    .dataframe tbody tr th:only-of-type {\n",
       "        vertical-align: middle;\n",
       "    }\n",
       "\n",
       "    .dataframe tbody tr th {\n",
       "        vertical-align: top;\n",
       "    }\n",
       "\n",
       "    .dataframe thead th {\n",
       "        text-align: right;\n",
       "    }\n",
       "</style>\n",
       "<table border=\"1\" class=\"dataframe\">\n",
       "  <thead>\n",
       "    <tr style=\"text-align: right;\">\n",
       "      <th></th>\n",
       "      <th>date</th>\n",
       "      <th>price</th>\n",
       "    </tr>\n",
       "  </thead>\n",
       "  <tbody>\n",
       "    <tr>\n",
       "      <th>0</th>\n",
       "      <td>2003-01-01</td>\n",
       "      <td>100.52</td>\n",
       "    </tr>\n",
       "    <tr>\n",
       "      <th>1</th>\n",
       "      <td>2003-02-01</td>\n",
       "      <td>100.71</td>\n",
       "    </tr>\n",
       "    <tr>\n",
       "      <th>2</th>\n",
       "      <td>2003-03-01</td>\n",
       "      <td>100.95</td>\n",
       "    </tr>\n",
       "    <tr>\n",
       "      <th>3</th>\n",
       "      <td>2003-04-01</td>\n",
       "      <td>101.29</td>\n",
       "    </tr>\n",
       "    <tr>\n",
       "      <th>4</th>\n",
       "      <td>2003-05-01</td>\n",
       "      <td>101.38</td>\n",
       "    </tr>\n",
       "    <tr>\n",
       "      <th>...</th>\n",
       "      <td>...</td>\n",
       "      <td>...</td>\n",
       "    </tr>\n",
       "    <tr>\n",
       "      <th>103</th>\n",
       "      <td>2011-08-01</td>\n",
       "      <td>119.96</td>\n",
       "    </tr>\n",
       "    <tr>\n",
       "      <th>104</th>\n",
       "      <td>2011-09-01</td>\n",
       "      <td>120.06</td>\n",
       "    </tr>\n",
       "    <tr>\n",
       "      <th>105</th>\n",
       "      <td>2011-10-01</td>\n",
       "      <td>120.27</td>\n",
       "    </tr>\n",
       "    <tr>\n",
       "      <th>106</th>\n",
       "      <td>2011-11-01</td>\n",
       "      <td>120.39</td>\n",
       "    </tr>\n",
       "    <tr>\n",
       "      <th>107</th>\n",
       "      <td>2011-12-01</td>\n",
       "      <td>120.53</td>\n",
       "    </tr>\n",
       "  </tbody>\n",
       "</table>\n",
       "<p>108 rows × 2 columns</p>\n",
       "</div>"
      ],
      "text/plain": [
       "           date   price\n",
       "0    2003-01-01  100.52\n",
       "1    2003-02-01  100.71\n",
       "2    2003-03-01  100.95\n",
       "3    2003-04-01  101.29\n",
       "4    2003-05-01  101.38\n",
       "..          ...     ...\n",
       "103  2011-08-01  119.96\n",
       "104  2011-09-01  120.06\n",
       "105  2011-10-01  120.27\n",
       "106  2011-11-01  120.39\n",
       "107  2011-12-01  120.53\n",
       "\n",
       "[108 rows x 2 columns]"
      ]
     },
     "execution_count": 89,
     "metadata": {},
     "output_type": "execute_result"
    }
   ],
   "source": [
    "prices = prices_raw_with_date[[\"date\", \"price\"]]\n",
    "prices"
   ]
  },
  {
   "cell_type": "code",
   "execution_count": 90,
   "id": "6399bf58",
   "metadata": {
    "deletable": false,
    "editable": false
   },
   "outputs": [
    {
     "data": {
      "text/html": [
       "<p><strong><pre style='display: inline;'>q1_6</pre></strong> passed! 🍀</p>"
      ],
      "text/plain": [
       "q1_6 results: All test cases passed!"
      ]
     },
     "execution_count": 90,
     "metadata": {},
     "output_type": "execute_result"
    }
   ],
   "source": [
    "grader.check(\"q1_6\")"
   ]
  },
  {
   "cell_type": "markdown",
   "id": "adfe12a3",
   "metadata": {},
   "source": [
    "**Question 1.7:** Now, we can filter the dataframe like we did in lecture. For example, we could get all rows where the price is between 105 and 115, exclusive. Put all of these rows in a new dataframe, `filtered_prices`."
   ]
  },
  {
   "cell_type": "code",
   "execution_count": 91,
   "id": "1d1eae6b",
   "metadata": {
    "tags": []
   },
   "outputs": [
    {
     "data": {
      "text/html": [
       "<div>\n",
       "<style scoped>\n",
       "    .dataframe tbody tr th:only-of-type {\n",
       "        vertical-align: middle;\n",
       "    }\n",
       "\n",
       "    .dataframe tbody tr th {\n",
       "        vertical-align: top;\n",
       "    }\n",
       "\n",
       "    .dataframe thead th {\n",
       "        text-align: right;\n",
       "    }\n",
       "</style>\n",
       "<table border=\"1\" class=\"dataframe\">\n",
       "  <thead>\n",
       "    <tr style=\"text-align: right;\">\n",
       "      <th></th>\n",
       "      <th>year</th>\n",
       "      <th>month</th>\n",
       "      <th>price</th>\n",
       "      <th>date</th>\n",
       "    </tr>\n",
       "  </thead>\n",
       "  <tbody>\n",
       "    <tr>\n",
       "      <th>19</th>\n",
       "      <td>2004.0</td>\n",
       "      <td>8.0</td>\n",
       "      <td>105.04</td>\n",
       "      <td>2004-08-01</td>\n",
       "    </tr>\n",
       "    <tr>\n",
       "      <th>20</th>\n",
       "      <td>2004.0</td>\n",
       "      <td>9.0</td>\n",
       "      <td>105.20</td>\n",
       "      <td>2004-09-01</td>\n",
       "    </tr>\n",
       "    <tr>\n",
       "      <th>21</th>\n",
       "      <td>2004.0</td>\n",
       "      <td>10.0</td>\n",
       "      <td>105.63</td>\n",
       "      <td>2004-10-01</td>\n",
       "    </tr>\n",
       "    <tr>\n",
       "      <th>22</th>\n",
       "      <td>2004.0</td>\n",
       "      <td>11.0</td>\n",
       "      <td>105.81</td>\n",
       "      <td>2004-11-01</td>\n",
       "    </tr>\n",
       "    <tr>\n",
       "      <th>23</th>\n",
       "      <td>2004.0</td>\n",
       "      <td>12.0</td>\n",
       "      <td>105.93</td>\n",
       "      <td>2004-12-01</td>\n",
       "    </tr>\n",
       "  </tbody>\n",
       "</table>\n",
       "</div>"
      ],
      "text/plain": [
       "      year  month   price        date\n",
       "19  2004.0    8.0  105.04  2004-08-01\n",
       "20  2004.0    9.0  105.20  2004-09-01\n",
       "21  2004.0   10.0  105.63  2004-10-01\n",
       "22  2004.0   11.0  105.81  2004-11-01\n",
       "23  2004.0   12.0  105.93  2004-12-01"
      ]
     },
     "execution_count": 91,
     "metadata": {},
     "output_type": "execute_result"
    }
   ],
   "source": [
    "filtered_prices = prices_raw_with_date.query(\"105 < price < 115\")\n",
    "filtered_prices.head()"
   ]
  },
  {
   "cell_type": "code",
   "execution_count": 92,
   "id": "60fb8078",
   "metadata": {
    "deletable": false,
    "editable": false
   },
   "outputs": [
    {
     "data": {
      "text/html": [
       "<p><strong><pre style='display: inline;'>q1_7</pre></strong> passed! 🙌</p>"
      ],
      "text/plain": [
       "q1_7 results: All test cases passed!"
      ]
     },
     "execution_count": 92,
     "metadata": {},
     "output_type": "execute_result"
    }
   ],
   "source": [
    "grader.check(\"q1_7\")"
   ]
  },
  {
   "cell_type": "markdown",
   "id": "52d75db8",
   "metadata": {},
   "source": [
    "**Question 1.8:** Make a new dataframe that contains just the first 5 rows of `filtered_prices` and assign it to `filtered_prices_subset`. \n",
    "\n",
    "Hint: Be careful if you choose to use `.loc` because the index does not start from 0. `.iloc` may be a better choice. "
   ]
  },
  {
   "cell_type": "code",
   "execution_count": 93,
   "id": "affcdd3d",
   "metadata": {
    "tags": []
   },
   "outputs": [
    {
     "data": {
      "text/html": [
       "<div>\n",
       "<style scoped>\n",
       "    .dataframe tbody tr th:only-of-type {\n",
       "        vertical-align: middle;\n",
       "    }\n",
       "\n",
       "    .dataframe tbody tr th {\n",
       "        vertical-align: top;\n",
       "    }\n",
       "\n",
       "    .dataframe thead th {\n",
       "        text-align: right;\n",
       "    }\n",
       "</style>\n",
       "<table border=\"1\" class=\"dataframe\">\n",
       "  <thead>\n",
       "    <tr style=\"text-align: right;\">\n",
       "      <th></th>\n",
       "      <th>year</th>\n",
       "      <th>month</th>\n",
       "      <th>price</th>\n",
       "      <th>date</th>\n",
       "    </tr>\n",
       "  </thead>\n",
       "  <tbody>\n",
       "    <tr>\n",
       "      <th>19</th>\n",
       "      <td>2004.0</td>\n",
       "      <td>8.0</td>\n",
       "      <td>105.04</td>\n",
       "      <td>2004-08-01</td>\n",
       "    </tr>\n",
       "    <tr>\n",
       "      <th>20</th>\n",
       "      <td>2004.0</td>\n",
       "      <td>9.0</td>\n",
       "      <td>105.20</td>\n",
       "      <td>2004-09-01</td>\n",
       "    </tr>\n",
       "    <tr>\n",
       "      <th>21</th>\n",
       "      <td>2004.0</td>\n",
       "      <td>10.0</td>\n",
       "      <td>105.63</td>\n",
       "      <td>2004-10-01</td>\n",
       "    </tr>\n",
       "    <tr>\n",
       "      <th>22</th>\n",
       "      <td>2004.0</td>\n",
       "      <td>11.0</td>\n",
       "      <td>105.81</td>\n",
       "      <td>2004-11-01</td>\n",
       "    </tr>\n",
       "    <tr>\n",
       "      <th>23</th>\n",
       "      <td>2004.0</td>\n",
       "      <td>12.0</td>\n",
       "      <td>105.93</td>\n",
       "      <td>2004-12-01</td>\n",
       "    </tr>\n",
       "  </tbody>\n",
       "</table>\n",
       "</div>"
      ],
      "text/plain": [
       "      year  month   price        date\n",
       "19  2004.0    8.0  105.04  2004-08-01\n",
       "20  2004.0    9.0  105.20  2004-09-01\n",
       "21  2004.0   10.0  105.63  2004-10-01\n",
       "22  2004.0   11.0  105.81  2004-11-01\n",
       "23  2004.0   12.0  105.93  2004-12-01"
      ]
     },
     "execution_count": 93,
     "metadata": {},
     "output_type": "execute_result"
    }
   ],
   "source": [
    "filtered_prices_subset = filtered_prices.head()\n",
    "filtered_prices_subset"
   ]
  },
  {
   "cell_type": "code",
   "execution_count": 94,
   "id": "a47af307",
   "metadata": {
    "deletable": false,
    "editable": false
   },
   "outputs": [
    {
     "data": {
      "text/html": [
       "<p><strong><pre style='display: inline;'>q1_8</pre></strong> passed! 💯</p>"
      ],
      "text/plain": [
       "q1_8 results: All test cases passed!"
      ]
     },
     "execution_count": 94,
     "metadata": {},
     "output_type": "execute_result"
    }
   ],
   "source": [
    "grader.check(\"q1_8\")"
   ]
  },
  {
   "cell_type": "markdown",
   "id": "e8a48543",
   "metadata": {},
   "source": [
    "Now, we can do some data analysis with the `filtered_prices` dataframe. We will discuss more advanced plotting later in the course. For now, we can make a simple plot using [the `plot` function](https://pandas.pydata.org/docs/reference/api/pandas.DataFrame.plot.html):"
   ]
  },
  {
   "cell_type": "code",
   "execution_count": 95,
   "id": "cd970e21",
   "metadata": {},
   "outputs": [
    {
     "data": {
      "image/png": "[encoded data removed]",
      "text/plain": [
       "<Figure size 640x480 with 1 Axes>"
      ]
     },
     "metadata": {},
     "output_type": "display_data"
    }
   ],
   "source": [
    "filtered_prices.plot();"
   ]
  },
  {
   "cell_type": "markdown",
   "id": "a0797a57",
   "metadata": {},
   "source": [
    "**Question 1.9:** The x-axis doesn't tell us much here. By reindexing the dataframe to the `date` column, we can make the x-axis more clear. Plot the data after reindexing `filtered_prices` on the `date` column."
   ]
  },
  {
   "cell_type": "code",
   "execution_count": 96,
   "id": "8794e2b7",
   "metadata": {
    "tags": []
   },
   "outputs": [
    {
     "data": {
      "image/png": "[encoded data removed]",
      "text/plain": [
       "<Figure size 640x480 with 1 Axes>"
      ]
     },
     "metadata": {},
     "output_type": "display_data"
    }
   ],
   "source": [
    "reindexed_filtered_prices = filtered_prices.reindex(filtered_prices[\"date\"])\n",
    "reindexed_filtered_prices.plot();"
   ]
  },
  {
   "cell_type": "code",
   "execution_count": 97,
   "id": "d042a26b",
   "metadata": {
    "deletable": false,
    "editable": false
   },
   "outputs": [
    {
     "data": {
      "text/html": [
       "<p><strong><pre style='display: inline;'>q1_9</pre></strong> passed! 🚀</p>"
      ],
      "text/plain": [
       "q1_9 results: All test cases passed!"
      ]
     },
     "execution_count": 97,
     "metadata": {},
     "output_type": "execute_result"
    }
   ],
   "source": [
    "grader.check(\"q1_9\")"
   ]
  },
  {
   "cell_type": "markdown",
   "id": "308af72d",
   "metadata": {},
   "source": [
    "## Section 2: Constructing a Phillips Curve"
   ]
  },
  {
   "cell_type": "markdown",
   "id": "52706b1e",
   "metadata": {},
   "source": [
    "In this example, we'll construct a Phillips curve, showing the relationship between unemployment and inflation. To start, we'll import `unemployment.csv` and `core_inflation.csv` into two dataframes, `unemployment` and `inflation`, respectively. \n",
    "\n",
    "The datasets are from [Federal Reserve Economic Data (FRED)](https://fred.stlouisfed.org/), a classical and very accessible data source for economics. We will also learn about how to get data from FRED using an API later! But for now, let's import the data manually. "
   ]
  },
  {
   "cell_type": "code",
   "execution_count": 98,
   "id": "5e28724b",
   "metadata": {},
   "outputs": [],
   "source": [
    "unemployment = pd.read_csv('unemployment.csv') # UNRATE\n",
    "inflation = pd.read_csv('core_inflation.csv') # CPILFESL_PC1"
   ]
  },
  {
   "cell_type": "code",
   "execution_count": 99,
   "id": "518dd5ec",
   "metadata": {},
   "outputs": [
    {
     "data": {
      "text/html": [
       "<div>\n",
       "<style scoped>\n",
       "    .dataframe tbody tr th:only-of-type {\n",
       "        vertical-align: middle;\n",
       "    }\n",
       "\n",
       "    .dataframe tbody tr th {\n",
       "        vertical-align: top;\n",
       "    }\n",
       "\n",
       "    .dataframe thead th {\n",
       "        text-align: right;\n",
       "    }\n",
       "</style>\n",
       "<table border=\"1\" class=\"dataframe\">\n",
       "  <thead>\n",
       "    <tr style=\"text-align: right;\">\n",
       "      <th></th>\n",
       "      <th>DATE</th>\n",
       "      <th>UNRATE</th>\n",
       "    </tr>\n",
       "  </thead>\n",
       "  <tbody>\n",
       "    <tr>\n",
       "      <th>0</th>\n",
       "      <td>1948-01-01</td>\n",
       "      <td>3.4</td>\n",
       "    </tr>\n",
       "    <tr>\n",
       "      <th>1</th>\n",
       "      <td>1948-02-01</td>\n",
       "      <td>3.8</td>\n",
       "    </tr>\n",
       "    <tr>\n",
       "      <th>2</th>\n",
       "      <td>1948-03-01</td>\n",
       "      <td>4.0</td>\n",
       "    </tr>\n",
       "    <tr>\n",
       "      <th>3</th>\n",
       "      <td>1948-04-01</td>\n",
       "      <td>3.9</td>\n",
       "    </tr>\n",
       "    <tr>\n",
       "      <th>4</th>\n",
       "      <td>1948-05-01</td>\n",
       "      <td>3.5</td>\n",
       "    </tr>\n",
       "    <tr>\n",
       "      <th>...</th>\n",
       "      <td>...</td>\n",
       "      <td>...</td>\n",
       "    </tr>\n",
       "    <tr>\n",
       "      <th>895</th>\n",
       "      <td>2022-08-01</td>\n",
       "      <td>3.7</td>\n",
       "    </tr>\n",
       "    <tr>\n",
       "      <th>896</th>\n",
       "      <td>2022-09-01</td>\n",
       "      <td>3.5</td>\n",
       "    </tr>\n",
       "    <tr>\n",
       "      <th>897</th>\n",
       "      <td>2022-10-01</td>\n",
       "      <td>3.7</td>\n",
       "    </tr>\n",
       "    <tr>\n",
       "      <th>898</th>\n",
       "      <td>2022-11-01</td>\n",
       "      <td>3.6</td>\n",
       "    </tr>\n",
       "    <tr>\n",
       "      <th>899</th>\n",
       "      <td>2022-12-01</td>\n",
       "      <td>3.5</td>\n",
       "    </tr>\n",
       "  </tbody>\n",
       "</table>\n",
       "<p>900 rows × 2 columns</p>\n",
       "</div>"
      ],
      "text/plain": [
       "           DATE  UNRATE\n",
       "0    1948-01-01     3.4\n",
       "1    1948-02-01     3.8\n",
       "2    1948-03-01     4.0\n",
       "3    1948-04-01     3.9\n",
       "4    1948-05-01     3.5\n",
       "..          ...     ...\n",
       "895  2022-08-01     3.7\n",
       "896  2022-09-01     3.5\n",
       "897  2022-10-01     3.7\n",
       "898  2022-11-01     3.6\n",
       "899  2022-12-01     3.5\n",
       "\n",
       "[900 rows x 2 columns]"
      ]
     },
     "execution_count": 99,
     "metadata": {},
     "output_type": "execute_result"
    }
   ],
   "source": [
    "unemployment"
   ]
  },
  {
   "cell_type": "code",
   "execution_count": 100,
   "id": "b7cae633",
   "metadata": {},
   "outputs": [
    {
     "data": {
      "text/html": [
       "<div>\n",
       "<style scoped>\n",
       "    .dataframe tbody tr th:only-of-type {\n",
       "        vertical-align: middle;\n",
       "    }\n",
       "\n",
       "    .dataframe tbody tr th {\n",
       "        vertical-align: top;\n",
       "    }\n",
       "\n",
       "    .dataframe thead th {\n",
       "        text-align: right;\n",
       "    }\n",
       "</style>\n",
       "<table border=\"1\" class=\"dataframe\">\n",
       "  <thead>\n",
       "    <tr style=\"text-align: right;\">\n",
       "      <th></th>\n",
       "      <th>DATE</th>\n",
       "      <th>CPILFESL_PC1</th>\n",
       "    </tr>\n",
       "  </thead>\n",
       "  <tbody>\n",
       "    <tr>\n",
       "      <th>0</th>\n",
       "      <td>1958-01-01</td>\n",
       "      <td>2.79720</td>\n",
       "    </tr>\n",
       "    <tr>\n",
       "      <th>1</th>\n",
       "      <td>1958-04-01</td>\n",
       "      <td>2.42775</td>\n",
       "    </tr>\n",
       "    <tr>\n",
       "      <th>2</th>\n",
       "      <td>1958-07-01</td>\n",
       "      <td>2.06659</td>\n",
       "    </tr>\n",
       "    <tr>\n",
       "      <th>3</th>\n",
       "      <td>1958-10-01</td>\n",
       "      <td>1.82232</td>\n",
       "    </tr>\n",
       "    <tr>\n",
       "      <th>4</th>\n",
       "      <td>1959-01-01</td>\n",
       "      <td>1.81406</td>\n",
       "    </tr>\n",
       "    <tr>\n",
       "      <th>...</th>\n",
       "      <td>...</td>\n",
       "      <td>...</td>\n",
       "    </tr>\n",
       "    <tr>\n",
       "      <th>255</th>\n",
       "      <td>2021-10-01</td>\n",
       "      <td>5.00808</td>\n",
       "    </tr>\n",
       "    <tr>\n",
       "      <th>256</th>\n",
       "      <td>2022-01-01</td>\n",
       "      <td>6.29779</td>\n",
       "    </tr>\n",
       "    <tr>\n",
       "      <th>257</th>\n",
       "      <td>2022-04-01</td>\n",
       "      <td>6.01857</td>\n",
       "    </tr>\n",
       "    <tr>\n",
       "      <th>258</th>\n",
       "      <td>2022-07-01</td>\n",
       "      <td>6.29602</td>\n",
       "    </tr>\n",
       "    <tr>\n",
       "      <th>259</th>\n",
       "      <td>2022-10-01</td>\n",
       "      <td>5.98561</td>\n",
       "    </tr>\n",
       "  </tbody>\n",
       "</table>\n",
       "<p>260 rows × 2 columns</p>\n",
       "</div>"
      ],
      "text/plain": [
       "           DATE  CPILFESL_PC1\n",
       "0    1958-01-01       2.79720\n",
       "1    1958-04-01       2.42775\n",
       "2    1958-07-01       2.06659\n",
       "3    1958-10-01       1.82232\n",
       "4    1959-01-01       1.81406\n",
       "..          ...           ...\n",
       "255  2021-10-01       5.00808\n",
       "256  2022-01-01       6.29779\n",
       "257  2022-04-01       6.01857\n",
       "258  2022-07-01       6.29602\n",
       "259  2022-10-01       5.98561\n",
       "\n",
       "[260 rows x 2 columns]"
      ]
     },
     "execution_count": 100,
     "metadata": {},
     "output_type": "execute_result"
    }
   ],
   "source": [
    "inflation"
   ]
  },
  {
   "cell_type": "markdown",
   "id": "b061293c",
   "metadata": {},
   "source": [
    "In order to combine these two datasets, we are going to perform an *inner join*. This will construct a new table that only contains rows where the value of `DATE` is the same in both tables. By doing so, we will be able to plot a graph where a point represents the inflation rate and federal funds rate *at the same point in time*. In `pandas`, to join two dataframes, we use the [`merge` function](https://pandas.pydata.org/docs/reference/api/pandas.DataFrame.merge.html). Take a look at the documentation, and use it to answer the following questions."
   ]
  },
  {
   "cell_type": "markdown",
   "id": "de78609c",
   "metadata": {},
   "source": [
    "<!-- BEGIN QUESTION -->\n",
    "\n",
    "**Question 2.1:** What should we pass for the `right` argument in this case?"
   ]
  },
  {
   "cell_type": "markdown",
   "id": "5406a495",
   "metadata": {},
   "source": [
    "This should be the df you want to merge, in this case, the inflation df."
   ]
  },
  {
   "cell_type": "markdown",
   "id": "d57e4ea2",
   "metadata": {},
   "source": [
    "<!-- END QUESTION -->\n",
    "\n",
    "<!-- BEGIN QUESTION -->\n",
    "\n",
    "**Question 2.2:** What is the `how` argument? What should we pass for the `how` argument in this case?"
   ]
  },
  {
   "cell_type": "markdown",
   "id": "0ec88913",
   "metadata": {},
   "source": [
    "\"inner\" should be passed since we want to conduct an inner join."
   ]
  },
  {
   "cell_type": "markdown",
   "id": "011774aa",
   "metadata": {},
   "source": [
    "<!-- END QUESTION -->\n",
    "\n",
    "<!-- BEGIN QUESTION -->\n",
    "\n",
    "**Question 2.3:** Take a look at the `on`, `left_on`, and `right_on` arguments. Note that for both tables, the name of the date column, `DATE`, is the same. Which of the `on`, `left_on`, and `right_on` arguments do we need to pass in this case, and what values should they take on?"
   ]
  },
  {
   "cell_type": "markdown",
   "id": "c9dbc3ec",
   "metadata": {},
   "source": [
    "On is the correct answer since both df's have a DATE column."
   ]
  },
  {
   "cell_type": "markdown",
   "id": "615f816d",
   "metadata": {},
   "source": [
    "<!-- END QUESTION -->\n",
    "\n",
    "**Question 2.4:** Based on the answers to the previous questions, construct `phillips_curve_df`, a dataframe with `DATE`, `CPILFESL_PC1`, and `FEDFUNDS` columns by merging the `unemployment` and `inflation` dataframes."
   ]
  },
  {
   "cell_type": "code",
   "execution_count": 101,
   "id": "c1384385",
   "metadata": {
    "tags": []
   },
   "outputs": [
    {
     "data": {
      "text/html": [
       "<div>\n",
       "<style scoped>\n",
       "    .dataframe tbody tr th:only-of-type {\n",
       "        vertical-align: middle;\n",
       "    }\n",
       "\n",
       "    .dataframe tbody tr th {\n",
       "        vertical-align: top;\n",
       "    }\n",
       "\n",
       "    .dataframe thead th {\n",
       "        text-align: right;\n",
       "    }\n",
       "</style>\n",
       "<table border=\"1\" class=\"dataframe\">\n",
       "  <thead>\n",
       "    <tr style=\"text-align: right;\">\n",
       "      <th></th>\n",
       "      <th>DATE</th>\n",
       "      <th>UNRATE</th>\n",
       "      <th>CPILFESL_PC1</th>\n",
       "    </tr>\n",
       "  </thead>\n",
       "  <tbody>\n",
       "    <tr>\n",
       "      <th>0</th>\n",
       "      <td>1958-01-01</td>\n",
       "      <td>5.8</td>\n",
       "      <td>2.79720</td>\n",
       "    </tr>\n",
       "    <tr>\n",
       "      <th>1</th>\n",
       "      <td>1958-04-01</td>\n",
       "      <td>7.4</td>\n",
       "      <td>2.42775</td>\n",
       "    </tr>\n",
       "    <tr>\n",
       "      <th>2</th>\n",
       "      <td>1958-07-01</td>\n",
       "      <td>7.5</td>\n",
       "      <td>2.06659</td>\n",
       "    </tr>\n",
       "    <tr>\n",
       "      <th>3</th>\n",
       "      <td>1958-10-01</td>\n",
       "      <td>6.7</td>\n",
       "      <td>1.82232</td>\n",
       "    </tr>\n",
       "    <tr>\n",
       "      <th>4</th>\n",
       "      <td>1959-01-01</td>\n",
       "      <td>6.0</td>\n",
       "      <td>1.81406</td>\n",
       "    </tr>\n",
       "    <tr>\n",
       "      <th>...</th>\n",
       "      <td>...</td>\n",
       "      <td>...</td>\n",
       "      <td>...</td>\n",
       "    </tr>\n",
       "    <tr>\n",
       "      <th>255</th>\n",
       "      <td>2021-10-01</td>\n",
       "      <td>4.5</td>\n",
       "      <td>5.00808</td>\n",
       "    </tr>\n",
       "    <tr>\n",
       "      <th>256</th>\n",
       "      <td>2022-01-01</td>\n",
       "      <td>4.0</td>\n",
       "      <td>6.29779</td>\n",
       "    </tr>\n",
       "    <tr>\n",
       "      <th>257</th>\n",
       "      <td>2022-04-01</td>\n",
       "      <td>3.6</td>\n",
       "      <td>6.01857</td>\n",
       "    </tr>\n",
       "    <tr>\n",
       "      <th>258</th>\n",
       "      <td>2022-07-01</td>\n",
       "      <td>3.5</td>\n",
       "      <td>6.29602</td>\n",
       "    </tr>\n",
       "    <tr>\n",
       "      <th>259</th>\n",
       "      <td>2022-10-01</td>\n",
       "      <td>3.7</td>\n",
       "      <td>5.98561</td>\n",
       "    </tr>\n",
       "  </tbody>\n",
       "</table>\n",
       "<p>260 rows × 3 columns</p>\n",
       "</div>"
      ],
      "text/plain": [
       "           DATE  UNRATE  CPILFESL_PC1\n",
       "0    1958-01-01     5.8       2.79720\n",
       "1    1958-04-01     7.4       2.42775\n",
       "2    1958-07-01     7.5       2.06659\n",
       "3    1958-10-01     6.7       1.82232\n",
       "4    1959-01-01     6.0       1.81406\n",
       "..          ...     ...           ...\n",
       "255  2021-10-01     4.5       5.00808\n",
       "256  2022-01-01     4.0       6.29779\n",
       "257  2022-04-01     3.6       6.01857\n",
       "258  2022-07-01     3.5       6.29602\n",
       "259  2022-10-01     3.7       5.98561\n",
       "\n",
       "[260 rows x 3 columns]"
      ]
     },
     "execution_count": 101,
     "metadata": {},
     "output_type": "execute_result"
    }
   ],
   "source": [
    "phillips_curve_df = unemployment.merge(inflation, on=\"DATE\")\n",
    "phillips_curve_df"
   ]
  },
  {
   "cell_type": "code",
   "execution_count": 102,
   "id": "e14be24a",
   "metadata": {
    "deletable": false,
    "editable": false
   },
   "outputs": [
    {
     "data": {
      "text/html": [
       "<p><strong><pre style='display: inline;'>q2_4</pre></strong> passed! 🍀</p>"
      ],
      "text/plain": [
       "q2_4 results: All test cases passed!"
      ]
     },
     "execution_count": 102,
     "metadata": {},
     "output_type": "execute_result"
    }
   ],
   "source": [
    "grader.check(\"q2_4\")"
   ]
  },
  {
   "cell_type": "markdown",
   "id": "cfac3f9b",
   "metadata": {},
   "source": [
    "And now we can graph our empirical Phillips curve!"
   ]
  },
  {
   "cell_type": "code",
   "execution_count": 103,
   "id": "c68cc290",
   "metadata": {},
   "outputs": [
    {
     "data": {
      "image/png": "[encoded data removed]",
      "text/plain": [
       "<Figure size 640x480 with 1 Axes>"
      ]
     },
     "metadata": {},
     "output_type": "display_data"
    }
   ],
   "source": [
    "phillips_curve_df.plot.scatter('UNRATE', 'CPILFESL_PC1');"
   ]
  },
  {
   "cell_type": "markdown",
   "id": "148b03f1",
   "metadata": {},
   "source": [
    "<!-- BEGIN QUESTION -->\n",
    "\n",
    "**Question 2.5:** How does this empirical Phillips curve match with your expectation? \n",
    "\n",
    "Note: If you are not familiar with Phillips curve, feel free to skim through [this chapter](https://data-88e.github.io/textbook/content/09-macro/phillips_curve.html) from Data 88E. "
   ]
  },
  {
   "cell_type": "markdown",
   "id": "47c487b6",
   "metadata": {},
   "source": [
    "This doesn't really match with the Phillips Curve, which is suppoised to show an inverse relationship between inflation and unemployment. This means that if inflation rises, the unemployment rate goes up and vice versa. Here we see many scattered and seemingly uncorrelated points."
   ]
  },
  {
   "cell_type": "markdown",
   "id": "f6b12939",
   "metadata": {},
   "source": [
    "<!-- END QUESTION -->\n",
    "\n",
    "Congratulations! You're done with Econ 148 Lab 1!"
   ]
  },
  {
   "cell_type": "markdown",
   "id": "6954b0bc",
   "metadata": {},
   "source": [
    "## Feedback"
   ]
  },
  {
   "cell_type": "markdown",
   "id": "304cbaa5",
   "metadata": {},
   "source": [
    "**Question 3:** Please fill out this short [feedback form](https://forms.gle/jCG7VvhptpzTfTFG6) to let us know your thoughts on this lab! We really appreciate your opinions and feedbacks! At the end of the Google form, you should see a codeword. Assign the codeword to the variable `codeword` below. "
   ]
  },
  {
   "cell_type": "code",
   "execution_count": 104,
   "id": "f114c1e8",
   "metadata": {
    "tags": []
   },
   "outputs": [],
   "source": [
    "codeword = \"iloc\""
   ]
  },
  {
   "cell_type": "code",
   "execution_count": 105,
   "id": "67a7de97",
   "metadata": {
    "deletable": false,
    "editable": false
   },
   "outputs": [
    {
     "data": {
      "text/html": [
       "<p><strong><pre style='display: inline;'>q3</pre></strong> passed! 🚀</p>"
      ],
      "text/plain": [
       "q3 results: All test cases passed!"
      ]
     },
     "execution_count": 105,
     "metadata": {},
     "output_type": "execute_result"
    }
   ],
   "source": [
    "grader.check(\"q3\")"
   ]
  },
  {
   "cell_type": "markdown",
   "id": "14d8f177",
   "metadata": {
    "deletable": false,
    "editable": false
   },
   "source": [
    "## Submission\n",
    "\n",
    "Make sure you have run all cells in your notebook in order before running the cell below, so that all images/graphs appear in the output. The cell below will generate a zip file for you to submit. **Please save before exporting!**"
   ]
  },
  {
   "cell_type": "code",
   "execution_count": 106,
   "id": "f1daf974",
   "metadata": {
    "deletable": false,
    "editable": false
   },
   "outputs": [
    {
     "name": "stdout",
     "output_type": "stream",
     "text": [
      "Running your submission against local test cases...\n",
      "\n",
      "\n",
      "\n",
      "Your submission received the following results when run against available test cases:\n",
      "\n",
      "    q1_1 results: All test cases passed!\n",
      "\n",
      "    q1_4 results: All test cases passed!\n",
      "\n",
      "    q1_5 results: All test cases passed!\n",
      "\n",
      "    q1_6 results: All test cases passed!\n",
      "\n",
      "    q1_7 results: All test cases passed!\n",
      "\n",
      "    q1_8 results: All test cases passed!\n",
      "\n",
      "    q1_9 results: All test cases passed!\n",
      "\n",
      "    q2_4 results: All test cases passed!\n",
      "\n",
      "    q3 results:\n",
      "        q3 - 1 result:\n",
      "            ❌ Test case failed\n",
      "            Trying:\n",
      "                sum([ord(c) for c in codeword])^0xec148 == 966895\n",
      "            Expecting:\n",
      "                True\n",
      "            **********************************************************************\n",
      "            Line 1, in q3 0\n",
      "            Failed example:\n",
      "                sum([ord(c) for c in codeword])^0xec148 == 966895\n",
      "            Exception raised:\n",
      "                Traceback (most recent call last):\n",
      "                  File \"/opt/conda/lib/python3.9/doctest.py\", line 1334, in __run\n",
      "                    exec(compile(example.source, filename, \"single\",\n",
      "                  File \"<doctest q3 0[0]>\", line 1, in <module>\n",
      "                    sum([ord(c) for c in codeword])^0xec148 == 966895\n",
      "                TypeError: 'ellipsis' object is not iterable\n"
     ]
    },
    {
     "data": {
      "text/html": [
       "\n",
       "            <p>Your submission has been exported. Click <a href=\"lab01_2023_01_19T20_47_16_525218.zip\" download=\"lab01_2023_01_19T20_47_16_525218.zip\" target=\"_blank\">here</a>\n",
       "            to download the zip file.</p>\n",
       "            "
      ],
      "text/plain": [
       "<IPython.core.display.HTML object>"
      ]
     },
     "metadata": {},
     "output_type": "display_data"
    }
   ],
   "source": [
    "# Save your notebook first, then run this cell to export your submission.\n",
    "grader.export(run_tests=True)"
   ]
  },
  {
   "cell_type": "markdown",
   "id": "427db09e",
   "metadata": {},
   "source": [
    " "
   ]
  }
 ],
 "metadata": {
  "kernelspec": {
   "display_name": "Python 3 (ipykernel)",
   "language": "python",
   "name": "python3"
  },
  "language_info": {
   "codemirror_mode": {
    "name": "ipython",
    "version": 3
   },
   "file_extension": ".py",
   "mimetype": "text/x-python",
   "name": "python",
   "nbconvert_exporter": "python",
   "pygments_lexer": "ipython3",
   "version": "3.9.15"
  },
  "otter": {
   "OK_FORMAT": true,
   "tests": {
    "q1_1": {
     "name": "q1_1",
     "points": 2,
     "suites": [
      {
       "cases": [
        {
         "code": ">>> prices_raw.iloc[4]['price'] == 101.38\nTrue",
         "hidden": false,
         "locked": false
        }
       ],
       "scored": true,
       "setup": "",
       "teardown": "",
       "type": "doctest"
      }
     ]
    },
    "q1_4": {
     "name": "q1_4",
     "points": 2,
     "suites": [
      {
       "cases": [
        {
         "code": ">>> date_column[4].year == 2003 and date_column[4].month == 5 and date_column[4].day == 1\nTrue",
         "hidden": false,
         "locked": false
        }
       ],
       "scored": true,
       "setup": "",
       "teardown": "",
       "type": "doctest"
      }
     ]
    },
    "q1_5": {
     "name": "q1_5",
     "points": 2,
     "suites": [
      {
       "cases": [
        {
         "code": ">>> prices_raw_with_date.iloc[4]['date'].year == 2003 and prices_raw_with_date.iloc[4]['date'].month == 5 and prices_raw_with_date.iloc[4]['date'].day == 1\nTrue",
         "hidden": false,
         "locked": false
        }
       ],
       "scored": true,
       "setup": "",
       "teardown": "",
       "type": "doctest"
      }
     ]
    },
    "q1_6": {
     "name": "q1_6",
     "points": 2,
     "suites": [
      {
       "cases": [
        {
         "code": ">>> prices.iloc[:,0][4].year == 2003 and prices.iloc[:,0][4].month == 5 and prices.iloc[:,0][4].day == 1 and prices.iloc[:,1][4] == 101.38\nTrue",
         "hidden": false,
         "locked": false
        }
       ],
       "scored": true,
       "setup": "",
       "teardown": "",
       "type": "doctest"
      }
     ]
    },
    "q1_7": {
     "name": "q1_7",
     "points": 2,
     "suites": [
      {
       "cases": [
        {
         "code": ">>> filtered_prices.iloc[4].date.year == 2004 and filtered_prices.iloc[4].date.month == 12 and filtered_prices.iloc[4].date.day == 1 and filtered_prices.iloc[4].price == 105.93\nTrue",
         "hidden": false,
         "locked": false
        }
       ],
       "scored": true,
       "setup": "",
       "teardown": "",
       "type": "doctest"
      }
     ]
    },
    "q1_8": {
     "name": "q1_8",
     "points": 2,
     "suites": [
      {
       "cases": [
        {
         "code": ">>> filtered_prices_subset.iloc[4].date.year == 2004 and filtered_prices_subset.iloc[4].date.month == 12 and filtered_prices_subset.iloc[4].date.day == 1 and filtered_prices_subset.iloc[4].price == 105.93\nTrue",
         "hidden": false,
         "locked": false
        }
       ],
       "scored": true,
       "setup": "",
       "teardown": "",
       "type": "doctest"
      }
     ]
    },
    "q1_9": {
     "name": "q1_9",
     "points": 2,
     "suites": [
      {
       "cases": [
        {
         "code": ">>> reindexed_filtered_prices.index[4].year == 2004 and reindexed_filtered_prices.index[4].month == 12 and reindexed_filtered_prices.index[4].day == 1\nTrue",
         "hidden": false,
         "locked": false
        }
       ],
       "scored": true,
       "setup": "",
       "teardown": "",
       "type": "doctest"
      }
     ]
    },
    "q2_4": {
     "name": "q2_4",
     "points": 2,
     "suites": [
      {
       "cases": [
        {
         "code": ">>> phillips_curve_df.iloc[4].DATE == '1959-01-01' and phillips_curve_df.iloc[4].UNRATE == 6 and phillips_curve_df.iloc[4].CPILFESL_PC1 == 1.81406\nTrue",
         "hidden": false,
         "locked": false
        }
       ],
       "scored": true,
       "setup": "",
       "teardown": "",
       "type": "doctest"
      }
     ]
    },
    "q3": {
     "name": "q3",
     "points": 1,
     "suites": [
      {
       "cases": [
        {
         "code": ">>> sum([ord(c) for c in codeword])^0xec148 == 966895\nTrue",
         "hidden": false,
         "locked": false
        }
       ],
       "scored": true,
       "setup": "",
       "teardown": "",
       "type": "doctest"
      }
     ]
    }
   }
  }
 },
 "nbformat": 4,
 "nbformat_minor": 5
}
