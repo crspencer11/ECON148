{
 "cells": [
  {
   "cell_type": "code",
   "execution_count": 57,
   "id": "bacd1340",
   "metadata": {
    "deletable": false,
    "editable": false
   },
   "outputs": [],
   "source": [
    "# Initialize Otter\n",
    "import otter\n",
    "grader = otter.Notebook(\"lab04.ipynb\")"
   ]
  },
  {
   "cell_type": "code",
   "execution_count": 58,
   "id": "7c815196",
   "metadata": {},
   "outputs": [],
   "source": [
    "import sqlalchemy\n",
    "import sqlite3\n",
    "import pandas as pd\n",
    "import numpy as np"
   ]
  },
  {
   "cell_type": "markdown",
   "id": "763ba850",
   "metadata": {},
   "source": [
    "# Lab 4: SQL \n",
    "This notebook is an introduction to SQL. **We will be working with a SQLite dataset: the International Debt (2) Database collected by [the World Bank](https://www.worldbank.org/en/programs/debt-statistics/ids#standard). The dataset contains information about the amount of debt (in USD) owed by developing countries across several categories.** We are going to find the answers to questions like:\n",
    "\n",
    "- What is the total amount of debt that is owed by the countries listed in the dataset?\n",
    "- Which country owns the maximum amount of debt and what does that amount look like?\n",
    "- What is the average amount of debt owed by countries across different debt indicators? \n",
    "\n",
    "From the International Debt (2) Database, we will be working with the debt table that includes 5 columns and 2357 rows. We will use this international debt database table to practice basic SQL queries with [SQL magic functions](https://jupyter-tutorial.readthedocs.io/en/stable/data-processing/postgresql/ipython-sql.html). "
   ]
  },
  {
   "cell_type": "markdown",
   "id": "cb87f55c",
   "metadata": {},
   "source": [
    "**Learning Objectives:**   \n",
    "- Practice basic SQL queries\n",
    "- Translate between SQL queries and Pandas methods"
   ]
  },
  {
   "cell_type": "markdown",
   "id": "7bf8d8df",
   "metadata": {},
   "source": [
    "## Setup"
   ]
  },
  {
   "cell_type": "code",
   "execution_count": 59,
   "id": "9136163a",
   "metadata": {},
   "outputs": [],
   "source": [
    "# %load_ext sql\n",
    "%reload_ext sql"
   ]
  },
  {
   "cell_type": "code",
   "execution_count": 60,
   "id": "3e38b4d1",
   "metadata": {},
   "outputs": [],
   "source": [
    "# create a SQL Alchemy connection to the database\n",
    "%sql sqlite:///international_debt_2.db\n",
    "conn = sqlite3.connect(\"international_debt_2.db\")\n",
    "engine = sqlalchemy.create_engine(\"sqlite:///international_debt_2.db\")"
   ]
  },
  {
   "cell_type": "markdown",
   "id": "1242bf64",
   "metadata": {},
   "source": [
    "Let's load in the database by using cell magic so that we can explore the database. "
   ]
  },
  {
   "cell_type": "code",
   "execution_count": 61,
   "id": "e81741b6",
   "metadata": {},
   "outputs": [
    {
     "name": "stdout",
     "output_type": "stream",
     "text": [
      " * sqlite:///international_debt_2.db\n",
      "Done.\n"
     ]
    },
    {
     "data": {
      "text/html": [
       "<table>\n",
       "    <tr>\n",
       "        <th>type</th>\n",
       "        <th>name</th>\n",
       "        <th>tbl_name</th>\n",
       "        <th>rootpage</th>\n",
       "        <th>sql</th>\n",
       "    </tr>\n",
       "    <tr>\n",
       "        <td>table</td>\n",
       "        <td>debt</td>\n",
       "        <td>debt</td>\n",
       "        <td>2</td>\n",
       "        <td>CREATE TABLE debt (country_name CHAR (50), country_code CHAR (50), indicator_name TEXT, indicator_code TEXT, debt NUMERIC)</td>\n",
       "    </tr>\n",
       "</table>"
      ],
      "text/plain": [
       "[('table', 'debt', 'debt', 2, 'CREATE TABLE debt (country_name CHAR (50), country_code CHAR (50), indicator_name TEXT, indicator_code TEXT, debt NUMERIC)')]"
      ]
     },
     "execution_count": 61,
     "metadata": {},
     "output_type": "execute_result"
    }
   ],
   "source": [
    "%%sql\n",
    "SELECT * FROM sqlite_master WHERE type='table';"
   ]
  },
  {
   "cell_type": "markdown",
   "id": "1d48449a",
   "metadata": {},
   "source": [
    "From running the above cell, we see the database has one table debt that we will be using in this notebook."
   ]
  },
  {
   "cell_type": "markdown",
   "id": "abe997bd",
   "metadata": {},
   "source": [
    "---\n",
    "## Part 1: Exploring the Data"
   ]
  },
  {
   "cell_type": "markdown",
   "id": "41ef7875",
   "metadata": {},
   "source": [
    "We want to read the data from a SQL database using a SQL query. \n",
    "\n",
    "SQL queries will be written within \"\"\"s in the beginning and end of the code. After the query is written, we will use `pd.read_sql(query, engine)` to return a Pandas dataframe of the output data. An outline of a written query with the corresponding pandas function is shown below.\n",
    "\n",
    "```python\n",
    "# write the SQL query here\n",
    "query = \"\"\"\n",
    "SELECT ...\n",
    "\"\"\"\n",
    "# this will execute the query and return a Pandas dataframe\n",
    "output = pd.read_sql(query, engine)\n",
    "```"
   ]
  },
  {
   "cell_type": "markdown",
   "id": "8938364c",
   "metadata": {},
   "source": [
    "As an example, if we want to select everything from the `debt` table, we can do the following:\n",
    "```python\n",
    "query = \"\"\"\n",
    "SELECT * \n",
    "FROM debt\n",
    "\"\"\"\n",
    "\n",
    "output = pd.read_sql(query, engine)\n",
    "```"
   ]
  },
  {
   "cell_type": "markdown",
   "id": "3104cbd4",
   "metadata": {},
   "source": [
    "**Question 1.1:** Try this yourself: copy the SQL query from above that selects all the values from the `debt` table. "
   ]
  },
  {
   "cell_type": "code",
   "execution_count": 62,
   "id": "4ff29554",
   "metadata": {
    "tags": []
   },
   "outputs": [
    {
     "data": {
      "text/html": [
       "<div>\n",
       "<style scoped>\n",
       "    .dataframe tbody tr th:only-of-type {\n",
       "        vertical-align: middle;\n",
       "    }\n",
       "\n",
       "    .dataframe tbody tr th {\n",
       "        vertical-align: top;\n",
       "    }\n",
       "\n",
       "    .dataframe thead th {\n",
       "        text-align: right;\n",
       "    }\n",
       "</style>\n",
       "<table border=\"1\" class=\"dataframe\">\n",
       "  <thead>\n",
       "    <tr style=\"text-align: right;\">\n",
       "      <th></th>\n",
       "      <th>country_name</th>\n",
       "      <th>country_code</th>\n",
       "      <th>indicator_name</th>\n",
       "      <th>indicator_code</th>\n",
       "      <th>debt</th>\n",
       "    </tr>\n",
       "  </thead>\n",
       "  <tbody>\n",
       "    <tr>\n",
       "      <th>0</th>\n",
       "      <td>Afghanistan</td>\n",
       "      <td>AFG</td>\n",
       "      <td>Disbursements on external debt, long-term (DIS...</td>\n",
       "      <td>DT.DIS.DLXF.CD</td>\n",
       "      <td>72894453.7</td>\n",
       "    </tr>\n",
       "    <tr>\n",
       "      <th>1</th>\n",
       "      <td>Afghanistan</td>\n",
       "      <td>AFG</td>\n",
       "      <td>Interest payments on external debt, long-term ...</td>\n",
       "      <td>DT.INT.DLXF.CD</td>\n",
       "      <td>53239440.1</td>\n",
       "    </tr>\n",
       "    <tr>\n",
       "      <th>2</th>\n",
       "      <td>Afghanistan</td>\n",
       "      <td>AFG</td>\n",
       "      <td>PPG, bilateral (AMT, current US$)</td>\n",
       "      <td>DT.AMT.BLAT.CD</td>\n",
       "      <td>61739336.9</td>\n",
       "    </tr>\n",
       "    <tr>\n",
       "      <th>3</th>\n",
       "      <td>Afghanistan</td>\n",
       "      <td>AFG</td>\n",
       "      <td>PPG, bilateral (DIS, current US$)</td>\n",
       "      <td>DT.DIS.BLAT.CD</td>\n",
       "      <td>49114729.4</td>\n",
       "    </tr>\n",
       "    <tr>\n",
       "      <th>4</th>\n",
       "      <td>Afghanistan</td>\n",
       "      <td>AFG</td>\n",
       "      <td>PPG, bilateral (INT, current US$)</td>\n",
       "      <td>DT.INT.BLAT.CD</td>\n",
       "      <td>39903620.1</td>\n",
       "    </tr>\n",
       "    <tr>\n",
       "      <th>...</th>\n",
       "      <td>...</td>\n",
       "      <td>...</td>\n",
       "      <td>...</td>\n",
       "      <td>...</td>\n",
       "      <td>...</td>\n",
       "    </tr>\n",
       "    <tr>\n",
       "      <th>2352</th>\n",
       "      <td>Zimbabwe</td>\n",
       "      <td>ZWE</td>\n",
       "      <td>PPG, official creditors (AMT, current US$)</td>\n",
       "      <td>DT.AMT.OFFT.CD</td>\n",
       "      <td>98492119.9</td>\n",
       "    </tr>\n",
       "    <tr>\n",
       "      <th>2353</th>\n",
       "      <td>Zimbabwe</td>\n",
       "      <td>ZWE</td>\n",
       "      <td>PPG, official creditors (DIS, current US$)</td>\n",
       "      <td>DT.DIS.OFFT.CD</td>\n",
       "      <td>44396033.7</td>\n",
       "    </tr>\n",
       "    <tr>\n",
       "      <th>2354</th>\n",
       "      <td>Zimbabwe</td>\n",
       "      <td>ZWE</td>\n",
       "      <td>PPG, official creditors (INT, current US$)</td>\n",
       "      <td>DT.INT.OFFT.CD</td>\n",
       "      <td>15761660.0</td>\n",
       "    </tr>\n",
       "    <tr>\n",
       "      <th>2355</th>\n",
       "      <td>Zimbabwe</td>\n",
       "      <td>ZWE</td>\n",
       "      <td>Principal repayments on external debt, long-te...</td>\n",
       "      <td>DT.AMT.DLXF.CD</td>\n",
       "      <td>461632253.7</td>\n",
       "    </tr>\n",
       "    <tr>\n",
       "      <th>2356</th>\n",
       "      <td>Zimbabwe</td>\n",
       "      <td>ZWE</td>\n",
       "      <td>Principal repayments on external debt, private...</td>\n",
       "      <td>DT.AMT.DPNG.CD</td>\n",
       "      <td>363140133.8</td>\n",
       "    </tr>\n",
       "  </tbody>\n",
       "</table>\n",
       "<p>2357 rows × 5 columns</p>\n",
       "</div>"
      ],
      "text/plain": [
       "     country_name country_code  \\\n",
       "0     Afghanistan          AFG   \n",
       "1     Afghanistan          AFG   \n",
       "2     Afghanistan          AFG   \n",
       "3     Afghanistan          AFG   \n",
       "4     Afghanistan          AFG   \n",
       "...           ...          ...   \n",
       "2352     Zimbabwe          ZWE   \n",
       "2353     Zimbabwe          ZWE   \n",
       "2354     Zimbabwe          ZWE   \n",
       "2355     Zimbabwe          ZWE   \n",
       "2356     Zimbabwe          ZWE   \n",
       "\n",
       "                                         indicator_name  indicator_code  \\\n",
       "0     Disbursements on external debt, long-term (DIS...  DT.DIS.DLXF.CD   \n",
       "1     Interest payments on external debt, long-term ...  DT.INT.DLXF.CD   \n",
       "2                     PPG, bilateral (AMT, current US$)  DT.AMT.BLAT.CD   \n",
       "3                     PPG, bilateral (DIS, current US$)  DT.DIS.BLAT.CD   \n",
       "4                     PPG, bilateral (INT, current US$)  DT.INT.BLAT.CD   \n",
       "...                                                 ...             ...   \n",
       "2352         PPG, official creditors (AMT, current US$)  DT.AMT.OFFT.CD   \n",
       "2353         PPG, official creditors (DIS, current US$)  DT.DIS.OFFT.CD   \n",
       "2354         PPG, official creditors (INT, current US$)  DT.INT.OFFT.CD   \n",
       "2355  Principal repayments on external debt, long-te...  DT.AMT.DLXF.CD   \n",
       "2356  Principal repayments on external debt, private...  DT.AMT.DPNG.CD   \n",
       "\n",
       "             debt  \n",
       "0      72894453.7  \n",
       "1      53239440.1  \n",
       "2      61739336.9  \n",
       "3      49114729.4  \n",
       "4      39903620.1  \n",
       "...           ...  \n",
       "2352   98492119.9  \n",
       "2353   44396033.7  \n",
       "2354   15761660.0  \n",
       "2355  461632253.7  \n",
       "2356  363140133.8  \n",
       "\n",
       "[2357 rows x 5 columns]"
      ]
     },
     "execution_count": 62,
     "metadata": {},
     "output_type": "execute_result"
    }
   ],
   "source": [
    "q1_1 = \"\"\"\n",
    "SELECT *\n",
    "FROM debt\n",
    "\"\"\"\n",
    "\n",
    "res_q1_1 = pd.read_sql(q1_1, engine)\n",
    "res_q1_1"
   ]
  },
  {
   "cell_type": "code",
   "execution_count": 63,
   "id": "7307f2ec",
   "metadata": {
    "deletable": false,
    "editable": false
   },
   "outputs": [
    {
     "data": {
      "text/html": [
       "<p><strong><pre style='display: inline;'>q1_1</pre></strong> passed! 🎉</p>"
      ],
      "text/plain": [
       "q1_1 results: All test cases passed!"
      ]
     },
     "execution_count": 63,
     "metadata": {},
     "output_type": "execute_result"
    }
   ],
   "source": [
    "grader.check(\"q1_1\")"
   ]
  },
  {
   "cell_type": "markdown",
   "id": "38aca9c5",
   "metadata": {},
   "source": [
    "**Question 1.2:** Write a query to select all values for Afghanistan from the `debt` table."
   ]
  },
  {
   "cell_type": "code",
   "execution_count": 64,
   "id": "5bba867e",
   "metadata": {
    "tags": []
   },
   "outputs": [
    {
     "data": {
      "text/html": [
       "<div>\n",
       "<style scoped>\n",
       "    .dataframe tbody tr th:only-of-type {\n",
       "        vertical-align: middle;\n",
       "    }\n",
       "\n",
       "    .dataframe tbody tr th {\n",
       "        vertical-align: top;\n",
       "    }\n",
       "\n",
       "    .dataframe thead th {\n",
       "        text-align: right;\n",
       "    }\n",
       "</style>\n",
       "<table border=\"1\" class=\"dataframe\">\n",
       "  <thead>\n",
       "    <tr style=\"text-align: right;\">\n",
       "      <th></th>\n",
       "      <th>country_name</th>\n",
       "      <th>country_code</th>\n",
       "      <th>indicator_name</th>\n",
       "      <th>indicator_code</th>\n",
       "      <th>debt</th>\n",
       "    </tr>\n",
       "  </thead>\n",
       "  <tbody>\n",
       "    <tr>\n",
       "      <th>0</th>\n",
       "      <td>Afghanistan</td>\n",
       "      <td>AFG</td>\n",
       "      <td>Disbursements on external debt, long-term (DIS...</td>\n",
       "      <td>DT.DIS.DLXF.CD</td>\n",
       "      <td>72894453.7</td>\n",
       "    </tr>\n",
       "    <tr>\n",
       "      <th>1</th>\n",
       "      <td>Afghanistan</td>\n",
       "      <td>AFG</td>\n",
       "      <td>Interest payments on external debt, long-term ...</td>\n",
       "      <td>DT.INT.DLXF.CD</td>\n",
       "      <td>53239440.1</td>\n",
       "    </tr>\n",
       "    <tr>\n",
       "      <th>2</th>\n",
       "      <td>Afghanistan</td>\n",
       "      <td>AFG</td>\n",
       "      <td>PPG, bilateral (AMT, current US$)</td>\n",
       "      <td>DT.AMT.BLAT.CD</td>\n",
       "      <td>61739336.9</td>\n",
       "    </tr>\n",
       "    <tr>\n",
       "      <th>3</th>\n",
       "      <td>Afghanistan</td>\n",
       "      <td>AFG</td>\n",
       "      <td>PPG, bilateral (DIS, current US$)</td>\n",
       "      <td>DT.DIS.BLAT.CD</td>\n",
       "      <td>49114729.4</td>\n",
       "    </tr>\n",
       "    <tr>\n",
       "      <th>4</th>\n",
       "      <td>Afghanistan</td>\n",
       "      <td>AFG</td>\n",
       "      <td>PPG, bilateral (INT, current US$)</td>\n",
       "      <td>DT.INT.BLAT.CD</td>\n",
       "      <td>39903620.1</td>\n",
       "    </tr>\n",
       "    <tr>\n",
       "      <th>5</th>\n",
       "      <td>Afghanistan</td>\n",
       "      <td>AFG</td>\n",
       "      <td>PPG, multilateral (AMT, current US$)</td>\n",
       "      <td>DT.AMT.MLAT.CD</td>\n",
       "      <td>39107845.0</td>\n",
       "    </tr>\n",
       "    <tr>\n",
       "      <th>6</th>\n",
       "      <td>Afghanistan</td>\n",
       "      <td>AFG</td>\n",
       "      <td>PPG, multilateral (DIS, current US$)</td>\n",
       "      <td>DT.DIS.MLAT.CD</td>\n",
       "      <td>23779724.3</td>\n",
       "    </tr>\n",
       "    <tr>\n",
       "      <th>7</th>\n",
       "      <td>Afghanistan</td>\n",
       "      <td>AFG</td>\n",
       "      <td>PPG, multilateral (INT, current US$)</td>\n",
       "      <td>DT.INT.MLAT.CD</td>\n",
       "      <td>13335820.0</td>\n",
       "    </tr>\n",
       "    <tr>\n",
       "      <th>8</th>\n",
       "      <td>Afghanistan</td>\n",
       "      <td>AFG</td>\n",
       "      <td>PPG, official creditors (AMT, current US$)</td>\n",
       "      <td>DT.AMT.OFFT.CD</td>\n",
       "      <td>100847181.9</td>\n",
       "    </tr>\n",
       "    <tr>\n",
       "      <th>9</th>\n",
       "      <td>Afghanistan</td>\n",
       "      <td>AFG</td>\n",
       "      <td>PPG, official creditors (DIS, current US$)</td>\n",
       "      <td>DT.DIS.OFFT.CD</td>\n",
       "      <td>72894453.7</td>\n",
       "    </tr>\n",
       "    <tr>\n",
       "      <th>10</th>\n",
       "      <td>Afghanistan</td>\n",
       "      <td>AFG</td>\n",
       "      <td>PPG, official creditors (INT, current US$)</td>\n",
       "      <td>DT.INT.OFFT.CD</td>\n",
       "      <td>53239440.1</td>\n",
       "    </tr>\n",
       "    <tr>\n",
       "      <th>11</th>\n",
       "      <td>Afghanistan</td>\n",
       "      <td>AFG</td>\n",
       "      <td>Principal repayments on external debt, long-te...</td>\n",
       "      <td>DT.AMT.DLXF.CD</td>\n",
       "      <td>100847181.9</td>\n",
       "    </tr>\n",
       "  </tbody>\n",
       "</table>\n",
       "</div>"
      ],
      "text/plain": [
       "   country_name country_code  \\\n",
       "0   Afghanistan          AFG   \n",
       "1   Afghanistan          AFG   \n",
       "2   Afghanistan          AFG   \n",
       "3   Afghanistan          AFG   \n",
       "4   Afghanistan          AFG   \n",
       "5   Afghanistan          AFG   \n",
       "6   Afghanistan          AFG   \n",
       "7   Afghanistan          AFG   \n",
       "8   Afghanistan          AFG   \n",
       "9   Afghanistan          AFG   \n",
       "10  Afghanistan          AFG   \n",
       "11  Afghanistan          AFG   \n",
       "\n",
       "                                       indicator_name  indicator_code  \\\n",
       "0   Disbursements on external debt, long-term (DIS...  DT.DIS.DLXF.CD   \n",
       "1   Interest payments on external debt, long-term ...  DT.INT.DLXF.CD   \n",
       "2                   PPG, bilateral (AMT, current US$)  DT.AMT.BLAT.CD   \n",
       "3                   PPG, bilateral (DIS, current US$)  DT.DIS.BLAT.CD   \n",
       "4                   PPG, bilateral (INT, current US$)  DT.INT.BLAT.CD   \n",
       "5                PPG, multilateral (AMT, current US$)  DT.AMT.MLAT.CD   \n",
       "6                PPG, multilateral (DIS, current US$)  DT.DIS.MLAT.CD   \n",
       "7                PPG, multilateral (INT, current US$)  DT.INT.MLAT.CD   \n",
       "8          PPG, official creditors (AMT, current US$)  DT.AMT.OFFT.CD   \n",
       "9          PPG, official creditors (DIS, current US$)  DT.DIS.OFFT.CD   \n",
       "10         PPG, official creditors (INT, current US$)  DT.INT.OFFT.CD   \n",
       "11  Principal repayments on external debt, long-te...  DT.AMT.DLXF.CD   \n",
       "\n",
       "           debt  \n",
       "0    72894453.7  \n",
       "1    53239440.1  \n",
       "2    61739336.9  \n",
       "3    49114729.4  \n",
       "4    39903620.1  \n",
       "5    39107845.0  \n",
       "6    23779724.3  \n",
       "7    13335820.0  \n",
       "8   100847181.9  \n",
       "9    72894453.7  \n",
       "10   53239440.1  \n",
       "11  100847181.9  "
      ]
     },
     "execution_count": 64,
     "metadata": {},
     "output_type": "execute_result"
    }
   ],
   "source": [
    "q1_2 = \"\"\"\n",
    "SELECT *\n",
    "FROM debt\n",
    "WHERE country_name is \"Afghanistan\"\n",
    "\"\"\"\n",
    "\n",
    "res_q1_2 = pd.read_sql(q1_2, engine)\n",
    "res_q1_2"
   ]
  },
  {
   "cell_type": "code",
   "execution_count": 65,
   "id": "cb22d9a9",
   "metadata": {
    "deletable": false,
    "editable": false
   },
   "outputs": [
    {
     "data": {
      "text/html": [
       "<p><strong><pre style='display: inline;'>q1_2</pre></strong> passed! 🍀</p>"
      ],
      "text/plain": [
       "q1_2 results: All test cases passed!"
      ]
     },
     "execution_count": 65,
     "metadata": {},
     "output_type": "execute_result"
    }
   ],
   "source": [
    "grader.check(\"q1_2\")"
   ]
  },
  {
   "cell_type": "markdown",
   "id": "1e4ab65d",
   "metadata": {},
   "source": [
    "**Question 1.3:** How many distinct countries are there? Write a query that can help us answer this. Your query output should look like the following:\n",
    "\n",
    "| | total_distinct_countries |\n",
    "| --- | --- |\n",
    "| 0 | XXX |\n",
    "\n",
    "Hint: remember to rename the column. "
   ]
  },
  {
   "cell_type": "code",
   "execution_count": 66,
   "id": "fd8e5e4f",
   "metadata": {
    "tags": []
   },
   "outputs": [
    {
     "data": {
      "text/html": [
       "<div>\n",
       "<style scoped>\n",
       "    .dataframe tbody tr th:only-of-type {\n",
       "        vertical-align: middle;\n",
       "    }\n",
       "\n",
       "    .dataframe tbody tr th {\n",
       "        vertical-align: top;\n",
       "    }\n",
       "\n",
       "    .dataframe thead th {\n",
       "        text-align: right;\n",
       "    }\n",
       "</style>\n",
       "<table border=\"1\" class=\"dataframe\">\n",
       "  <thead>\n",
       "    <tr style=\"text-align: right;\">\n",
       "      <th></th>\n",
       "      <th>total_distinct_countries</th>\n",
       "    </tr>\n",
       "  </thead>\n",
       "  <tbody>\n",
       "    <tr>\n",
       "      <th>0</th>\n",
       "      <td>124</td>\n",
       "    </tr>\n",
       "  </tbody>\n",
       "</table>\n",
       "</div>"
      ],
      "text/plain": [
       "   total_distinct_countries\n",
       "0                       124"
      ]
     },
     "execution_count": 66,
     "metadata": {},
     "output_type": "execute_result"
    }
   ],
   "source": [
    "q1_3 = \"\"\"\n",
    "SELECT COUNT(DISTINCT country_name) AS total_distinct_countries\n",
    "FROM debt\n",
    "\"\"\"\n",
    "\n",
    "res_q1_3 = pd.read_sql(q1_3, engine)\n",
    "res_q1_3"
   ]
  },
  {
   "cell_type": "code",
   "execution_count": 67,
   "id": "957b7e3b",
   "metadata": {
    "deletable": false,
    "editable": false
   },
   "outputs": [
    {
     "data": {
      "text/html": [
       "<p><strong><pre style='display: inline;'>q1_3</pre></strong> passed! 🚀</p>"
      ],
      "text/plain": [
       "q1_3 results: All test cases passed!"
      ]
     },
     "execution_count": 67,
     "metadata": {},
     "output_type": "execute_result"
    }
   ],
   "source": [
    "grader.check(\"q1_3\")"
   ]
  },
  {
   "cell_type": "markdown",
   "id": "289bf523",
   "metadata": {},
   "source": [
    "**Question 1.4:** What are the distinct debt indicators? Write a query that can help us answer this. And then order the result by the indicators in an alphabetical order. Your query output should look like the following:\n",
    "\n",
    "| | distinct_debt_indicators |\n",
    "| --- | --- |\n",
    "| 0 | DT.AMT.BLAT.CD |\n",
    "| 1 | DT.AMT.DLXF.CD |\n",
    "| 2 | ... (rows omitted) |\n",
    "\n",
    "Hint: remember to rename the column. "
   ]
  },
  {
   "cell_type": "code",
   "execution_count": 68,
   "id": "8b60548e",
   "metadata": {
    "tags": []
   },
   "outputs": [
    {
     "data": {
      "text/html": [
       "<div>\n",
       "<style scoped>\n",
       "    .dataframe tbody tr th:only-of-type {\n",
       "        vertical-align: middle;\n",
       "    }\n",
       "\n",
       "    .dataframe tbody tr th {\n",
       "        vertical-align: top;\n",
       "    }\n",
       "\n",
       "    .dataframe thead th {\n",
       "        text-align: right;\n",
       "    }\n",
       "</style>\n",
       "<table border=\"1\" class=\"dataframe\">\n",
       "  <thead>\n",
       "    <tr style=\"text-align: right;\">\n",
       "      <th></th>\n",
       "      <th>distinct_debt_indicators</th>\n",
       "    </tr>\n",
       "  </thead>\n",
       "  <tbody>\n",
       "    <tr>\n",
       "      <th>0</th>\n",
       "      <td>DT.AMT.BLAT.CD</td>\n",
       "    </tr>\n",
       "    <tr>\n",
       "      <th>1</th>\n",
       "      <td>DT.AMT.DLXF.CD</td>\n",
       "    </tr>\n",
       "    <tr>\n",
       "      <th>2</th>\n",
       "      <td>DT.AMT.DPNG.CD</td>\n",
       "    </tr>\n",
       "    <tr>\n",
       "      <th>3</th>\n",
       "      <td>DT.AMT.MLAT.CD</td>\n",
       "    </tr>\n",
       "    <tr>\n",
       "      <th>4</th>\n",
       "      <td>DT.AMT.OFFT.CD</td>\n",
       "    </tr>\n",
       "    <tr>\n",
       "      <th>5</th>\n",
       "      <td>DT.AMT.PBND.CD</td>\n",
       "    </tr>\n",
       "    <tr>\n",
       "      <th>6</th>\n",
       "      <td>DT.AMT.PCBK.CD</td>\n",
       "    </tr>\n",
       "    <tr>\n",
       "      <th>7</th>\n",
       "      <td>DT.AMT.PROP.CD</td>\n",
       "    </tr>\n",
       "    <tr>\n",
       "      <th>8</th>\n",
       "      <td>DT.AMT.PRVT.CD</td>\n",
       "    </tr>\n",
       "    <tr>\n",
       "      <th>9</th>\n",
       "      <td>DT.DIS.BLAT.CD</td>\n",
       "    </tr>\n",
       "    <tr>\n",
       "      <th>10</th>\n",
       "      <td>DT.DIS.DLXF.CD</td>\n",
       "    </tr>\n",
       "    <tr>\n",
       "      <th>11</th>\n",
       "      <td>DT.DIS.MLAT.CD</td>\n",
       "    </tr>\n",
       "    <tr>\n",
       "      <th>12</th>\n",
       "      <td>DT.DIS.OFFT.CD</td>\n",
       "    </tr>\n",
       "    <tr>\n",
       "      <th>13</th>\n",
       "      <td>DT.DIS.PCBK.CD</td>\n",
       "    </tr>\n",
       "    <tr>\n",
       "      <th>14</th>\n",
       "      <td>DT.DIS.PROP.CD</td>\n",
       "    </tr>\n",
       "    <tr>\n",
       "      <th>15</th>\n",
       "      <td>DT.DIS.PRVT.CD</td>\n",
       "    </tr>\n",
       "    <tr>\n",
       "      <th>16</th>\n",
       "      <td>DT.INT.BLAT.CD</td>\n",
       "    </tr>\n",
       "    <tr>\n",
       "      <th>17</th>\n",
       "      <td>DT.INT.DLXF.CD</td>\n",
       "    </tr>\n",
       "    <tr>\n",
       "      <th>18</th>\n",
       "      <td>DT.INT.DPNG.CD</td>\n",
       "    </tr>\n",
       "    <tr>\n",
       "      <th>19</th>\n",
       "      <td>DT.INT.MLAT.CD</td>\n",
       "    </tr>\n",
       "    <tr>\n",
       "      <th>20</th>\n",
       "      <td>DT.INT.OFFT.CD</td>\n",
       "    </tr>\n",
       "    <tr>\n",
       "      <th>21</th>\n",
       "      <td>DT.INT.PBND.CD</td>\n",
       "    </tr>\n",
       "    <tr>\n",
       "      <th>22</th>\n",
       "      <td>DT.INT.PCBK.CD</td>\n",
       "    </tr>\n",
       "    <tr>\n",
       "      <th>23</th>\n",
       "      <td>DT.INT.PROP.CD</td>\n",
       "    </tr>\n",
       "    <tr>\n",
       "      <th>24</th>\n",
       "      <td>DT.INT.PRVT.CD</td>\n",
       "    </tr>\n",
       "  </tbody>\n",
       "</table>\n",
       "</div>"
      ],
      "text/plain": [
       "   distinct_debt_indicators\n",
       "0            DT.AMT.BLAT.CD\n",
       "1            DT.AMT.DLXF.CD\n",
       "2            DT.AMT.DPNG.CD\n",
       "3            DT.AMT.MLAT.CD\n",
       "4            DT.AMT.OFFT.CD\n",
       "5            DT.AMT.PBND.CD\n",
       "6            DT.AMT.PCBK.CD\n",
       "7            DT.AMT.PROP.CD\n",
       "8            DT.AMT.PRVT.CD\n",
       "9            DT.DIS.BLAT.CD\n",
       "10           DT.DIS.DLXF.CD\n",
       "11           DT.DIS.MLAT.CD\n",
       "12           DT.DIS.OFFT.CD\n",
       "13           DT.DIS.PCBK.CD\n",
       "14           DT.DIS.PROP.CD\n",
       "15           DT.DIS.PRVT.CD\n",
       "16           DT.INT.BLAT.CD\n",
       "17           DT.INT.DLXF.CD\n",
       "18           DT.INT.DPNG.CD\n",
       "19           DT.INT.MLAT.CD\n",
       "20           DT.INT.OFFT.CD\n",
       "21           DT.INT.PBND.CD\n",
       "22           DT.INT.PCBK.CD\n",
       "23           DT.INT.PROP.CD\n",
       "24           DT.INT.PRVT.CD"
      ]
     },
     "execution_count": 68,
     "metadata": {},
     "output_type": "execute_result"
    }
   ],
   "source": [
    "q1_4 = \"\"\"\n",
    "SELECT DISTINCT indicator_code AS distinct_debt_indicators\n",
    "FROM debt\n",
    "ORDER BY distinct_debt_indicators ASC\n",
    "\"\"\"\n",
    "\n",
    "res_q1_4 = pd.read_sql(q1_4, engine)\n",
    "res_q1_4"
   ]
  },
  {
   "cell_type": "code",
   "execution_count": 69,
   "id": "7ca07878",
   "metadata": {
    "deletable": false,
    "editable": false
   },
   "outputs": [
    {
     "data": {
      "text/html": [
       "<p><strong><pre style='display: inline;'>q1_4</pre></strong> passed! 💯</p>"
      ],
      "text/plain": [
       "q1_4 results: All test cases passed!"
      ]
     },
     "execution_count": 69,
     "metadata": {},
     "output_type": "execute_result"
    }
   ],
   "source": [
    "grader.check(\"q1_4\")"
   ]
  },
  {
   "cell_type": "markdown",
   "id": "8383791f",
   "metadata": {},
   "source": [
    "**Question 1.5:** What is the total amount of debt for each country? Write a query that can help us answer this. And then order the result by the country name in an alphabetical order. Your query output should look like the following:\n",
    "\n",
    "| | country_name | total_debt |\n",
    "| --- | --- | --- |\n",
    "| 0 | Afghanistan | XXX |\n",
    "| 1 | Albania | XXX |\n",
    "| 2 |  | ... (rows omitted) |\n",
    "\n",
    "Hint: Assume that the total amount of debt is the sum of debt from all categories in the table. Remember to rename the column. "
   ]
  },
  {
   "cell_type": "code",
   "execution_count": 70,
   "id": "77ec4f1a",
   "metadata": {
    "tags": []
   },
   "outputs": [
    {
     "data": {
      "text/html": [
       "<div>\n",
       "<style scoped>\n",
       "    .dataframe tbody tr th:only-of-type {\n",
       "        vertical-align: middle;\n",
       "    }\n",
       "\n",
       "    .dataframe tbody tr th {\n",
       "        vertical-align: top;\n",
       "    }\n",
       "\n",
       "    .dataframe thead th {\n",
       "        text-align: right;\n",
       "    }\n",
       "</style>\n",
       "<table border=\"1\" class=\"dataframe\">\n",
       "  <thead>\n",
       "    <tr style=\"text-align: right;\">\n",
       "      <th></th>\n",
       "      <th>country_name</th>\n",
       "      <th>total_debt</th>\n",
       "    </tr>\n",
       "  </thead>\n",
       "  <tbody>\n",
       "    <tr>\n",
       "      <th>0</th>\n",
       "      <td>Afghanistan</td>\n",
       "      <td>6.809432e+08</td>\n",
       "    </tr>\n",
       "    <tr>\n",
       "      <th>1</th>\n",
       "      <td>Albania</td>\n",
       "      <td>3.217067e+09</td>\n",
       "    </tr>\n",
       "    <tr>\n",
       "      <th>2</th>\n",
       "      <td>Algeria</td>\n",
       "      <td>5.229731e+08</td>\n",
       "    </tr>\n",
       "    <tr>\n",
       "      <th>3</th>\n",
       "      <td>Angola</td>\n",
       "      <td>7.136884e+10</td>\n",
       "    </tr>\n",
       "    <tr>\n",
       "      <th>4</th>\n",
       "      <td>Armenia</td>\n",
       "      <td>3.834876e+09</td>\n",
       "    </tr>\n",
       "    <tr>\n",
       "      <th>5</th>\n",
       "      <td>Azerbaijan</td>\n",
       "      <td>8.753733e+09</td>\n",
       "    </tr>\n",
       "    <tr>\n",
       "      <th>6</th>\n",
       "      <td>Bangladesh</td>\n",
       "      <td>3.504549e+10</td>\n",
       "    </tr>\n",
       "    <tr>\n",
       "      <th>7</th>\n",
       "      <td>Belarus</td>\n",
       "      <td>2.327336e+10</td>\n",
       "    </tr>\n",
       "    <tr>\n",
       "      <th>8</th>\n",
       "      <td>Belize</td>\n",
       "      <td>6.070627e+08</td>\n",
       "    </tr>\n",
       "    <tr>\n",
       "      <th>9</th>\n",
       "      <td>Benin</td>\n",
       "      <td>2.535179e+09</td>\n",
       "    </tr>\n",
       "  </tbody>\n",
       "</table>\n",
       "</div>"
      ],
      "text/plain": [
       "  country_name    total_debt\n",
       "0  Afghanistan  6.809432e+08\n",
       "1      Albania  3.217067e+09\n",
       "2      Algeria  5.229731e+08\n",
       "3       Angola  7.136884e+10\n",
       "4      Armenia  3.834876e+09\n",
       "5   Azerbaijan  8.753733e+09\n",
       "6   Bangladesh  3.504549e+10\n",
       "7      Belarus  2.327336e+10\n",
       "8       Belize  6.070627e+08\n",
       "9        Benin  2.535179e+09"
      ]
     },
     "execution_count": 70,
     "metadata": {},
     "output_type": "execute_result"
    }
   ],
   "source": [
    "q1_5 = \"\"\"\n",
    "SELECT country_name, SUM(debt) AS total_debt\n",
    "FROM debt\n",
    "GROUP BY country_name\n",
    "\"\"\"\n",
    "\n",
    "res_q1_5 = pd.read_sql(q1_5, engine)\n",
    "res_q1_5.head(10)"
   ]
  },
  {
   "cell_type": "code",
   "execution_count": 71,
   "id": "d96d2b9d",
   "metadata": {
    "deletable": false,
    "editable": false
   },
   "outputs": [
    {
     "data": {
      "text/html": [
       "<p><strong><pre style='display: inline;'>q1_5</pre></strong> passed! 💯</p>"
      ],
      "text/plain": [
       "q1_5 results: All test cases passed!"
      ]
     },
     "execution_count": 71,
     "metadata": {},
     "output_type": "execute_result"
    }
   ],
   "source": [
    "grader.check(\"q1_5\")"
   ]
  },
  {
   "cell_type": "markdown",
   "id": "b9ac82f3",
   "metadata": {},
   "source": [
    "**Question 1.6:** Which are the countries with largest debt? Similar to the last question, but order by the total amount of debt this time in a descending order. Break the tie (if any) by country name in an alphabetical order. Your query output should look like the following:\n",
    "\n",
    "| | country_name | total_debt |\n",
    "| --- | --- | --- |\n",
    "| 0 | China | XXX |\n",
    "| 1 | Brazil | XXX |\n",
    "| 2 |  | ... (rows omitted) |\n",
    "\n",
    "Hint: Assume that the total amount of debt is the sum of debt from all categories in the table. Remember to rename the column. "
   ]
  },
  {
   "cell_type": "code",
   "execution_count": 72,
   "id": "97c97702",
   "metadata": {
    "tags": []
   },
   "outputs": [
    {
     "data": {
      "text/html": [
       "<div>\n",
       "<style scoped>\n",
       "    .dataframe tbody tr th:only-of-type {\n",
       "        vertical-align: middle;\n",
       "    }\n",
       "\n",
       "    .dataframe tbody tr th {\n",
       "        vertical-align: top;\n",
       "    }\n",
       "\n",
       "    .dataframe thead th {\n",
       "        text-align: right;\n",
       "    }\n",
       "</style>\n",
       "<table border=\"1\" class=\"dataframe\">\n",
       "  <thead>\n",
       "    <tr style=\"text-align: right;\">\n",
       "      <th></th>\n",
       "      <th>country_name</th>\n",
       "      <th>total_debt</th>\n",
       "    </tr>\n",
       "  </thead>\n",
       "  <tbody>\n",
       "    <tr>\n",
       "      <th>0</th>\n",
       "      <td>China</td>\n",
       "      <td>2.857935e+11</td>\n",
       "    </tr>\n",
       "    <tr>\n",
       "      <th>1</th>\n",
       "      <td>Brazil</td>\n",
       "      <td>2.806240e+11</td>\n",
       "    </tr>\n",
       "    <tr>\n",
       "      <th>2</th>\n",
       "      <td>South Asia</td>\n",
       "      <td>2.476087e+11</td>\n",
       "    </tr>\n",
       "    <tr>\n",
       "      <th>3</th>\n",
       "      <td>Least developed countries: UN classification</td>\n",
       "      <td>2.128810e+11</td>\n",
       "    </tr>\n",
       "    <tr>\n",
       "      <th>4</th>\n",
       "      <td>Russian Federation</td>\n",
       "      <td>1.912891e+11</td>\n",
       "    </tr>\n",
       "    <tr>\n",
       "      <th>5</th>\n",
       "      <td>IDA only</td>\n",
       "      <td>1.790481e+11</td>\n",
       "    </tr>\n",
       "    <tr>\n",
       "      <th>6</th>\n",
       "      <td>Turkey</td>\n",
       "      <td>1.511258e+11</td>\n",
       "    </tr>\n",
       "    <tr>\n",
       "      <th>7</th>\n",
       "      <td>India</td>\n",
       "      <td>1.336271e+11</td>\n",
       "    </tr>\n",
       "    <tr>\n",
       "      <th>8</th>\n",
       "      <td>Mexico</td>\n",
       "      <td>1.245968e+11</td>\n",
       "    </tr>\n",
       "    <tr>\n",
       "      <th>9</th>\n",
       "      <td>Indonesia</td>\n",
       "      <td>1.134357e+11</td>\n",
       "    </tr>\n",
       "  </tbody>\n",
       "</table>\n",
       "</div>"
      ],
      "text/plain": [
       "                                   country_name    total_debt\n",
       "0                                         China  2.857935e+11\n",
       "1                                        Brazil  2.806240e+11\n",
       "2                                    South Asia  2.476087e+11\n",
       "3  Least developed countries: UN classification  2.128810e+11\n",
       "4                            Russian Federation  1.912891e+11\n",
       "5                                      IDA only  1.790481e+11\n",
       "6                                        Turkey  1.511258e+11\n",
       "7                                         India  1.336271e+11\n",
       "8                                        Mexico  1.245968e+11\n",
       "9                                     Indonesia  1.134357e+11"
      ]
     },
     "execution_count": 72,
     "metadata": {},
     "output_type": "execute_result"
    }
   ],
   "source": [
    "q1_6 = \"\"\"\n",
    "SELECT country_name, SUM(debt) AS total_debt\n",
    "FROM debt\n",
    "GROUP BY country_name\n",
    "ORDER BY total_debt DESC\n",
    "\"\"\"\n",
    "\n",
    "res_q1_6 = pd.read_sql(q1_6, engine)\n",
    "res_q1_6.head(10)"
   ]
  },
  {
   "cell_type": "code",
   "execution_count": 73,
   "id": "852f09ad",
   "metadata": {
    "deletable": false,
    "editable": false
   },
   "outputs": [
    {
     "data": {
      "text/html": [
       "<p><strong><pre style='display: inline;'>q1_6</pre></strong> passed! 🙌</p>"
      ],
      "text/plain": [
       "q1_6 results: All test cases passed!"
      ]
     },
     "execution_count": 73,
     "metadata": {},
     "output_type": "execute_result"
    }
   ],
   "source": [
    "grader.check(\"q1_6\")"
   ]
  },
  {
   "cell_type": "markdown",
   "id": "b2090ff7",
   "metadata": {},
   "source": [
    "**Question 1.7:** What are the various types of debts and their totals for the developing countries in our data? Write a query that can help us answer this. Order by the total amount of debt for each category in a descending order. Your query output should look like the following:\n",
    "\n",
    "| | indicator_name | total_debt |\n",
    "| --- | --- | --- |\n",
    "| 0 | Principal repayments on external debt, long-te... | XXX |\n",
    "| 1 | Principal repayments on external debt, private... | XXX |\n",
    "| 2 |  | ... (rows omitted) |\n",
    "\n",
    "Hint: remember to rename the column. "
   ]
  },
  {
   "cell_type": "code",
   "execution_count": 74,
   "id": "65e15535",
   "metadata": {
    "tags": []
   },
   "outputs": [
    {
     "data": {
      "text/html": [
       "<div>\n",
       "<style scoped>\n",
       "    .dataframe tbody tr th:only-of-type {\n",
       "        vertical-align: middle;\n",
       "    }\n",
       "\n",
       "    .dataframe tbody tr th {\n",
       "        vertical-align: top;\n",
       "    }\n",
       "\n",
       "    .dataframe thead th {\n",
       "        text-align: right;\n",
       "    }\n",
       "</style>\n",
       "<table border=\"1\" class=\"dataframe\">\n",
       "  <thead>\n",
       "    <tr style=\"text-align: right;\">\n",
       "      <th></th>\n",
       "      <th>indicator_name</th>\n",
       "      <th>total_debt</th>\n",
       "    </tr>\n",
       "  </thead>\n",
       "  <tbody>\n",
       "    <tr>\n",
       "      <th>0</th>\n",
       "      <td>Principal repayments on external debt, long-te...</td>\n",
       "      <td>7.322037e+11</td>\n",
       "    </tr>\n",
       "    <tr>\n",
       "      <th>1</th>\n",
       "      <td>Principal repayments on external debt, private...</td>\n",
       "      <td>4.077344e+11</td>\n",
       "    </tr>\n",
       "    <tr>\n",
       "      <th>2</th>\n",
       "      <td>Disbursements on external debt, long-term (DIS...</td>\n",
       "      <td>2.647011e+11</td>\n",
       "    </tr>\n",
       "    <tr>\n",
       "      <th>3</th>\n",
       "      <td>PPG, official creditors (DIS, current US$)</td>\n",
       "      <td>2.389960e+11</td>\n",
       "    </tr>\n",
       "    <tr>\n",
       "      <th>4</th>\n",
       "      <td>Interest payments on external debt, long-term ...</td>\n",
       "      <td>2.038590e+11</td>\n",
       "    </tr>\n",
       "    <tr>\n",
       "      <th>5</th>\n",
       "      <td>PPG, private creditors (AMT, current US$)</td>\n",
       "      <td>1.767620e+11</td>\n",
       "    </tr>\n",
       "    <tr>\n",
       "      <th>6</th>\n",
       "      <td>PPG, official creditors (AMT, current US$)</td>\n",
       "      <td>1.477073e+11</td>\n",
       "    </tr>\n",
       "    <tr>\n",
       "      <th>7</th>\n",
       "      <td>PPG, bilateral (DIS, current US$)</td>\n",
       "      <td>1.382147e+11</td>\n",
       "    </tr>\n",
       "    <tr>\n",
       "      <th>8</th>\n",
       "      <td>PPG, multilateral (DIS, current US$)</td>\n",
       "      <td>1.007812e+11</td>\n",
       "    </tr>\n",
       "    <tr>\n",
       "      <th>9</th>\n",
       "      <td>Interest payments on external debt, private no...</td>\n",
       "      <td>9.641246e+10</td>\n",
       "    </tr>\n",
       "  </tbody>\n",
       "</table>\n",
       "</div>"
      ],
      "text/plain": [
       "                                      indicator_name    total_debt\n",
       "0  Principal repayments on external debt, long-te...  7.322037e+11\n",
       "1  Principal repayments on external debt, private...  4.077344e+11\n",
       "2  Disbursements on external debt, long-term (DIS...  2.647011e+11\n",
       "3         PPG, official creditors (DIS, current US$)  2.389960e+11\n",
       "4  Interest payments on external debt, long-term ...  2.038590e+11\n",
       "5          PPG, private creditors (AMT, current US$)  1.767620e+11\n",
       "6         PPG, official creditors (AMT, current US$)  1.477073e+11\n",
       "7                  PPG, bilateral (DIS, current US$)  1.382147e+11\n",
       "8               PPG, multilateral (DIS, current US$)  1.007812e+11\n",
       "9  Interest payments on external debt, private no...  9.641246e+10"
      ]
     },
     "execution_count": 74,
     "metadata": {},
     "output_type": "execute_result"
    }
   ],
   "source": [
    "q1_7 = \"\"\"\n",
    "SELECT indicator_name, SUM(debt) AS total_debt\n",
    "FROM debt\n",
    "GROUP BY indicator_name\n",
    "ORDER BY total_debt DESC\n",
    "\"\"\"\n",
    "\n",
    "res_q1_7 = pd.read_sql(q1_7, engine)\n",
    "res_q1_7.head(10)"
   ]
  },
  {
   "cell_type": "code",
   "execution_count": 75,
   "id": "d119d9ce",
   "metadata": {
    "deletable": false,
    "editable": false
   },
   "outputs": [
    {
     "data": {
      "text/html": [
       "<p><strong><pre style='display: inline;'>q1_7</pre></strong> passed! 🍀</p>"
      ],
      "text/plain": [
       "q1_7 results: All test cases passed!"
      ]
     },
     "execution_count": 75,
     "metadata": {},
     "output_type": "execute_result"
    }
   ],
   "source": [
    "grader.check(\"q1_7\")"
   ]
  },
  {
   "cell_type": "markdown",
   "id": "4f2f0ad3",
   "metadata": {},
   "source": [
    "**Question 1.8:** Now we want to investigate further about the two countries with the largest debt--China and Brazil. Write a query that select only China and Brazil. Order by the debt category code in an alphabetical order, and break tie by country name in an alphabetical order. Your query output should look like the following:\n",
    "\n",
    "| | country_name | country_code\t| indicator_name | indicator_code | debt |\n",
    "| --- | --- | --- | --- | --- | --- |\n",
    "| 0 | Brazil | BRA | PPG, bilateral (AMT, current US\\$) | DT.AMT.BLAT.CD | XXX |\n",
    "| 1 | China | CHN | PPG, bilateral (AMT, current US\\$) | DT.AMT.BLAT.CD | XXX |\n",
    "| 2 |  |  |  |  | ... (rows omitted) |"
   ]
  },
  {
   "cell_type": "code",
   "execution_count": 76,
   "id": "d091edaa",
   "metadata": {
    "tags": []
   },
   "outputs": [
    {
     "data": {
      "text/html": [
       "<div>\n",
       "<style scoped>\n",
       "    .dataframe tbody tr th:only-of-type {\n",
       "        vertical-align: middle;\n",
       "    }\n",
       "\n",
       "    .dataframe tbody tr th {\n",
       "        vertical-align: top;\n",
       "    }\n",
       "\n",
       "    .dataframe thead th {\n",
       "        text-align: right;\n",
       "    }\n",
       "</style>\n",
       "<table border=\"1\" class=\"dataframe\">\n",
       "  <thead>\n",
       "    <tr style=\"text-align: right;\">\n",
       "      <th></th>\n",
       "      <th>country_name</th>\n",
       "      <th>country_code</th>\n",
       "      <th>indicator_name</th>\n",
       "      <th>indicator_code</th>\n",
       "      <th>debt</th>\n",
       "    </tr>\n",
       "  </thead>\n",
       "  <tbody>\n",
       "    <tr>\n",
       "      <th>0</th>\n",
       "      <td>Brazil</td>\n",
       "      <td>BRA</td>\n",
       "      <td>PPG, bilateral (AMT, current US$)</td>\n",
       "      <td>DT.AMT.BLAT.CD</td>\n",
       "      <td>2.097380e+09</td>\n",
       "    </tr>\n",
       "    <tr>\n",
       "      <th>1</th>\n",
       "      <td>China</td>\n",
       "      <td>CHN</td>\n",
       "      <td>PPG, bilateral (AMT, current US$)</td>\n",
       "      <td>DT.AMT.BLAT.CD</td>\n",
       "      <td>6.532446e+09</td>\n",
       "    </tr>\n",
       "    <tr>\n",
       "      <th>2</th>\n",
       "      <td>Brazil</td>\n",
       "      <td>BRA</td>\n",
       "      <td>Principal repayments on external debt, long-te...</td>\n",
       "      <td>DT.AMT.DLXF.CD</td>\n",
       "      <td>9.004184e+10</td>\n",
       "    </tr>\n",
       "    <tr>\n",
       "      <th>3</th>\n",
       "      <td>China</td>\n",
       "      <td>CHN</td>\n",
       "      <td>Principal repayments on external debt, long-te...</td>\n",
       "      <td>DT.AMT.DLXF.CD</td>\n",
       "      <td>9.621862e+10</td>\n",
       "    </tr>\n",
       "    <tr>\n",
       "      <th>4</th>\n",
       "      <td>Brazil</td>\n",
       "      <td>BRA</td>\n",
       "      <td>Principal repayments on external debt, private...</td>\n",
       "      <td>DT.AMT.DPNG.CD</td>\n",
       "      <td>4.183144e+10</td>\n",
       "    </tr>\n",
       "    <tr>\n",
       "      <th>5</th>\n",
       "      <td>China</td>\n",
       "      <td>CHN</td>\n",
       "      <td>Principal repayments on external debt, private...</td>\n",
       "      <td>DT.AMT.DPNG.CD</td>\n",
       "      <td>7.239299e+10</td>\n",
       "    </tr>\n",
       "    <tr>\n",
       "      <th>6</th>\n",
       "      <td>Brazil</td>\n",
       "      <td>BRA</td>\n",
       "      <td>PPG, multilateral (AMT, current US$)</td>\n",
       "      <td>DT.AMT.MLAT.CD</td>\n",
       "      <td>2.514319e+09</td>\n",
       "    </tr>\n",
       "    <tr>\n",
       "      <th>7</th>\n",
       "      <td>China</td>\n",
       "      <td>CHN</td>\n",
       "      <td>PPG, multilateral (AMT, current US$)</td>\n",
       "      <td>DT.AMT.MLAT.CD</td>\n",
       "      <td>2.615724e+09</td>\n",
       "    </tr>\n",
       "    <tr>\n",
       "      <th>8</th>\n",
       "      <td>Brazil</td>\n",
       "      <td>BRA</td>\n",
       "      <td>PPG, official creditors (AMT, current US$)</td>\n",
       "      <td>DT.AMT.OFFT.CD</td>\n",
       "      <td>4.611699e+09</td>\n",
       "    </tr>\n",
       "    <tr>\n",
       "      <th>9</th>\n",
       "      <td>China</td>\n",
       "      <td>CHN</td>\n",
       "      <td>PPG, official creditors (AMT, current US$)</td>\n",
       "      <td>DT.AMT.OFFT.CD</td>\n",
       "      <td>9.148170e+09</td>\n",
       "    </tr>\n",
       "    <tr>\n",
       "      <th>10</th>\n",
       "      <td>Brazil</td>\n",
       "      <td>BRA</td>\n",
       "      <td>PPG, bonds (AMT, current US$)</td>\n",
       "      <td>DT.AMT.PBND.CD</td>\n",
       "      <td>1.940858e+09</td>\n",
       "    </tr>\n",
       "    <tr>\n",
       "      <th>11</th>\n",
       "      <td>China</td>\n",
       "      <td>CHN</td>\n",
       "      <td>PPG, bonds (AMT, current US$)</td>\n",
       "      <td>DT.AMT.PBND.CD</td>\n",
       "      <td>9.834677e+09</td>\n",
       "    </tr>\n",
       "    <tr>\n",
       "      <th>12</th>\n",
       "      <td>Brazil</td>\n",
       "      <td>BRA</td>\n",
       "      <td>PPG, commercial banks (AMT, current US$)</td>\n",
       "      <td>DT.AMT.PCBK.CD</td>\n",
       "      <td>6.538835e+09</td>\n",
       "    </tr>\n",
       "    <tr>\n",
       "      <th>13</th>\n",
       "      <td>China</td>\n",
       "      <td>CHN</td>\n",
       "      <td>PPG, commercial banks (AMT, current US$)</td>\n",
       "      <td>DT.AMT.PCBK.CD</td>\n",
       "      <td>4.046243e+09</td>\n",
       "    </tr>\n",
       "    <tr>\n",
       "      <th>14</th>\n",
       "      <td>Brazil</td>\n",
       "      <td>BRA</td>\n",
       "      <td>PPG, other private creditors (AMT, current US$)</td>\n",
       "      <td>DT.AMT.PROP.CD</td>\n",
       "      <td>3.511900e+10</td>\n",
       "    </tr>\n",
       "    <tr>\n",
       "      <th>15</th>\n",
       "      <td>China</td>\n",
       "      <td>CHN</td>\n",
       "      <td>PPG, other private creditors (AMT, current US$)</td>\n",
       "      <td>DT.AMT.PROP.CD</td>\n",
       "      <td>7.965442e+08</td>\n",
       "    </tr>\n",
       "    <tr>\n",
       "      <th>16</th>\n",
       "      <td>Brazil</td>\n",
       "      <td>BRA</td>\n",
       "      <td>PPG, private creditors (AMT, current US$)</td>\n",
       "      <td>DT.AMT.PRVT.CD</td>\n",
       "      <td>4.359870e+10</td>\n",
       "    </tr>\n",
       "    <tr>\n",
       "      <th>17</th>\n",
       "      <td>China</td>\n",
       "      <td>CHN</td>\n",
       "      <td>PPG, private creditors (AMT, current US$)</td>\n",
       "      <td>DT.AMT.PRVT.CD</td>\n",
       "      <td>1.467746e+10</td>\n",
       "    </tr>\n",
       "    <tr>\n",
       "      <th>18</th>\n",
       "      <td>Brazil</td>\n",
       "      <td>BRA</td>\n",
       "      <td>PPG, bilateral (DIS, current US$)</td>\n",
       "      <td>DT.DIS.BLAT.CD</td>\n",
       "      <td>1.179125e+09</td>\n",
       "    </tr>\n",
       "    <tr>\n",
       "      <th>19</th>\n",
       "      <td>Brazil</td>\n",
       "      <td>BRA</td>\n",
       "      <td>Disbursements on external debt, long-term (DIS...</td>\n",
       "      <td>DT.DIS.DLXF.CD</td>\n",
       "      <td>4.092389e+09</td>\n",
       "    </tr>\n",
       "    <tr>\n",
       "      <th>20</th>\n",
       "      <td>China</td>\n",
       "      <td>CHN</td>\n",
       "      <td>Disbursements on external debt, long-term (DIS...</td>\n",
       "      <td>DT.DIS.DLXF.CD</td>\n",
       "      <td>1.569256e+10</td>\n",
       "    </tr>\n",
       "    <tr>\n",
       "      <th>21</th>\n",
       "      <td>Brazil</td>\n",
       "      <td>BRA</td>\n",
       "      <td>PPG, multilateral (DIS, current US$)</td>\n",
       "      <td>DT.DIS.MLAT.CD</td>\n",
       "      <td>1.949114e+09</td>\n",
       "    </tr>\n",
       "    <tr>\n",
       "      <th>22</th>\n",
       "      <td>China</td>\n",
       "      <td>CHN</td>\n",
       "      <td>PPG, multilateral (DIS, current US$)</td>\n",
       "      <td>DT.DIS.MLAT.CD</td>\n",
       "      <td>3.079501e+09</td>\n",
       "    </tr>\n",
       "    <tr>\n",
       "      <th>23</th>\n",
       "      <td>Brazil</td>\n",
       "      <td>BRA</td>\n",
       "      <td>PPG, official creditors (DIS, current US$)</td>\n",
       "      <td>DT.DIS.OFFT.CD</td>\n",
       "      <td>3.128239e+09</td>\n",
       "    </tr>\n",
       "    <tr>\n",
       "      <th>24</th>\n",
       "      <td>China</td>\n",
       "      <td>CHN</td>\n",
       "      <td>PPG, official creditors (DIS, current US$)</td>\n",
       "      <td>DT.DIS.OFFT.CD</td>\n",
       "      <td>3.079501e+09</td>\n",
       "    </tr>\n",
       "    <tr>\n",
       "      <th>25</th>\n",
       "      <td>Brazil</td>\n",
       "      <td>BRA</td>\n",
       "      <td>PPG, commercial banks (DIS, current US$)</td>\n",
       "      <td>DT.DIS.PCBK.CD</td>\n",
       "      <td>9.641499e+08</td>\n",
       "    </tr>\n",
       "    <tr>\n",
       "      <th>26</th>\n",
       "      <td>China</td>\n",
       "      <td>CHN</td>\n",
       "      <td>PPG, commercial banks (DIS, current US$)</td>\n",
       "      <td>DT.DIS.PCBK.CD</td>\n",
       "      <td>3.777050e+09</td>\n",
       "    </tr>\n",
       "    <tr>\n",
       "      <th>27</th>\n",
       "      <td>China</td>\n",
       "      <td>CHN</td>\n",
       "      <td>PPG, other private creditors (DIS, current US$)</td>\n",
       "      <td>DT.DIS.PROP.CD</td>\n",
       "      <td>3.340122e+08</td>\n",
       "    </tr>\n",
       "    <tr>\n",
       "      <th>28</th>\n",
       "      <td>Brazil</td>\n",
       "      <td>BRA</td>\n",
       "      <td>PPG, private creditors (DIS, current US$)</td>\n",
       "      <td>DT.DIS.PRVT.CD</td>\n",
       "      <td>9.641499e+08</td>\n",
       "    </tr>\n",
       "    <tr>\n",
       "      <th>29</th>\n",
       "      <td>China</td>\n",
       "      <td>CHN</td>\n",
       "      <td>PPG, private creditors (DIS, current US$)</td>\n",
       "      <td>DT.DIS.PRVT.CD</td>\n",
       "      <td>4.111062e+09</td>\n",
       "    </tr>\n",
       "    <tr>\n",
       "      <th>30</th>\n",
       "      <td>Brazil</td>\n",
       "      <td>BRA</td>\n",
       "      <td>PPG, bilateral (INT, current US$)</td>\n",
       "      <td>DT.INT.BLAT.CD</td>\n",
       "      <td>3.332378e+08</td>\n",
       "    </tr>\n",
       "    <tr>\n",
       "      <th>31</th>\n",
       "      <td>China</td>\n",
       "      <td>CHN</td>\n",
       "      <td>PPG, bilateral (INT, current US$)</td>\n",
       "      <td>DT.INT.BLAT.CD</td>\n",
       "      <td>5.148984e+08</td>\n",
       "    </tr>\n",
       "    <tr>\n",
       "      <th>32</th>\n",
       "      <td>Brazil</td>\n",
       "      <td>BRA</td>\n",
       "      <td>Interest payments on external debt, long-term ...</td>\n",
       "      <td>DT.INT.DLXF.CD</td>\n",
       "      <td>1.700165e+10</td>\n",
       "    </tr>\n",
       "    <tr>\n",
       "      <th>33</th>\n",
       "      <td>China</td>\n",
       "      <td>CHN</td>\n",
       "      <td>Interest payments on external debt, long-term ...</td>\n",
       "      <td>DT.INT.DLXF.CD</td>\n",
       "      <td>1.786655e+10</td>\n",
       "    </tr>\n",
       "    <tr>\n",
       "      <th>34</th>\n",
       "      <td>Brazil</td>\n",
       "      <td>BRA</td>\n",
       "      <td>Interest payments on external debt, private no...</td>\n",
       "      <td>DT.INT.DPNG.CD</td>\n",
       "      <td>1.095224e+10</td>\n",
       "    </tr>\n",
       "    <tr>\n",
       "      <th>35</th>\n",
       "      <td>China</td>\n",
       "      <td>CHN</td>\n",
       "      <td>Interest payments on external debt, private no...</td>\n",
       "      <td>DT.INT.DPNG.CD</td>\n",
       "      <td>1.414272e+10</td>\n",
       "    </tr>\n",
       "    <tr>\n",
       "      <th>36</th>\n",
       "      <td>Brazil</td>\n",
       "      <td>BRA</td>\n",
       "      <td>PPG, multilateral (INT, current US$)</td>\n",
       "      <td>DT.INT.MLAT.CD</td>\n",
       "      <td>7.060293e+08</td>\n",
       "    </tr>\n",
       "    <tr>\n",
       "      <th>37</th>\n",
       "      <td>China</td>\n",
       "      <td>CHN</td>\n",
       "      <td>PPG, multilateral (INT, current US$)</td>\n",
       "      <td>DT.INT.MLAT.CD</td>\n",
       "      <td>8.584070e+08</td>\n",
       "    </tr>\n",
       "    <tr>\n",
       "      <th>38</th>\n",
       "      <td>Brazil</td>\n",
       "      <td>BRA</td>\n",
       "      <td>PPG, official creditors (INT, current US$)</td>\n",
       "      <td>DT.INT.OFFT.CD</td>\n",
       "      <td>1.039267e+09</td>\n",
       "    </tr>\n",
       "    <tr>\n",
       "      <th>39</th>\n",
       "      <td>China</td>\n",
       "      <td>CHN</td>\n",
       "      <td>PPG, official creditors (INT, current US$)</td>\n",
       "      <td>DT.INT.OFFT.CD</td>\n",
       "      <td>1.373305e+09</td>\n",
       "    </tr>\n",
       "    <tr>\n",
       "      <th>40</th>\n",
       "      <td>Brazil</td>\n",
       "      <td>BRA</td>\n",
       "      <td>PPG, bonds (INT, current US$)</td>\n",
       "      <td>DT.INT.PBND.CD</td>\n",
       "      <td>2.550410e+09</td>\n",
       "    </tr>\n",
       "    <tr>\n",
       "      <th>41</th>\n",
       "      <td>China</td>\n",
       "      <td>CHN</td>\n",
       "      <td>PPG, bonds (INT, current US$)</td>\n",
       "      <td>DT.INT.PBND.CD</td>\n",
       "      <td>1.224249e+09</td>\n",
       "    </tr>\n",
       "    <tr>\n",
       "      <th>42</th>\n",
       "      <td>Brazil</td>\n",
       "      <td>BRA</td>\n",
       "      <td>PPG, commercial banks (INT, current US$)</td>\n",
       "      <td>DT.INT.PCBK.CD</td>\n",
       "      <td>1.846319e+09</td>\n",
       "    </tr>\n",
       "    <tr>\n",
       "      <th>43</th>\n",
       "      <td>China</td>\n",
       "      <td>CHN</td>\n",
       "      <td>PPG, commercial banks (INT, current US$)</td>\n",
       "      <td>DT.INT.PCBK.CD</td>\n",
       "      <td>9.699331e+08</td>\n",
       "    </tr>\n",
       "    <tr>\n",
       "      <th>44</th>\n",
       "      <td>Brazil</td>\n",
       "      <td>BRA</td>\n",
       "      <td>PPG, other private creditors (INT, current US$)</td>\n",
       "      <td>DT.INT.PROP.CD</td>\n",
       "      <td>6.134210e+08</td>\n",
       "    </tr>\n",
       "    <tr>\n",
       "      <th>45</th>\n",
       "      <td>China</td>\n",
       "      <td>CHN</td>\n",
       "      <td>PPG, other private creditors (INT, current US$)</td>\n",
       "      <td>DT.INT.PROP.CD</td>\n",
       "      <td>1.563424e+08</td>\n",
       "    </tr>\n",
       "    <tr>\n",
       "      <th>46</th>\n",
       "      <td>Brazil</td>\n",
       "      <td>BRA</td>\n",
       "      <td>PPG, private creditors (INT, current US$)</td>\n",
       "      <td>DT.INT.PRVT.CD</td>\n",
       "      <td>5.010150e+09</td>\n",
       "    </tr>\n",
       "    <tr>\n",
       "      <th>47</th>\n",
       "      <td>China</td>\n",
       "      <td>CHN</td>\n",
       "      <td>PPG, private creditors (INT, current US$)</td>\n",
       "      <td>DT.INT.PRVT.CD</td>\n",
       "      <td>2.350525e+09</td>\n",
       "    </tr>\n",
       "  </tbody>\n",
       "</table>\n",
       "</div>"
      ],
      "text/plain": [
       "   country_name country_code  \\\n",
       "0        Brazil          BRA   \n",
       "1         China          CHN   \n",
       "2        Brazil          BRA   \n",
       "3         China          CHN   \n",
       "4        Brazil          BRA   \n",
       "5         China          CHN   \n",
       "6        Brazil          BRA   \n",
       "7         China          CHN   \n",
       "8        Brazil          BRA   \n",
       "9         China          CHN   \n",
       "10       Brazil          BRA   \n",
       "11        China          CHN   \n",
       "12       Brazil          BRA   \n",
       "13        China          CHN   \n",
       "14       Brazil          BRA   \n",
       "15        China          CHN   \n",
       "16       Brazil          BRA   \n",
       "17        China          CHN   \n",
       "18       Brazil          BRA   \n",
       "19       Brazil          BRA   \n",
       "20        China          CHN   \n",
       "21       Brazil          BRA   \n",
       "22        China          CHN   \n",
       "23       Brazil          BRA   \n",
       "24        China          CHN   \n",
       "25       Brazil          BRA   \n",
       "26        China          CHN   \n",
       "27        China          CHN   \n",
       "28       Brazil          BRA   \n",
       "29        China          CHN   \n",
       "30       Brazil          BRA   \n",
       "31        China          CHN   \n",
       "32       Brazil          BRA   \n",
       "33        China          CHN   \n",
       "34       Brazil          BRA   \n",
       "35        China          CHN   \n",
       "36       Brazil          BRA   \n",
       "37        China          CHN   \n",
       "38       Brazil          BRA   \n",
       "39        China          CHN   \n",
       "40       Brazil          BRA   \n",
       "41        China          CHN   \n",
       "42       Brazil          BRA   \n",
       "43        China          CHN   \n",
       "44       Brazil          BRA   \n",
       "45        China          CHN   \n",
       "46       Brazil          BRA   \n",
       "47        China          CHN   \n",
       "\n",
       "                                       indicator_name  indicator_code  \\\n",
       "0                   PPG, bilateral (AMT, current US$)  DT.AMT.BLAT.CD   \n",
       "1                   PPG, bilateral (AMT, current US$)  DT.AMT.BLAT.CD   \n",
       "2   Principal repayments on external debt, long-te...  DT.AMT.DLXF.CD   \n",
       "3   Principal repayments on external debt, long-te...  DT.AMT.DLXF.CD   \n",
       "4   Principal repayments on external debt, private...  DT.AMT.DPNG.CD   \n",
       "5   Principal repayments on external debt, private...  DT.AMT.DPNG.CD   \n",
       "6                PPG, multilateral (AMT, current US$)  DT.AMT.MLAT.CD   \n",
       "7                PPG, multilateral (AMT, current US$)  DT.AMT.MLAT.CD   \n",
       "8          PPG, official creditors (AMT, current US$)  DT.AMT.OFFT.CD   \n",
       "9          PPG, official creditors (AMT, current US$)  DT.AMT.OFFT.CD   \n",
       "10                      PPG, bonds (AMT, current US$)  DT.AMT.PBND.CD   \n",
       "11                      PPG, bonds (AMT, current US$)  DT.AMT.PBND.CD   \n",
       "12           PPG, commercial banks (AMT, current US$)  DT.AMT.PCBK.CD   \n",
       "13           PPG, commercial banks (AMT, current US$)  DT.AMT.PCBK.CD   \n",
       "14    PPG, other private creditors (AMT, current US$)  DT.AMT.PROP.CD   \n",
       "15    PPG, other private creditors (AMT, current US$)  DT.AMT.PROP.CD   \n",
       "16          PPG, private creditors (AMT, current US$)  DT.AMT.PRVT.CD   \n",
       "17          PPG, private creditors (AMT, current US$)  DT.AMT.PRVT.CD   \n",
       "18                  PPG, bilateral (DIS, current US$)  DT.DIS.BLAT.CD   \n",
       "19  Disbursements on external debt, long-term (DIS...  DT.DIS.DLXF.CD   \n",
       "20  Disbursements on external debt, long-term (DIS...  DT.DIS.DLXF.CD   \n",
       "21               PPG, multilateral (DIS, current US$)  DT.DIS.MLAT.CD   \n",
       "22               PPG, multilateral (DIS, current US$)  DT.DIS.MLAT.CD   \n",
       "23         PPG, official creditors (DIS, current US$)  DT.DIS.OFFT.CD   \n",
       "24         PPG, official creditors (DIS, current US$)  DT.DIS.OFFT.CD   \n",
       "25           PPG, commercial banks (DIS, current US$)  DT.DIS.PCBK.CD   \n",
       "26           PPG, commercial banks (DIS, current US$)  DT.DIS.PCBK.CD   \n",
       "27    PPG, other private creditors (DIS, current US$)  DT.DIS.PROP.CD   \n",
       "28          PPG, private creditors (DIS, current US$)  DT.DIS.PRVT.CD   \n",
       "29          PPG, private creditors (DIS, current US$)  DT.DIS.PRVT.CD   \n",
       "30                  PPG, bilateral (INT, current US$)  DT.INT.BLAT.CD   \n",
       "31                  PPG, bilateral (INT, current US$)  DT.INT.BLAT.CD   \n",
       "32  Interest payments on external debt, long-term ...  DT.INT.DLXF.CD   \n",
       "33  Interest payments on external debt, long-term ...  DT.INT.DLXF.CD   \n",
       "34  Interest payments on external debt, private no...  DT.INT.DPNG.CD   \n",
       "35  Interest payments on external debt, private no...  DT.INT.DPNG.CD   \n",
       "36               PPG, multilateral (INT, current US$)  DT.INT.MLAT.CD   \n",
       "37               PPG, multilateral (INT, current US$)  DT.INT.MLAT.CD   \n",
       "38         PPG, official creditors (INT, current US$)  DT.INT.OFFT.CD   \n",
       "39         PPG, official creditors (INT, current US$)  DT.INT.OFFT.CD   \n",
       "40                      PPG, bonds (INT, current US$)  DT.INT.PBND.CD   \n",
       "41                      PPG, bonds (INT, current US$)  DT.INT.PBND.CD   \n",
       "42           PPG, commercial banks (INT, current US$)  DT.INT.PCBK.CD   \n",
       "43           PPG, commercial banks (INT, current US$)  DT.INT.PCBK.CD   \n",
       "44    PPG, other private creditors (INT, current US$)  DT.INT.PROP.CD   \n",
       "45    PPG, other private creditors (INT, current US$)  DT.INT.PROP.CD   \n",
       "46          PPG, private creditors (INT, current US$)  DT.INT.PRVT.CD   \n",
       "47          PPG, private creditors (INT, current US$)  DT.INT.PRVT.CD   \n",
       "\n",
       "            debt  \n",
       "0   2.097380e+09  \n",
       "1   6.532446e+09  \n",
       "2   9.004184e+10  \n",
       "3   9.621862e+10  \n",
       "4   4.183144e+10  \n",
       "5   7.239299e+10  \n",
       "6   2.514319e+09  \n",
       "7   2.615724e+09  \n",
       "8   4.611699e+09  \n",
       "9   9.148170e+09  \n",
       "10  1.940858e+09  \n",
       "11  9.834677e+09  \n",
       "12  6.538835e+09  \n",
       "13  4.046243e+09  \n",
       "14  3.511900e+10  \n",
       "15  7.965442e+08  \n",
       "16  4.359870e+10  \n",
       "17  1.467746e+10  \n",
       "18  1.179125e+09  \n",
       "19  4.092389e+09  \n",
       "20  1.569256e+10  \n",
       "21  1.949114e+09  \n",
       "22  3.079501e+09  \n",
       "23  3.128239e+09  \n",
       "24  3.079501e+09  \n",
       "25  9.641499e+08  \n",
       "26  3.777050e+09  \n",
       "27  3.340122e+08  \n",
       "28  9.641499e+08  \n",
       "29  4.111062e+09  \n",
       "30  3.332378e+08  \n",
       "31  5.148984e+08  \n",
       "32  1.700165e+10  \n",
       "33  1.786655e+10  \n",
       "34  1.095224e+10  \n",
       "35  1.414272e+10  \n",
       "36  7.060293e+08  \n",
       "37  8.584070e+08  \n",
       "38  1.039267e+09  \n",
       "39  1.373305e+09  \n",
       "40  2.550410e+09  \n",
       "41  1.224249e+09  \n",
       "42  1.846319e+09  \n",
       "43  9.699331e+08  \n",
       "44  6.134210e+08  \n",
       "45  1.563424e+08  \n",
       "46  5.010150e+09  \n",
       "47  2.350525e+09  "
      ]
     },
     "execution_count": 76,
     "metadata": {},
     "output_type": "execute_result"
    }
   ],
   "source": [
    "q1_8 = \"\"\"\n",
    "SELECT *\n",
    "FROM debt\n",
    "WHERE country_code is \"BRA\" OR country_code = \"CHN\"\n",
    "ORDER BY indicator_code ASC\n",
    "\"\"\"\n",
    "\n",
    "res_q1_8 = pd.read_sql(q1_8, engine)\n",
    "res_q1_8"
   ]
  },
  {
   "cell_type": "code",
   "execution_count": 77,
   "id": "8c0068ef",
   "metadata": {
    "deletable": false,
    "editable": false
   },
   "outputs": [
    {
     "data": {
      "text/html": [
       "<p><strong><pre style='display: inline;'>q1_8</pre></strong> passed! ✨</p>"
      ],
      "text/plain": [
       "q1_8 results: All test cases passed!"
      ]
     },
     "execution_count": 77,
     "metadata": {},
     "output_type": "execute_result"
    }
   ],
   "source": [
    "grader.check(\"q1_8\")"
   ]
  },
  {
   "cell_type": "markdown",
   "id": "1f1d5452",
   "metadata": {},
   "source": [
    "**Question 1.9:** Look at the result above. Do you notice any big difference in the amount of debt in some categories betweem Brazil and China?"
   ]
  },
  {
   "cell_type": "markdown",
   "id": "d90130f7",
   "metadata": {},
   "source": [
    "There is a lot of variability in ppg related debts. China tends to see a lot more debt than Brazil in this department."
   ]
  },
  {
   "cell_type": "markdown",
   "id": "7b362c93",
   "metadata": {},
   "source": [
    "---\n",
    "## Part 2: Translating SQL queries\n",
    "In this part, we will do some simple exercise to find equivalent commands in SQL and Pandas. "
   ]
  },
  {
   "cell_type": "markdown",
   "id": "233936be",
   "metadata": {},
   "source": [
    "In this part, we will have two tables or dataframes: `farm` and `shop`. You may have already seen them in the discussion sections!\n",
    "\n",
    "The `farm` table:\n",
    "\n",
    "| | crop | price | type | is_red |\n",
    "| --- | --- | --- | --- | --- |\n",
    "| 0 | Starfruit | 750 | Fruit | False |\n",
    "| 1 | Sweet Gem Berry | 3000 | Fruit | True |\n",
    "| 2 | Red Cabbage | 260 | Vegetable | True |\n",
    "| 3 | Parsnip | 35 | Vegetable | True |\n",
    "| 4 | Pumpkin | 320 | Vegetable | False |\n",
    "\n",
    "The `shop` table:\n",
    "\n",
    "| | type | on_sale |\n",
    "| --- | --- | --- |\n",
    "| 0 | Fruit | True |\n",
    "| 1 | Vegetable | False |\n",
    "| 2 | Egg | False |\n",
    "| 3 | Fish | False |"
   ]
  },
  {
   "cell_type": "markdown",
   "id": "55bb4507",
   "metadata": {},
   "source": [
    "**Question 2.1:** Which of the following SQL query or queries are logically equivalent to the following Pandas query?\n",
    "\n",
    "```python\n",
    "farm.merge(shop, how=\"inner\", on=\"type\")\n",
    "```\n",
    "\n",
    "a.\n",
    "``` mysql\n",
    "SELECT * FROM farm, shop\n",
    "WHERE type = type;\n",
    "``` \n",
    "b.\n",
    "``` mysql\n",
    "SELECT * FROM farm, shop \n",
    "WHERE farm.type = shop.type;\n",
    "``` \n",
    "c.\n",
    "``` mysql\n",
    "SELECT * FROM farm\n",
    "INNER JOIN shop\n",
    "WHERE farm.type = shop.type;\n",
    "``` \n",
    "d.\n",
    "``` mysql\n",
    "SELECT * FROM farm\n",
    "INNER JOIN shop\n",
    "ON farm.type = shop.type;\n",
    "``` \n",
    "\n",
    "Assign an array of letters corresponding to your answer to `q2_1` below. For example, `q2_1 = np.array(['a', 'b', 'c', 'd'])`."
   ]
  },
  {
   "cell_type": "code",
   "execution_count": 78,
   "id": "06f888e4",
   "metadata": {
    "tags": []
   },
   "outputs": [],
   "source": [
    "q2_1 = np.array(['b', 'd'])"
   ]
  },
  {
   "cell_type": "code",
   "execution_count": 79,
   "id": "8f5ebc76",
   "metadata": {
    "deletable": false,
    "editable": false
   },
   "outputs": [
    {
     "data": {
      "text/html": [
       "<p><strong><pre style='display: inline;'>q2_1</pre></strong> passed! ✨</p>"
      ],
      "text/plain": [
       "q2_1 results: All test cases passed!"
      ]
     },
     "execution_count": 79,
     "metadata": {},
     "output_type": "execute_result"
    }
   ],
   "source": [
    "grader.check(\"q2_1\")"
   ]
  },
  {
   "cell_type": "markdown",
   "id": "da1818af",
   "metadata": {},
   "source": [
    "**Question 2.2:** Which of the following Pandas command or commands are logically equivalent to the following SQL queries query?\n",
    "\n",
    "``` mysql\n",
    "SELECT type, AVG(price)\n",
    "FROM farm\n",
    "GROUP BY type;\n",
    "\n",
    "``` \n",
    "\n",
    "a.\n",
    "``` python\n",
    "farm[\"price\"].mean()\n",
    "``` \n",
    "b.\n",
    "``` python\n",
    "farm.groupby([\"type\", \"price\"]).mean()\n",
    "```  \n",
    "c.\n",
    "``` python\n",
    "farm.groupby(\"price\")[[\"type\"]].mean()\n",
    "``` \n",
    "d.\n",
    "``` python\n",
    "farm.groupby(\"type\")[[\"price\"]].mean()\n",
    "``` \n",
    "\n",
    "Assign an array of letters corresponding to your answer to `q2_2` below. For example, `q2_2 = np.array(['a', 'b', 'c', 'd'])`."
   ]
  },
  {
   "cell_type": "code",
   "execution_count": 80,
   "id": "b1d6d858",
   "metadata": {
    "tags": []
   },
   "outputs": [],
   "source": [
    "q2_2 = np.array(['d'])"
   ]
  },
  {
   "cell_type": "code",
   "execution_count": 81,
   "id": "87c7ada1",
   "metadata": {
    "deletable": false,
    "editable": false
   },
   "outputs": [
    {
     "data": {
      "text/html": [
       "<p><strong><pre style='display: inline;'>q2_2</pre></strong> passed! 🙌</p>"
      ],
      "text/plain": [
       "q2_2 results: All test cases passed!"
      ]
     },
     "execution_count": 81,
     "metadata": {},
     "output_type": "execute_result"
    }
   ],
   "source": [
    "grader.check(\"q2_2\")"
   ]
  },
  {
   "cell_type": "markdown",
   "id": "c9432e12",
   "metadata": {},
   "source": [
    "---\n",
    "## Feedback"
   ]
  },
  {
   "cell_type": "markdown",
   "id": "38f777b5",
   "metadata": {},
   "source": [
    "**Question 3:** Please fill out this short [feedback form](https://forms.gle/pYhayJs9JvKNnfHD6) to let us know your thoughts about this lab! We really appreciate your opinions and feedback! At the end of the Google form, you should see a codeword. Assign the codeword to the variable `codeword` below. "
   ]
  },
  {
   "cell_type": "code",
   "execution_count": 82,
   "id": "659792ee",
   "metadata": {
    "tags": []
   },
   "outputs": [],
   "source": [
    "codeword = \"debt\""
   ]
  },
  {
   "cell_type": "code",
   "execution_count": 83,
   "id": "b43b8246",
   "metadata": {
    "deletable": false,
    "editable": false
   },
   "outputs": [
    {
     "data": {
      "text/html": [
       "<p><strong><pre style='display: inline;'>q3</pre></strong> passed! 💯</p>"
      ],
      "text/plain": [
       "q3 results: All test cases passed!"
      ]
     },
     "execution_count": 83,
     "metadata": {},
     "output_type": "execute_result"
    }
   ],
   "source": [
    "grader.check(\"q3\")"
   ]
  },
  {
   "cell_type": "markdown",
   "id": "362b60e4",
   "metadata": {
    "deletable": false,
    "editable": false
   },
   "source": [
    "## Submission\n",
    "\n",
    "Make sure you have run all cells in your notebook in order before running the cell below, so that all images/graphs appear in the output. The cell below will generate a zip file for you to submit. **Please save before exporting!**"
   ]
  },
  {
   "cell_type": "code",
   "execution_count": 84,
   "id": "4e0fb536",
   "metadata": {
    "deletable": false,
    "editable": false
   },
   "outputs": [
    {
     "name": "stdout",
     "output_type": "stream",
     "text": [
      "Running your submission against local test cases...\n",
      "\n",
      "\n",
      "\n",
      "Your submission received the following results when run against available test cases:\n",
      "\n",
      "    q1_1 results: All test cases passed!\n",
      "\n",
      "    q1_2 results: All test cases passed!\n",
      "\n",
      "    q1_3 results: All test cases passed!\n",
      "\n",
      "    q1_4 results: All test cases passed!\n",
      "\n",
      "    q1_5 results: All test cases passed!\n",
      "\n",
      "    q1_6 results: All test cases passed!\n",
      "\n",
      "    q1_7 results: All test cases passed!\n",
      "\n",
      "    q1_8 results: All test cases passed!\n",
      "\n",
      "    q2_1 results: All test cases passed!\n",
      "\n",
      "    q2_2 results: All test cases passed!\n",
      "\n",
      "    q3 results:\n",
      "        q3 - 1 result:\n",
      "            ❌ Test case failed\n",
      "            Trying:\n",
      "                sum([ord(c) for c in codeword])^0xec148 == 966871\n",
      "            Expecting:\n",
      "                True\n",
      "            **********************************************************************\n",
      "            Line 1, in q3 0\n",
      "            Failed example:\n",
      "                sum([ord(c) for c in codeword])^0xec148 == 966871\n",
      "            Exception raised:\n",
      "                Traceback (most recent call last):\n",
      "                  File \"/opt/conda/lib/python3.9/doctest.py\", line 1334, in __run\n",
      "                    exec(compile(example.source, filename, \"single\",\n",
      "                  File \"<doctest q3 0[0]>\", line 1, in <module>\n",
      "                    sum([ord(c) for c in codeword])^0xec148 == 966871\n",
      "                TypeError: 'ellipsis' object is not iterable\n"
     ]
    },
    {
     "data": {
      "text/html": [
       "\n",
       "            <p>Your submission has been exported. Click <a href=\"lab04_2023_02_20T16_17_32_543094.zip\" download=\"lab04_2023_02_20T16_17_32_543094.zip\" target=\"_blank\">here</a>\n",
       "            to download the zip file.</p>\n",
       "            "
      ],
      "text/plain": [
       "<IPython.core.display.HTML object>"
      ]
     },
     "metadata": {},
     "output_type": "display_data"
    }
   ],
   "source": [
    "# Save your notebook first, then run this cell to export your submission.\n",
    "grader.export(pdf=False, run_tests=True)"
   ]
  },
  {
   "cell_type": "markdown",
   "id": "89b0b1a8",
   "metadata": {},
   "source": [
    " "
   ]
  }
 ],
 "metadata": {
  "kernelspec": {
   "display_name": "Python 3 (ipykernel)",
   "language": "python",
   "name": "python3"
  },
  "language_info": {
   "codemirror_mode": {
    "name": "ipython",
    "version": 3
   },
   "file_extension": ".py",
   "mimetype": "text/x-python",
   "name": "python",
   "nbconvert_exporter": "python",
   "pygments_lexer": "ipython3",
   "version": "3.9.15"
  },
  "otter": {
   "OK_FORMAT": true,
   "assignment_name": "lab04",
   "tests": {
    "q1_1": {
     "name": "q1_1",
     "points": null,
     "suites": [
      {
       "cases": [
        {
         "code": ">>> res_q1_1.shape == (2357, 5)\nTrue",
         "hidden": false,
         "locked": false
        },
        {
         "code": ">>> np.allclose(res_q1_1[(res_q1_1[\"country_code\"] == \"AFG\") & (res_q1_1[\"indicator_code\"] == \"DT.DIS.DLXF.CD\")].debt, 72894453.7)\nTrue",
         "hidden": false,
         "locked": false
        }
       ],
       "scored": true,
       "setup": "",
       "teardown": "",
       "type": "doctest"
      }
     ]
    },
    "q1_2": {
     "name": "q1_2",
     "points": null,
     "suites": [
      {
       "cases": [
        {
         "code": ">>> res_q1_2.shape == (12, 5)\nTrue",
         "hidden": false,
         "locked": false
        },
        {
         "code": ">>> np.all(res_q1_2[\"country_code\"] == \"AFG\")\nTrue",
         "hidden": false,
         "locked": false
        }
       ],
       "scored": true,
       "setup": "",
       "teardown": "",
       "type": "doctest"
      }
     ]
    },
    "q1_3": {
     "name": "q1_3",
     "points": null,
     "suites": [
      {
       "cases": [
        {
         "code": ">>> res_q1_3.shape == (1, 1)\nTrue",
         "hidden": false,
         "locked": false
        },
        {
         "code": ">>> res_q1_3.columns[0] == 'total_distinct_countries'\nTrue",
         "hidden": false,
         "locked": false
        },
        {
         "code": ">>> np.isclose(res_q1_3.iloc[0, 0], 124)\nTrue",
         "hidden": false,
         "locked": false
        }
       ],
       "scored": true,
       "setup": "",
       "teardown": "",
       "type": "doctest"
      }
     ]
    },
    "q1_4": {
     "name": "q1_4",
     "points": null,
     "suites": [
      {
       "cases": [
        {
         "code": ">>> res_q1_4.shape == (25, 1)\nTrue",
         "hidden": false,
         "locked": false
        },
        {
         "code": ">>> res_q1_4.columns[0] == 'distinct_debt_indicators'\nTrue",
         "hidden": false,
         "locked": false
        },
        {
         "code": ">>> len(res_q1_4.iloc[:,0].unique()) == 25\nTrue",
         "hidden": false,
         "locked": false
        }
       ],
       "scored": true,
       "setup": "",
       "teardown": "",
       "type": "doctest"
      }
     ]
    },
    "q1_5": {
     "name": "q1_5",
     "points": null,
     "suites": [
      {
       "cases": [
        {
         "code": ">>> res_q1_5.shape == (124, 2)\nTrue",
         "hidden": false,
         "locked": false
        },
        {
         "code": ">>> res_q1_5.iloc[5].country_name == \"Azerbaijan\"\nTrue",
         "hidden": false,
         "locked": false
        },
        {
         "code": ">>> np.isclose(res_q1_5.iloc[5].total_debt, 8.753733e+09)\nTrue",
         "hidden": false,
         "locked": false
        }
       ],
       "scored": true,
       "setup": "",
       "teardown": "",
       "type": "doctest"
      }
     ]
    },
    "q1_6": {
     "name": "q1_6",
     "points": null,
     "suites": [
      {
       "cases": [
        {
         "code": ">>> res_q1_6.shape == (124, 2)\nTrue",
         "hidden": false,
         "locked": false
        },
        {
         "code": ">>> res_q1_6.iloc[4].country_name == \"Russian Federation\"\nTrue",
         "hidden": false,
         "locked": false
        },
        {
         "code": ">>> np.isclose(res_q1_6.iloc[4].total_debt, 1.912891e+11)\nTrue",
         "hidden": false,
         "locked": false
        }
       ],
       "scored": true,
       "setup": "",
       "teardown": "",
       "type": "doctest"
      }
     ]
    },
    "q1_7": {
     "name": "q1_7",
     "points": null,
     "suites": [
      {
       "cases": [
        {
         "code": ">>> res_q1_7.shape == (25, 2)\nTrue",
         "hidden": false,
         "locked": false
        },
        {
         "code": ">>> res_q1_7.iloc[4].indicator_name == 'Interest payments on external debt, long-term (INT, current US$)'\nTrue",
         "hidden": false,
         "locked": false
        },
        {
         "code": ">>> np.isclose(res_q1_7.iloc[4].total_debt, 2.038590e+11)\nTrue",
         "hidden": false,
         "locked": false
        }
       ],
       "scored": true,
       "setup": "",
       "teardown": "",
       "type": "doctest"
      }
     ]
    },
    "q1_8": {
     "name": "q1_8",
     "points": null,
     "suites": [
      {
       "cases": [
        {
         "code": ">>> res_q1_8.shape == (48, 5)\nTrue",
         "hidden": false,
         "locked": false
        },
        {
         "code": ">>> np.all(res_q1_8[\"country_code\"].isin([\"CHN\", \"BRA\"]))\nTrue",
         "hidden": false,
         "locked": false
        },
        {
         "code": ">>> res_q1_8.iloc[4].indicator_name == 'Principal repayments on external debt, private nonguaranteed (PNG) (AMT, current US$)'\nTrue",
         "hidden": false,
         "locked": false
        },
        {
         "code": ">>> np.isclose(res_q1_8.iloc[4].debt, 41831444053.3)\nTrue",
         "hidden": false,
         "locked": false
        }
       ],
       "scored": true,
       "setup": "",
       "teardown": "",
       "type": "doctest"
      }
     ]
    },
    "q2_1": {
     "name": "q2_1",
     "points": null,
     "suites": [
      {
       "cases": [
        {
         "code": ">>> len(q2_1) > 0\nTrue",
         "hidden": false,
         "locked": false
        },
        {
         "code": ">>> sum([ord(c) for c in q2_1])^0xec148 == 967055\nFalse",
         "hidden": false,
         "locked": false
        }
       ],
       "scored": true,
       "setup": "",
       "teardown": "",
       "type": "doctest"
      }
     ]
    },
    "q2_2": {
     "name": "q2_2",
     "points": null,
     "suites": [
      {
       "cases": [
        {
         "code": ">>> len(q2_2) > 0\nTrue",
         "hidden": false,
         "locked": false
        },
        {
         "code": ">>> sum([ord(c) for c in q2_2])^0xec148 == 966956\nTrue",
         "hidden": false,
         "locked": false
        }
       ],
       "scored": true,
       "setup": "",
       "teardown": "",
       "type": "doctest"
      }
     ]
    },
    "q3": {
     "name": "q3",
     "points": null,
     "suites": [
      {
       "cases": [
        {
         "code": ">>> sum([ord(c) for c in codeword])^0xec148 == 966871\nTrue",
         "hidden": false,
         "locked": false
        }
       ],
       "scored": true,
       "setup": "",
       "teardown": "",
       "type": "doctest"
      }
     ]
    }
   }
  }
 },
 "nbformat": 4,
 "nbformat_minor": 5
}
