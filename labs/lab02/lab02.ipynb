{
 "cells": [
  {
   "cell_type": "code",
   "execution_count": 96,
   "id": "50477ae3",
   "metadata": {
    "deletable": false,
    "editable": false
   },
   "outputs": [],
   "source": [
    "# Initialize Otter\n",
    "import otter\n",
    "grader = otter.Notebook(\"lab02.ipynb\")"
   ]
  },
  {
   "cell_type": "code",
   "execution_count": 97,
   "id": "676e2704",
   "metadata": {},
   "outputs": [],
   "source": [
    "import numpy as np\n",
    "import pandas as pd\n",
    "import matplotlib.pyplot as plt\n",
    "import requests\n",
    "from urllib.parse import urlencode"
   ]
  },
  {
   "cell_type": "markdown",
   "id": "259c6b3d",
   "metadata": {},
   "source": [
    "# Lab 2: API and Data Cleaning"
   ]
  },
  {
   "cell_type": "markdown",
   "id": "315c541f",
   "metadata": {},
   "source": [
    "This lab consists of two sections: the first section will give you a practice in making a simple API call to fetch economic data using the general method; the rest of the lab takes a look at IPUMS census data and improves your ability to clean and manipulate data. "
   ]
  },
  {
   "cell_type": "markdown",
   "id": "4dc8e13c",
   "metadata": {},
   "source": [
    "#### Learning Objectives\n",
    "- How to make an API call to extract data in the basic settings. \n",
    "- How to postprocess the API response and convert the returned data into a dataframe. \n",
    "- Filter a dataset for relevant rows and columns. \n",
    "- Use groupby and common aggregation techniques. \n",
    "- Sort the dataframe by a column. "
   ]
  },
  {
   "cell_type": "markdown",
   "id": "2606ce2f",
   "metadata": {},
   "source": [
    "----\n",
    "## Section 1: Phillips Curve and FRED API\n",
    "In lab 1, we plotted an empirical Phillips curve using data that we had locally. This time, we will go one step further and use an API (Application Programming Interface) to get the data from FRED. In this section, we will introduce the general method of interacting with online data sources through an API, using [FRED API](https://fred.stlouisfed.org/docs/api/fred/) as a simple example. "
   ]
  },
  {
   "cell_type": "markdown",
   "id": "d3c29981",
   "metadata": {},
   "source": [
    "### Step 1: Get the API Key\n",
    "**In most cases, you will need to obtain an API key in order to access an API.** For many resources, this involves some paperwork to apply and/or have limited free usage, so it is good practice to keep your API keys private as long as it is possible. In this lecture notebook, we will use macroeconomic data from FRED, which is one of the most popular and convenient sources of economic data. For FRED, the process of obtaining an API key is simple. Request the API key [here](https://fred.stlouisfed.org/docs/api/api_key.html). "
   ]
  },
  {
   "cell_type": "markdown",
   "id": "2b0b32d1",
   "metadata": {},
   "source": [
    "**Question 1.1:** Request an API key at FRED and paste your API key below. \n",
    "\n",
    "Note: For submission, feel free to redact your API key (i.e. replace it with some arbitrary strings); our autograder is configured to not use your API key in testing. It is a good practice not to include your API keys in files that you will share with others. "
   ]
  },
  {
   "cell_type": "code",
   "execution_count": 98,
   "id": "9c10722f",
   "metadata": {
    "tags": []
   },
   "outputs": [],
   "source": [
    "api_key = \"0fbd84472d204b6361f2ba22dbe73e7a\""
   ]
  },
  {
   "cell_type": "code",
   "execution_count": 99,
   "id": "41af5d6c",
   "metadata": {
    "deletable": false,
    "editable": false
   },
   "outputs": [
    {
     "data": {
      "text/html": [
       "<p><strong><pre style='display: inline;'>q1_1</pre></strong> passed! 🚀</p>"
      ],
      "text/plain": [
       "q1_1 results: All test cases passed!"
      ]
     },
     "execution_count": 99,
     "metadata": {},
     "output_type": "execute_result"
    }
   ],
   "source": [
    "grader.check(\"q1_1\")"
   ]
  },
  {
   "cell_type": "markdown",
   "id": "acf23465",
   "metadata": {},
   "source": [
    "### Step 2: Learn to use the API\n",
    "Using an API is like ordering food at a restaurant with a menu. In order to have a delicious meal, we need to know what foods the restaurant offers, and any other additional information (for example, how would you like your steak). Similarly, it is very important for us to know what requests an API will make by reading the API documentation. **The API documentation will tell us about how to use specific commands to get the data that we want, and what the data returned will look like.** Check out the Fred API's documentation [here](https://fred.stlouisfed.org/docs/api/fred/series_observations.html). "
   ]
  },
  {
   "cell_type": "markdown",
   "id": "77ed2297",
   "metadata": {},
   "source": [
    "<!-- BEGIN QUESTION -->\n",
    "\n",
    "**Question 1.2:** Identify the parameters and their values you must use if you want to obtain year-over-year real GDP percentage changes (i.e. percent change from year ago values). \n",
    "\n",
    "Hint: You can look up the `series_id` of real GDP by searching it on Fred's website. It should be listed in parentheses next to the name of the series. "
   ]
  },
  {
   "cell_type": "markdown",
   "id": "a4a2f9dc",
   "metadata": {},
   "source": [
    "\"real_time_start\", \"real_time_end\", \"data\", and \"value\""
   ]
  },
  {
   "cell_type": "markdown",
   "id": "a9cfa7bc",
   "metadata": {},
   "source": [
    "<!-- END QUESTION -->\n",
    "\n",
    "### Step 3: Make the fetch!\n",
    "Now we are ready to start writing code to fetch the data we want through the API. "
   ]
  },
  {
   "cell_type": "markdown",
   "id": "9385ec7a",
   "metadata": {},
   "source": [
    "**Question 1.3:** Complete the function below that can fetch json data given `base_url`, `endpoint` and `params` using the [`requests`](https://pypi.org/project/requests/) module.  \n",
    "\n",
    "Hint 1: See Question 1.4 to find out how `base_url`, `endpoint` and `params`look like.\n",
    "\n",
    "Hint 2: Python has special strings called **f-strings** where it fills in the value of a variable for you. For example:\n",
    "\n",
    "```python\n",
    ">>> arr = np.array([1, 2, 3])\n",
    ">>> print(f\"The second element of arr is {arr[1]}\")\n",
    "The second element of arr is 2\n",
    "```\n",
    "You may want to use f-strings when you put together the query url from `base_url`, `endpoint` and `url_params`. "
   ]
  },
  {
   "cell_type": "code",
   "execution_count": 100,
   "id": "9b8e7b71",
   "metadata": {
    "tags": []
   },
   "outputs": [],
   "source": [
    "def fetch(base_url, endpoint, params, url_only=False):\n",
    "    # forms API request\n",
    "    url_params = urlencode(params)\n",
    "    url = f\"{base_url}{endpoint}?{url_params}\"\n",
    "    \n",
    "    # For testing purposes only, do not delete\n",
    "    if url_only:\n",
    "        return url\n",
    "    \n",
    "    # fires off the request\n",
    "    res = requests.get(url)\n",
    "    \n",
    "    # checks if the request encounters an error\n",
    "    if res.status_code not in range(200, 299):\n",
    "        raise Exception(f\"Fetch request failed (Error: {res.status_code})\")\n",
    "    \n",
    "    # return the content of the response\n",
    "    return res.json()"
   ]
  },
  {
   "cell_type": "code",
   "execution_count": 101,
   "id": "08845f81",
   "metadata": {
    "deletable": false,
    "editable": false
   },
   "outputs": [
    {
     "data": {
      "text/html": [
       "<p><strong><pre style='display: inline;'>q1_3</pre></strong> passed! 🎉</p>"
      ],
      "text/plain": [
       "q1_3 results: All test cases passed!"
      ]
     },
     "execution_count": 101,
     "metadata": {},
     "output_type": "execute_result"
    }
   ],
   "source": [
    "grader.check(\"q1_3\")"
   ]
  },
  {
   "cell_type": "markdown",
   "id": "fdf68aee",
   "metadata": {},
   "source": [
    "**Question 1.4:** We want to get **quarterly** unemployment data (series id: **UNRATE**) **from the first quarter in 1958 (1958-01-01) to the last quarter in 2022 (2022-10-01)** from Fred API. Complete the code below to fetch and construct a dataframe with two columns, `date` and `unrate`. \n",
    "\n",
    "Note: Use observation period for dates. You don't need to sort the data--use the default ordering. If you need to aggregate the data, use the default averaging method.   "
   ]
  },
  {
   "cell_type": "code",
   "execution_count": 102,
   "id": "e5db6ef7",
   "metadata": {
    "tags": []
   },
   "outputs": [
    {
     "data": {
      "text/html": [
       "<div>\n",
       "<style scoped>\n",
       "    .dataframe tbody tr th:only-of-type {\n",
       "        vertical-align: middle;\n",
       "    }\n",
       "\n",
       "    .dataframe tbody tr th {\n",
       "        vertical-align: top;\n",
       "    }\n",
       "\n",
       "    .dataframe thead th {\n",
       "        text-align: right;\n",
       "    }\n",
       "</style>\n",
       "<table border=\"1\" class=\"dataframe\">\n",
       "  <thead>\n",
       "    <tr style=\"text-align: right;\">\n",
       "      <th></th>\n",
       "      <th>date</th>\n",
       "      <th>unrate</th>\n",
       "    </tr>\n",
       "  </thead>\n",
       "  <tbody>\n",
       "    <tr>\n",
       "      <th>0</th>\n",
       "      <td>1958-01-01</td>\n",
       "      <td>6.3</td>\n",
       "    </tr>\n",
       "    <tr>\n",
       "      <th>1</th>\n",
       "      <td>1958-04-01</td>\n",
       "      <td>7.4</td>\n",
       "    </tr>\n",
       "    <tr>\n",
       "      <th>2</th>\n",
       "      <td>1958-07-01</td>\n",
       "      <td>7.3</td>\n",
       "    </tr>\n",
       "    <tr>\n",
       "      <th>3</th>\n",
       "      <td>1958-10-01</td>\n",
       "      <td>6.4</td>\n",
       "    </tr>\n",
       "    <tr>\n",
       "      <th>4</th>\n",
       "      <td>1959-01-01</td>\n",
       "      <td>5.8</td>\n",
       "    </tr>\n",
       "    <tr>\n",
       "      <th>...</th>\n",
       "      <td>...</td>\n",
       "      <td>...</td>\n",
       "    </tr>\n",
       "    <tr>\n",
       "      <th>255</th>\n",
       "      <td>2021-10-01</td>\n",
       "      <td>4.2</td>\n",
       "    </tr>\n",
       "    <tr>\n",
       "      <th>256</th>\n",
       "      <td>2022-01-01</td>\n",
       "      <td>3.8</td>\n",
       "    </tr>\n",
       "    <tr>\n",
       "      <th>257</th>\n",
       "      <td>2022-04-01</td>\n",
       "      <td>3.6</td>\n",
       "    </tr>\n",
       "    <tr>\n",
       "      <th>258</th>\n",
       "      <td>2022-07-01</td>\n",
       "      <td>3.6</td>\n",
       "    </tr>\n",
       "    <tr>\n",
       "      <th>259</th>\n",
       "      <td>2022-10-01</td>\n",
       "      <td>3.6</td>\n",
       "    </tr>\n",
       "  </tbody>\n",
       "</table>\n",
       "<p>260 rows × 2 columns</p>\n",
       "</div>"
      ],
      "text/plain": [
       "           date unrate\n",
       "0    1958-01-01    6.3\n",
       "1    1958-04-01    7.4\n",
       "2    1958-07-01    7.3\n",
       "3    1958-10-01    6.4\n",
       "4    1959-01-01    5.8\n",
       "..          ...    ...\n",
       "255  2021-10-01    4.2\n",
       "256  2022-01-01    3.8\n",
       "257  2022-04-01    3.6\n",
       "258  2022-07-01    3.6\n",
       "259  2022-10-01    3.6\n",
       "\n",
       "[260 rows x 2 columns]"
      ]
     },
     "execution_count": 102,
     "metadata": {},
     "output_type": "execute_result"
    }
   ],
   "source": [
    "base_url = \"https://api.stlouisfed.org\"\n",
    "endpoint = \"/fred/series/observations\"\n",
    "params_UNRATE = {\"series_id\": \"UNRATE\", \n",
    "                 \"observation_start\": \"1958-01-01\",\n",
    "                 \"observation_end\": \"2022-10-01\",\n",
    "                 \"units\": \"lin\",\n",
    "                 \"frequency\": \"q\",\n",
    "                 \"api_key\": api_key,\n",
    "                 \"file_type\": \"json\"\n",
    "                }\n",
    "\n",
    "# fetch data\n",
    "res_json_UNRATE = fetch(base_url, endpoint, params_UNRATE)\n",
    "\n",
    "\n",
    "# process json data and store it as a dataframe\n",
    "unemployment = pd.DataFrame(res_json_UNRATE[\"observations\"])[[\"date\", \"value\"]] # hint: look at what's inside of `res_json_UNRATE`\n",
    "unemployment.rename(columns={\"value\": \"unrate\"}, inplace=True)\n",
    "unemployment"
   ]
  },
  {
   "cell_type": "code",
   "execution_count": 103,
   "id": "dc5e7a9b",
   "metadata": {
    "deletable": false,
    "editable": false
   },
   "outputs": [
    {
     "data": {
      "text/html": [
       "<p><strong><pre style='display: inline;'>q1_4</pre></strong> passed! 🌈</p>"
      ],
      "text/plain": [
       "q1_4 results: All test cases passed!"
      ]
     },
     "execution_count": 103,
     "metadata": {},
     "output_type": "execute_result"
    }
   ],
   "source": [
    "grader.check(\"q1_4\")"
   ]
  },
  {
   "cell_type": "markdown",
   "id": "f100bf63",
   "metadata": {},
   "source": [
    "**Question 1.5:** Now we want to get the inflation data. This time we will be using **percent change from year ago** core CPI data (series id: **CPILFESL**) as our inflation measure. Get the **quarterly data from the first quarter in 1958 (1958-01-01) to the last quarter in 2022 (2022-10-01)** from Fred API. Complete the code below to fetch and construct a dataframe with two columns, `date` and `inflation`. \n",
    "\n",
    "Note: Use observation period for dates. You don't need to sort the data--use the default ordering. If you need to aggregate the data, use the default averaging method. "
   ]
  },
  {
   "cell_type": "code",
   "execution_count": 104,
   "id": "e277af7e",
   "metadata": {
    "tags": []
   },
   "outputs": [
    {
     "data": {
      "text/html": [
       "<div>\n",
       "<style scoped>\n",
       "    .dataframe tbody tr th:only-of-type {\n",
       "        vertical-align: middle;\n",
       "    }\n",
       "\n",
       "    .dataframe tbody tr th {\n",
       "        vertical-align: top;\n",
       "    }\n",
       "\n",
       "    .dataframe thead th {\n",
       "        text-align: right;\n",
       "    }\n",
       "</style>\n",
       "<table border=\"1\" class=\"dataframe\">\n",
       "  <thead>\n",
       "    <tr style=\"text-align: right;\">\n",
       "      <th></th>\n",
       "      <th>date</th>\n",
       "      <th>inflation</th>\n",
       "    </tr>\n",
       "  </thead>\n",
       "  <tbody>\n",
       "    <tr>\n",
       "      <th>0</th>\n",
       "      <td>1958-01-01</td>\n",
       "      <td>2.79720</td>\n",
       "    </tr>\n",
       "    <tr>\n",
       "      <th>1</th>\n",
       "      <td>1958-04-01</td>\n",
       "      <td>2.42775</td>\n",
       "    </tr>\n",
       "    <tr>\n",
       "      <th>2</th>\n",
       "      <td>1958-07-01</td>\n",
       "      <td>2.06659</td>\n",
       "    </tr>\n",
       "    <tr>\n",
       "      <th>3</th>\n",
       "      <td>1958-10-01</td>\n",
       "      <td>1.82232</td>\n",
       "    </tr>\n",
       "    <tr>\n",
       "      <th>4</th>\n",
       "      <td>1959-01-01</td>\n",
       "      <td>1.81406</td>\n",
       "    </tr>\n",
       "    <tr>\n",
       "      <th>...</th>\n",
       "      <td>...</td>\n",
       "      <td>...</td>\n",
       "    </tr>\n",
       "    <tr>\n",
       "      <th>255</th>\n",
       "      <td>2021-10-01</td>\n",
       "      <td>5.00808</td>\n",
       "    </tr>\n",
       "    <tr>\n",
       "      <th>256</th>\n",
       "      <td>2022-01-01</td>\n",
       "      <td>6.29779</td>\n",
       "    </tr>\n",
       "    <tr>\n",
       "      <th>257</th>\n",
       "      <td>2022-04-01</td>\n",
       "      <td>6.01857</td>\n",
       "    </tr>\n",
       "    <tr>\n",
       "      <th>258</th>\n",
       "      <td>2022-07-01</td>\n",
       "      <td>6.29602</td>\n",
       "    </tr>\n",
       "    <tr>\n",
       "      <th>259</th>\n",
       "      <td>2022-10-01</td>\n",
       "      <td>5.98561</td>\n",
       "    </tr>\n",
       "  </tbody>\n",
       "</table>\n",
       "<p>260 rows × 2 columns</p>\n",
       "</div>"
      ],
      "text/plain": [
       "           date inflation\n",
       "0    1958-01-01   2.79720\n",
       "1    1958-04-01   2.42775\n",
       "2    1958-07-01   2.06659\n",
       "3    1958-10-01   1.82232\n",
       "4    1959-01-01   1.81406\n",
       "..          ...       ...\n",
       "255  2021-10-01   5.00808\n",
       "256  2022-01-01   6.29779\n",
       "257  2022-04-01   6.01857\n",
       "258  2022-07-01   6.29602\n",
       "259  2022-10-01   5.98561\n",
       "\n",
       "[260 rows x 2 columns]"
      ]
     },
     "execution_count": 104,
     "metadata": {},
     "output_type": "execute_result"
    }
   ],
   "source": [
    "params_INFLATION = {\"series_id\": \"CPILFESL\", \n",
    "                 \"observation_start\": \"1958-01-01\",\n",
    "                 \"observation_end\": \"2022-10-01\",\n",
    "                 \"units\": \"pc1\",\n",
    "                 \"frequency\": \"q\",\n",
    "                 \"api_key\": api_key,\n",
    "                 \"file_type\": \"json\"\n",
    "                }\n",
    "\n",
    "# fetch data\n",
    "res_json_INFLATION = fetch(base_url, endpoint, params_INFLATION)\n",
    "\n",
    "# process json data and store it as a dataframe\n",
    "inflation = pd.DataFrame(res_json_INFLATION[\"observations\"])[[\"date\", \"value\"]] # hint: look at what's inside of `res_json_INFLATION`\n",
    "inflation.rename(columns={\"value\": \"inflation\"}, inplace=True)\n",
    "inflation"
   ]
  },
  {
   "cell_type": "code",
   "execution_count": 105,
   "id": "89a9abb9",
   "metadata": {
    "deletable": false,
    "editable": false
   },
   "outputs": [
    {
     "data": {
      "text/html": [
       "<p><strong><pre style='display: inline;'>q1_5</pre></strong> passed! 💯</p>"
      ],
      "text/plain": [
       "q1_5 results: All test cases passed!"
      ]
     },
     "execution_count": 105,
     "metadata": {},
     "output_type": "execute_result"
    }
   ],
   "source": [
    "grader.check(\"q1_5\")"
   ]
  },
  {
   "cell_type": "markdown",
   "id": "149820c0",
   "metadata": {},
   "source": [
    "### Step 4: Plot empirical Phillips curve (again)\n",
    "And now we can graph our empirical Phillips curve!"
   ]
  },
  {
   "cell_type": "code",
   "execution_count": 106,
   "id": "a4a1952e",
   "metadata": {},
   "outputs": [
    {
     "data": {
      "image/png": "[encoded data removed]",
      "text/plain": [
       "<Figure size 640x480 with 1 Axes>"
      ]
     },
     "metadata": {},
     "output_type": "display_data"
    }
   ],
   "source": [
    "phillips_curve_df = unemployment.merge(inflation, how=\"inner\", on=\"date\")\n",
    "\n",
    "# convert data types from strings to floats\n",
    "phillips_curve_df['unrate'] = phillips_curve_df['unrate'].astype(float)\n",
    "phillips_curve_df['inflation'] = phillips_curve_df['inflation'].astype(float)\n",
    "\n",
    "phillips_curve_df.plot.scatter('unrate', 'inflation');"
   ]
  },
  {
   "cell_type": "markdown",
   "id": "a27c64ba",
   "metadata": {},
   "source": [
    "Check to see if this looks the same as in Lab 1!"
   ]
  },
  {
   "cell_type": "markdown",
   "id": "473dcfbf",
   "metadata": {},
   "source": [
    "----\n",
    "## Section 2: College Majors\n",
    "This section is inspired by [\"The Economic Guide To Picking A College Major\"](https://fivethirtyeight.com/features/the-economic-guide-to-picking-a-college-major/) by FiveThirtyEight. We won't be doing the full length of analysis here."
   ]
  },
  {
   "cell_type": "markdown",
   "id": "b7fa667f",
   "metadata": {},
   "source": [
    "### Import Data\n",
    "The dataset is a data extract from [IPUMS USA](https://usa.ipums.org/usa/) for the 2019 ACS and the 2009 ACS.  IPUMS USA collects, preserves and harmonizes U.S. census microdata and provides easy access to these data with enhanced documentation. Data include decennial censuses from 1790 to 2010 and American Community Surveys (ACS) from 2000 to the present. \n",
    "\n",
    "In this part of the lab, we will use a fraction (about 6\\%) of the data due to Datahub's memory limitation. Feel free to download the entire IPUMS data and play around with it on your local machine. \n",
    "\n",
    "First, we will import the data sample. "
   ]
  },
  {
   "cell_type": "code",
   "execution_count": 107,
   "id": "65867430",
   "metadata": {},
   "outputs": [
    {
     "data": {
      "text/html": [
       "<div>\n",
       "<style scoped>\n",
       "    .dataframe tbody tr th:only-of-type {\n",
       "        vertical-align: middle;\n",
       "    }\n",
       "\n",
       "    .dataframe tbody tr th {\n",
       "        vertical-align: top;\n",
       "    }\n",
       "\n",
       "    .dataframe thead th {\n",
       "        text-align: right;\n",
       "    }\n",
       "</style>\n",
       "<table border=\"1\" class=\"dataframe\">\n",
       "  <thead>\n",
       "    <tr style=\"text-align: right;\">\n",
       "      <th></th>\n",
       "      <th>YEAR</th>\n",
       "      <th>SAMPLE</th>\n",
       "      <th>SERIAL</th>\n",
       "      <th>CBSERIAL</th>\n",
       "      <th>AGE</th>\n",
       "      <th>SCHOOL</th>\n",
       "      <th>EDUC</th>\n",
       "      <th>EDUCD</th>\n",
       "      <th>DEGFIELD</th>\n",
       "      <th>DEGFIELDD</th>\n",
       "      <th>DEGFIELD2</th>\n",
       "      <th>DEGFIELD2D</th>\n",
       "      <th>EMPSTAT</th>\n",
       "      <th>EMPSTATD</th>\n",
       "      <th>OCC</th>\n",
       "      <th>INCTOT</th>\n",
       "      <th>INCWAGE</th>\n",
       "      <th>INCWAGE_CPIU_2010</th>\n",
       "    </tr>\n",
       "  </thead>\n",
       "  <tbody>\n",
       "    <tr>\n",
       "      <th>0</th>\n",
       "      <td>2009</td>\n",
       "      <td>200901</td>\n",
       "      <td>19</td>\n",
       "      <td>1138</td>\n",
       "      <td>58</td>\n",
       "      <td>1</td>\n",
       "      <td>10</td>\n",
       "      <td>101</td>\n",
       "      <td>62</td>\n",
       "      <td>6203</td>\n",
       "      <td>0</td>\n",
       "      <td>0</td>\n",
       "      <td>1</td>\n",
       "      <td>10</td>\n",
       "      <td>420</td>\n",
       "      <td>40000</td>\n",
       "      <td>40000</td>\n",
       "      <td>40656.0</td>\n",
       "    </tr>\n",
       "    <tr>\n",
       "      <th>1</th>\n",
       "      <td>2009</td>\n",
       "      <td>200901</td>\n",
       "      <td>47</td>\n",
       "      <td>3200</td>\n",
       "      <td>56</td>\n",
       "      <td>1</td>\n",
       "      <td>7</td>\n",
       "      <td>71</td>\n",
       "      <td>0</td>\n",
       "      <td>0</td>\n",
       "      <td>0</td>\n",
       "      <td>0</td>\n",
       "      <td>3</td>\n",
       "      <td>30</td>\n",
       "      <td>0</td>\n",
       "      <td>11000</td>\n",
       "      <td>0</td>\n",
       "      <td>0.0</td>\n",
       "    </tr>\n",
       "    <tr>\n",
       "      <th>2</th>\n",
       "      <td>2009</td>\n",
       "      <td>200901</td>\n",
       "      <td>81</td>\n",
       "      <td>5508</td>\n",
       "      <td>7</td>\n",
       "      <td>2</td>\n",
       "      <td>1</td>\n",
       "      <td>12</td>\n",
       "      <td>0</td>\n",
       "      <td>0</td>\n",
       "      <td>0</td>\n",
       "      <td>0</td>\n",
       "      <td>0</td>\n",
       "      <td>0</td>\n",
       "      <td>0</td>\n",
       "      <td>9999999</td>\n",
       "      <td>999999</td>\n",
       "      <td>NaN</td>\n",
       "    </tr>\n",
       "    <tr>\n",
       "      <th>3</th>\n",
       "      <td>2009</td>\n",
       "      <td>200901</td>\n",
       "      <td>89</td>\n",
       "      <td>5890</td>\n",
       "      <td>13</td>\n",
       "      <td>2</td>\n",
       "      <td>2</td>\n",
       "      <td>23</td>\n",
       "      <td>0</td>\n",
       "      <td>0</td>\n",
       "      <td>0</td>\n",
       "      <td>0</td>\n",
       "      <td>0</td>\n",
       "      <td>0</td>\n",
       "      <td>0</td>\n",
       "      <td>9999999</td>\n",
       "      <td>999999</td>\n",
       "      <td>NaN</td>\n",
       "    </tr>\n",
       "    <tr>\n",
       "      <th>4</th>\n",
       "      <td>2009</td>\n",
       "      <td>200901</td>\n",
       "      <td>95</td>\n",
       "      <td>6104</td>\n",
       "      <td>93</td>\n",
       "      <td>1</td>\n",
       "      <td>6</td>\n",
       "      <td>61</td>\n",
       "      <td>0</td>\n",
       "      <td>0</td>\n",
       "      <td>0</td>\n",
       "      <td>0</td>\n",
       "      <td>3</td>\n",
       "      <td>30</td>\n",
       "      <td>0</td>\n",
       "      <td>8100</td>\n",
       "      <td>0</td>\n",
       "      <td>0.0</td>\n",
       "    </tr>\n",
       "    <tr>\n",
       "      <th>...</th>\n",
       "      <td>...</td>\n",
       "      <td>...</td>\n",
       "      <td>...</td>\n",
       "      <td>...</td>\n",
       "      <td>...</td>\n",
       "      <td>...</td>\n",
       "      <td>...</td>\n",
       "      <td>...</td>\n",
       "      <td>...</td>\n",
       "      <td>...</td>\n",
       "      <td>...</td>\n",
       "      <td>...</td>\n",
       "      <td>...</td>\n",
       "      <td>...</td>\n",
       "      <td>...</td>\n",
       "      <td>...</td>\n",
       "      <td>...</td>\n",
       "      <td>...</td>\n",
       "    </tr>\n",
       "    <tr>\n",
       "      <th>199995</th>\n",
       "      <td>2019</td>\n",
       "      <td>201901</td>\n",
       "      <td>1427987</td>\n",
       "      <td>2019001384908</td>\n",
       "      <td>76</td>\n",
       "      <td>1</td>\n",
       "      <td>11</td>\n",
       "      <td>114</td>\n",
       "      <td>23</td>\n",
       "      <td>2306</td>\n",
       "      <td>0</td>\n",
       "      <td>0</td>\n",
       "      <td>3</td>\n",
       "      <td>30</td>\n",
       "      <td>0</td>\n",
       "      <td>126800</td>\n",
       "      <td>0</td>\n",
       "      <td>0.0</td>\n",
       "    </tr>\n",
       "    <tr>\n",
       "      <th>199996</th>\n",
       "      <td>2019</td>\n",
       "      <td>201901</td>\n",
       "      <td>1427991</td>\n",
       "      <td>2019001385560</td>\n",
       "      <td>17</td>\n",
       "      <td>2</td>\n",
       "      <td>5</td>\n",
       "      <td>50</td>\n",
       "      <td>0</td>\n",
       "      <td>0</td>\n",
       "      <td>0</td>\n",
       "      <td>0</td>\n",
       "      <td>3</td>\n",
       "      <td>30</td>\n",
       "      <td>0</td>\n",
       "      <td>0</td>\n",
       "      <td>0</td>\n",
       "      <td>0.0</td>\n",
       "    </tr>\n",
       "    <tr>\n",
       "      <th>199997</th>\n",
       "      <td>2019</td>\n",
       "      <td>201901</td>\n",
       "      <td>1428005</td>\n",
       "      <td>2019001395346</td>\n",
       "      <td>32</td>\n",
       "      <td>1</td>\n",
       "      <td>6</td>\n",
       "      <td>63</td>\n",
       "      <td>0</td>\n",
       "      <td>0</td>\n",
       "      <td>0</td>\n",
       "      <td>0</td>\n",
       "      <td>1</td>\n",
       "      <td>10</td>\n",
       "      <td>7810</td>\n",
       "      <td>24000</td>\n",
       "      <td>24000</td>\n",
       "      <td>20470.0</td>\n",
       "    </tr>\n",
       "    <tr>\n",
       "      <th>199998</th>\n",
       "      <td>2019</td>\n",
       "      <td>201901</td>\n",
       "      <td>1428005</td>\n",
       "      <td>2019001395346</td>\n",
       "      <td>6</td>\n",
       "      <td>2</td>\n",
       "      <td>1</td>\n",
       "      <td>12</td>\n",
       "      <td>0</td>\n",
       "      <td>0</td>\n",
       "      <td>0</td>\n",
       "      <td>0</td>\n",
       "      <td>0</td>\n",
       "      <td>0</td>\n",
       "      <td>0</td>\n",
       "      <td>9999999</td>\n",
       "      <td>999999</td>\n",
       "      <td>NaN</td>\n",
       "    </tr>\n",
       "    <tr>\n",
       "      <th>199999</th>\n",
       "      <td>2019</td>\n",
       "      <td>201901</td>\n",
       "      <td>1428029</td>\n",
       "      <td>2019001407897</td>\n",
       "      <td>51</td>\n",
       "      <td>1</td>\n",
       "      <td>10</td>\n",
       "      <td>101</td>\n",
       "      <td>13</td>\n",
       "      <td>1301</td>\n",
       "      <td>0</td>\n",
       "      <td>0</td>\n",
       "      <td>1</td>\n",
       "      <td>10</td>\n",
       "      <td>1970</td>\n",
       "      <td>130010</td>\n",
       "      <td>0</td>\n",
       "      <td>0.0</td>\n",
       "    </tr>\n",
       "  </tbody>\n",
       "</table>\n",
       "<p>200000 rows × 18 columns</p>\n",
       "</div>"
      ],
      "text/plain": [
       "        YEAR  SAMPLE   SERIAL       CBSERIAL  AGE  SCHOOL  EDUC  EDUCD  \\\n",
       "0       2009  200901       19           1138   58       1    10    101   \n",
       "1       2009  200901       47           3200   56       1     7     71   \n",
       "2       2009  200901       81           5508    7       2     1     12   \n",
       "3       2009  200901       89           5890   13       2     2     23   \n",
       "4       2009  200901       95           6104   93       1     6     61   \n",
       "...      ...     ...      ...            ...  ...     ...   ...    ...   \n",
       "199995  2019  201901  1427987  2019001384908   76       1    11    114   \n",
       "199996  2019  201901  1427991  2019001385560   17       2     5     50   \n",
       "199997  2019  201901  1428005  2019001395346   32       1     6     63   \n",
       "199998  2019  201901  1428005  2019001395346    6       2     1     12   \n",
       "199999  2019  201901  1428029  2019001407897   51       1    10    101   \n",
       "\n",
       "        DEGFIELD  DEGFIELDD  DEGFIELD2  DEGFIELD2D  EMPSTAT  EMPSTATD   OCC  \\\n",
       "0             62       6203          0           0        1        10   420   \n",
       "1              0          0          0           0        3        30     0   \n",
       "2              0          0          0           0        0         0     0   \n",
       "3              0          0          0           0        0         0     0   \n",
       "4              0          0          0           0        3        30     0   \n",
       "...          ...        ...        ...         ...      ...       ...   ...   \n",
       "199995        23       2306          0           0        3        30     0   \n",
       "199996         0          0          0           0        3        30     0   \n",
       "199997         0          0          0           0        1        10  7810   \n",
       "199998         0          0          0           0        0         0     0   \n",
       "199999        13       1301          0           0        1        10  1970   \n",
       "\n",
       "         INCTOT  INCWAGE  INCWAGE_CPIU_2010  \n",
       "0         40000    40000            40656.0  \n",
       "1         11000        0                0.0  \n",
       "2       9999999   999999                NaN  \n",
       "3       9999999   999999                NaN  \n",
       "4          8100        0                0.0  \n",
       "...         ...      ...                ...  \n",
       "199995   126800        0                0.0  \n",
       "199996        0        0                0.0  \n",
       "199997    24000    24000            20470.0  \n",
       "199998  9999999   999999                NaN  \n",
       "199999   130010        0                0.0  \n",
       "\n",
       "[200000 rows x 18 columns]"
      ]
     },
     "execution_count": 107,
     "metadata": {},
     "output_type": "execute_result"
    }
   ],
   "source": [
    "ipums_raw = pd.read_csv(\"data/ipums-acs-sample.csv\")\n",
    "ipums_raw"
   ]
  },
  {
   "cell_type": "markdown",
   "id": "2256fab2",
   "metadata": {},
   "source": [
    "**Question 2.1:** We have noticed that there are some missing values in the data. To deal with these missing values, complete the code below to drop these missing values from the dataframe. In the future, we will learn about other ways to handle missing values. "
   ]
  },
  {
   "cell_type": "code",
   "execution_count": 108,
   "id": "851d743e",
   "metadata": {
    "tags": []
   },
   "outputs": [
    {
     "data": {
      "text/plain": [
       "162731"
      ]
     },
     "execution_count": 108,
     "metadata": {},
     "output_type": "execute_result"
    }
   ],
   "source": [
    "# drop rows with missing values\n",
    "ipums_raw = ipums_raw.dropna()\n",
    "ipums_raw = ipums_raw.reset_index()\n",
    "ipums_raw.shape[0]"
   ]
  },
  {
   "cell_type": "code",
   "execution_count": 109,
   "id": "56f53df9",
   "metadata": {
    "deletable": false,
    "editable": false
   },
   "outputs": [
    {
     "data": {
      "text/html": [
       "<p><strong><pre style='display: inline;'>q2_1</pre></strong> passed! 🍀</p>"
      ],
      "text/plain": [
       "q2_1 results: All test cases passed!"
      ]
     },
     "execution_count": 109,
     "metadata": {},
     "output_type": "execute_result"
    }
   ],
   "source": [
    "grader.check(\"q2_1\")"
   ]
  },
  {
   "cell_type": "markdown",
   "id": "8535dcb3",
   "metadata": {},
   "source": [
    "### Select Revelant Variables"
   ]
  },
  {
   "cell_type": "markdown",
   "id": "a23bac60",
   "metadata": {},
   "source": [
    "The original dataset contains many variables used to identify a particular household, a person, and their corresponding weights in the sample. These are not our concern, so we will not keep these columns around. \n",
    "\n",
    "Below are the variables we want in the dataframe. "
   ]
  },
  {
   "cell_type": "markdown",
   "id": "e13e031c",
   "metadata": {},
   "source": [
    "| Variable | Label | Description |\n",
    "| --- | --- | --- |\n",
    "| YEAR | Census year | YEAR reports the four-digit year when the household was enumerated or included in the census, the ACS, and the PRCS. |\n",
    "| AGE | Age | AGE reports the person's age in years as of the last birthday. |\n",
    "| SCHOOL | School attendance | SCHOOL indicates whether the respondent attended school during a specified period. |\n",
    "| EDUCD | Educational attainment (detailed version) | EDUC indicates respondents' educational attainment, as measured by the highest year of school or degree completed. |\n",
    "| DEGFIELD | Field of degree (general version) | DEGFIELD reports the field in which the person received a Bachelor's degree, if the person holds a Bachelor's degree. |\n",
    "| DEGFIELDD | Field of degree (detailed version) | DEGFIELD reports the field in which the person received a Bachelor's degree, if the person holds a Bachelor's degree. |\n",
    "| DEGFIELD2 | Field of degree (2) (general version) | DEGFIELD2 reports the second field in which the person received a Bachelor's degree, if the person holds a Bachelor's degree in a second field. |\n",
    "| DEGFIELD2D | Field of degree (2) (detailed version) | DEGFIELD2 reports the second field in which the person received a Bachelor's degree, if the person holds a Bachelor's degree in a second field. |\n",
    "| EMPSTAT | Employment status (general version) | EMPSTAT indicates whether the respondent was a part of the labor force -- working or seeking work -- and, if so, whether the person was currently unemployed. |\n",
    "| OCC | Occupation | OCC reports the person's primary occupation, coded into a contemporary census classification scheme |\n",
    "| INCTOT | Total personal income | INCTOT reports each respondent's total pre-tax personal income or losses from all sources for the previous year. |\n",
    "| INCWAGE | Wage and salary income | INCWAGE reports each respondent's total pre-tax wage and salary income - that is, money received as an employee - for the previous year.  |\n",
    "| INCWAGE_CPIU_2010 | Wage and salary income (standardized using CPIU_2010) | INCWAGE reports each respondent's total pre-tax wage and salary income - that is, money received as an employee - for the previous year. |"
   ]
  },
  {
   "cell_type": "code",
   "execution_count": 110,
   "id": "36cd10b5",
   "metadata": {},
   "outputs": [
    {
     "data": {
      "text/html": [
       "<div>\n",
       "<style scoped>\n",
       "    .dataframe tbody tr th:only-of-type {\n",
       "        vertical-align: middle;\n",
       "    }\n",
       "\n",
       "    .dataframe tbody tr th {\n",
       "        vertical-align: top;\n",
       "    }\n",
       "\n",
       "    .dataframe thead th {\n",
       "        text-align: right;\n",
       "    }\n",
       "</style>\n",
       "<table border=\"1\" class=\"dataframe\">\n",
       "  <thead>\n",
       "    <tr style=\"text-align: right;\">\n",
       "      <th></th>\n",
       "      <th>YEAR</th>\n",
       "      <th>AGE</th>\n",
       "      <th>SCHOOL</th>\n",
       "      <th>EDUCD</th>\n",
       "      <th>DEGFIELD</th>\n",
       "      <th>DEGFIELDD</th>\n",
       "      <th>DEGFIELD2</th>\n",
       "      <th>DEGFIELD2D</th>\n",
       "      <th>EMPSTAT</th>\n",
       "      <th>OCC</th>\n",
       "      <th>INCTOT</th>\n",
       "      <th>INCWAGE</th>\n",
       "      <th>INCWAGE_CPIU_2010</th>\n",
       "    </tr>\n",
       "  </thead>\n",
       "  <tbody>\n",
       "    <tr>\n",
       "      <th>0</th>\n",
       "      <td>2009</td>\n",
       "      <td>58</td>\n",
       "      <td>1</td>\n",
       "      <td>101</td>\n",
       "      <td>62</td>\n",
       "      <td>6203</td>\n",
       "      <td>0</td>\n",
       "      <td>0</td>\n",
       "      <td>1</td>\n",
       "      <td>420</td>\n",
       "      <td>40000</td>\n",
       "      <td>40000</td>\n",
       "      <td>40656.0</td>\n",
       "    </tr>\n",
       "    <tr>\n",
       "      <th>1</th>\n",
       "      <td>2009</td>\n",
       "      <td>56</td>\n",
       "      <td>1</td>\n",
       "      <td>71</td>\n",
       "      <td>0</td>\n",
       "      <td>0</td>\n",
       "      <td>0</td>\n",
       "      <td>0</td>\n",
       "      <td>3</td>\n",
       "      <td>0</td>\n",
       "      <td>11000</td>\n",
       "      <td>0</td>\n",
       "      <td>0.0</td>\n",
       "    </tr>\n",
       "    <tr>\n",
       "      <th>2</th>\n",
       "      <td>2009</td>\n",
       "      <td>93</td>\n",
       "      <td>1</td>\n",
       "      <td>61</td>\n",
       "      <td>0</td>\n",
       "      <td>0</td>\n",
       "      <td>0</td>\n",
       "      <td>0</td>\n",
       "      <td>3</td>\n",
       "      <td>0</td>\n",
       "      <td>8100</td>\n",
       "      <td>0</td>\n",
       "      <td>0.0</td>\n",
       "    </tr>\n",
       "    <tr>\n",
       "      <th>3</th>\n",
       "      <td>2009</td>\n",
       "      <td>35</td>\n",
       "      <td>1</td>\n",
       "      <td>71</td>\n",
       "      <td>0</td>\n",
       "      <td>0</td>\n",
       "      <td>0</td>\n",
       "      <td>0</td>\n",
       "      <td>3</td>\n",
       "      <td>8140</td>\n",
       "      <td>51000</td>\n",
       "      <td>51000</td>\n",
       "      <td>51837.0</td>\n",
       "    </tr>\n",
       "    <tr>\n",
       "      <th>4</th>\n",
       "      <td>2009</td>\n",
       "      <td>29</td>\n",
       "      <td>1</td>\n",
       "      <td>101</td>\n",
       "      <td>62</td>\n",
       "      <td>6206</td>\n",
       "      <td>0</td>\n",
       "      <td>0</td>\n",
       "      <td>1</td>\n",
       "      <td>4850</td>\n",
       "      <td>50000</td>\n",
       "      <td>50000</td>\n",
       "      <td>50820.0</td>\n",
       "    </tr>\n",
       "    <tr>\n",
       "      <th>...</th>\n",
       "      <td>...</td>\n",
       "      <td>...</td>\n",
       "      <td>...</td>\n",
       "      <td>...</td>\n",
       "      <td>...</td>\n",
       "      <td>...</td>\n",
       "      <td>...</td>\n",
       "      <td>...</td>\n",
       "      <td>...</td>\n",
       "      <td>...</td>\n",
       "      <td>...</td>\n",
       "      <td>...</td>\n",
       "      <td>...</td>\n",
       "    </tr>\n",
       "    <tr>\n",
       "      <th>162726</th>\n",
       "      <td>2019</td>\n",
       "      <td>58</td>\n",
       "      <td>1</td>\n",
       "      <td>63</td>\n",
       "      <td>0</td>\n",
       "      <td>0</td>\n",
       "      <td>0</td>\n",
       "      <td>0</td>\n",
       "      <td>1</td>\n",
       "      <td>4720</td>\n",
       "      <td>400</td>\n",
       "      <td>400</td>\n",
       "      <td>341.0</td>\n",
       "    </tr>\n",
       "    <tr>\n",
       "      <th>162727</th>\n",
       "      <td>2019</td>\n",
       "      <td>76</td>\n",
       "      <td>1</td>\n",
       "      <td>114</td>\n",
       "      <td>23</td>\n",
       "      <td>2306</td>\n",
       "      <td>0</td>\n",
       "      <td>0</td>\n",
       "      <td>3</td>\n",
       "      <td>0</td>\n",
       "      <td>126800</td>\n",
       "      <td>0</td>\n",
       "      <td>0.0</td>\n",
       "    </tr>\n",
       "    <tr>\n",
       "      <th>162728</th>\n",
       "      <td>2019</td>\n",
       "      <td>17</td>\n",
       "      <td>2</td>\n",
       "      <td>50</td>\n",
       "      <td>0</td>\n",
       "      <td>0</td>\n",
       "      <td>0</td>\n",
       "      <td>0</td>\n",
       "      <td>3</td>\n",
       "      <td>0</td>\n",
       "      <td>0</td>\n",
       "      <td>0</td>\n",
       "      <td>0.0</td>\n",
       "    </tr>\n",
       "    <tr>\n",
       "      <th>162729</th>\n",
       "      <td>2019</td>\n",
       "      <td>32</td>\n",
       "      <td>1</td>\n",
       "      <td>63</td>\n",
       "      <td>0</td>\n",
       "      <td>0</td>\n",
       "      <td>0</td>\n",
       "      <td>0</td>\n",
       "      <td>1</td>\n",
       "      <td>7810</td>\n",
       "      <td>24000</td>\n",
       "      <td>24000</td>\n",
       "      <td>20470.0</td>\n",
       "    </tr>\n",
       "    <tr>\n",
       "      <th>162730</th>\n",
       "      <td>2019</td>\n",
       "      <td>51</td>\n",
       "      <td>1</td>\n",
       "      <td>101</td>\n",
       "      <td>13</td>\n",
       "      <td>1301</td>\n",
       "      <td>0</td>\n",
       "      <td>0</td>\n",
       "      <td>1</td>\n",
       "      <td>1970</td>\n",
       "      <td>130010</td>\n",
       "      <td>0</td>\n",
       "      <td>0.0</td>\n",
       "    </tr>\n",
       "  </tbody>\n",
       "</table>\n",
       "<p>162731 rows × 13 columns</p>\n",
       "</div>"
      ],
      "text/plain": [
       "        YEAR  AGE  SCHOOL  EDUCD  DEGFIELD  DEGFIELDD  DEGFIELD2  DEGFIELD2D  \\\n",
       "0       2009   58       1    101        62       6203          0           0   \n",
       "1       2009   56       1     71         0          0          0           0   \n",
       "2       2009   93       1     61         0          0          0           0   \n",
       "3       2009   35       1     71         0          0          0           0   \n",
       "4       2009   29       1    101        62       6206          0           0   \n",
       "...      ...  ...     ...    ...       ...        ...        ...         ...   \n",
       "162726  2019   58       1     63         0          0          0           0   \n",
       "162727  2019   76       1    114        23       2306          0           0   \n",
       "162728  2019   17       2     50         0          0          0           0   \n",
       "162729  2019   32       1     63         0          0          0           0   \n",
       "162730  2019   51       1    101        13       1301          0           0   \n",
       "\n",
       "        EMPSTAT   OCC  INCTOT  INCWAGE  INCWAGE_CPIU_2010  \n",
       "0             1   420   40000    40000            40656.0  \n",
       "1             3     0   11000        0                0.0  \n",
       "2             3     0    8100        0                0.0  \n",
       "3             3  8140   51000    51000            51837.0  \n",
       "4             1  4850   50000    50000            50820.0  \n",
       "...         ...   ...     ...      ...                ...  \n",
       "162726        1  4720     400      400              341.0  \n",
       "162727        3     0  126800        0                0.0  \n",
       "162728        3     0       0        0                0.0  \n",
       "162729        1  7810   24000    24000            20470.0  \n",
       "162730        1  1970  130010        0                0.0  \n",
       "\n",
       "[162731 rows x 13 columns]"
      ]
     },
     "execution_count": 110,
     "metadata": {},
     "output_type": "execute_result"
    }
   ],
   "source": [
    "ipums = ipums_raw[[\"YEAR\", \"AGE\", \"SCHOOL\", \"EDUCD\", \"DEGFIELD\", \n",
    "                   \"DEGFIELDD\", \"DEGFIELD2\", \"DEGFIELD2D\", \"EMPSTAT\", \n",
    "                   \"OCC\", \"INCTOT\", \"INCWAGE\", \"INCWAGE_CPIU_2010\"\n",
    "                  ]].copy()\n",
    "ipums"
   ]
  },
  {
   "cell_type": "markdown",
   "id": "794c027d",
   "metadata": {},
   "source": [
    "### Individuals with College Degrees\n",
    "Since we are interested in how different college degrees affect income, we need to filter the dataset for those individuals who have a college degree (at least a bachelor's degree). \n",
    "\n",
    "| EDUCD | Description |\n",
    "| --- | --- |\n",
    "| ... | ... (rows omitted) |\n",
    "| 090 | 3 years of college |\n",
    "| 100 | 4 years of college |\n",
    "| 101 | Bachelor's degree |\n",
    "| 110 | 5+ years of college |\n",
    "| 111 | 6 years of college (6+ in 1960-1970) |\n",
    "| 112 | 7 years of college |\n",
    "| 113 | 8+ years of college |\n",
    "| 114 | Master's degree |\n",
    "| 115 | Professional degree beyond a bachelor's degree |\n",
    "| 116 | Doctoral degree |\n",
    "| 999 | Missing |\n",
    "\n",
    "Note that records with `EDUCD` greater than or equal to 101 but less than 999 represent a valid record for a person with a college degree. We will use this criterion to filter the dataset. "
   ]
  },
  {
   "cell_type": "markdown",
   "id": "bb8fe9fb",
   "metadata": {},
   "source": [
    "**Question 2.2:** Filter the `ipums` dataframe for individuals with a college degree based on the criteria given above. "
   ]
  },
  {
   "cell_type": "code",
   "execution_count": 111,
   "id": "663153c7",
   "metadata": {
    "tags": []
   },
   "outputs": [
    {
     "data": {
      "text/html": [
       "<div>\n",
       "<style scoped>\n",
       "    .dataframe tbody tr th:only-of-type {\n",
       "        vertical-align: middle;\n",
       "    }\n",
       "\n",
       "    .dataframe tbody tr th {\n",
       "        vertical-align: top;\n",
       "    }\n",
       "\n",
       "    .dataframe thead th {\n",
       "        text-align: right;\n",
       "    }\n",
       "</style>\n",
       "<table border=\"1\" class=\"dataframe\">\n",
       "  <thead>\n",
       "    <tr style=\"text-align: right;\">\n",
       "      <th></th>\n",
       "      <th>YEAR</th>\n",
       "      <th>AGE</th>\n",
       "      <th>SCHOOL</th>\n",
       "      <th>EDUCD</th>\n",
       "      <th>DEGFIELD</th>\n",
       "      <th>DEGFIELDD</th>\n",
       "      <th>DEGFIELD2</th>\n",
       "      <th>DEGFIELD2D</th>\n",
       "      <th>EMPSTAT</th>\n",
       "      <th>OCC</th>\n",
       "      <th>INCTOT</th>\n",
       "      <th>INCWAGE</th>\n",
       "      <th>INCWAGE_CPIU_2010</th>\n",
       "    </tr>\n",
       "  </thead>\n",
       "  <tbody>\n",
       "    <tr>\n",
       "      <th>0</th>\n",
       "      <td>2009</td>\n",
       "      <td>58</td>\n",
       "      <td>1</td>\n",
       "      <td>101</td>\n",
       "      <td>62</td>\n",
       "      <td>6203</td>\n",
       "      <td>0</td>\n",
       "      <td>0</td>\n",
       "      <td>1</td>\n",
       "      <td>420</td>\n",
       "      <td>40000</td>\n",
       "      <td>40000</td>\n",
       "      <td>40656.0</td>\n",
       "    </tr>\n",
       "    <tr>\n",
       "      <th>4</th>\n",
       "      <td>2009</td>\n",
       "      <td>29</td>\n",
       "      <td>1</td>\n",
       "      <td>101</td>\n",
       "      <td>62</td>\n",
       "      <td>6206</td>\n",
       "      <td>0</td>\n",
       "      <td>0</td>\n",
       "      <td>1</td>\n",
       "      <td>4850</td>\n",
       "      <td>50000</td>\n",
       "      <td>50000</td>\n",
       "      <td>50820.0</td>\n",
       "    </tr>\n",
       "    <tr>\n",
       "      <th>8</th>\n",
       "      <td>2009</td>\n",
       "      <td>72</td>\n",
       "      <td>2</td>\n",
       "      <td>101</td>\n",
       "      <td>23</td>\n",
       "      <td>2300</td>\n",
       "      <td>0</td>\n",
       "      <td>0</td>\n",
       "      <td>3</td>\n",
       "      <td>0</td>\n",
       "      <td>5400</td>\n",
       "      <td>0</td>\n",
       "      <td>0.0</td>\n",
       "    </tr>\n",
       "    <tr>\n",
       "      <th>13</th>\n",
       "      <td>2009</td>\n",
       "      <td>38</td>\n",
       "      <td>1</td>\n",
       "      <td>101</td>\n",
       "      <td>62</td>\n",
       "      <td>6201</td>\n",
       "      <td>0</td>\n",
       "      <td>0</td>\n",
       "      <td>1</td>\n",
       "      <td>800</td>\n",
       "      <td>37000</td>\n",
       "      <td>37000</td>\n",
       "      <td>37607.0</td>\n",
       "    </tr>\n",
       "    <tr>\n",
       "      <th>14</th>\n",
       "      <td>2009</td>\n",
       "      <td>64</td>\n",
       "      <td>1</td>\n",
       "      <td>101</td>\n",
       "      <td>23</td>\n",
       "      <td>2300</td>\n",
       "      <td>0</td>\n",
       "      <td>0</td>\n",
       "      <td>3</td>\n",
       "      <td>0</td>\n",
       "      <td>9700</td>\n",
       "      <td>0</td>\n",
       "      <td>0.0</td>\n",
       "    </tr>\n",
       "    <tr>\n",
       "      <th>...</th>\n",
       "      <td>...</td>\n",
       "      <td>...</td>\n",
       "      <td>...</td>\n",
       "      <td>...</td>\n",
       "      <td>...</td>\n",
       "      <td>...</td>\n",
       "      <td>...</td>\n",
       "      <td>...</td>\n",
       "      <td>...</td>\n",
       "      <td>...</td>\n",
       "      <td>...</td>\n",
       "      <td>...</td>\n",
       "      <td>...</td>\n",
       "    </tr>\n",
       "    <tr>\n",
       "      <th>162719</th>\n",
       "      <td>2019</td>\n",
       "      <td>81</td>\n",
       "      <td>1</td>\n",
       "      <td>101</td>\n",
       "      <td>23</td>\n",
       "      <td>2305</td>\n",
       "      <td>0</td>\n",
       "      <td>0</td>\n",
       "      <td>3</td>\n",
       "      <td>0</td>\n",
       "      <td>45000</td>\n",
       "      <td>0</td>\n",
       "      <td>0.0</td>\n",
       "    </tr>\n",
       "    <tr>\n",
       "      <th>162720</th>\n",
       "      <td>2019</td>\n",
       "      <td>36</td>\n",
       "      <td>1</td>\n",
       "      <td>101</td>\n",
       "      <td>62</td>\n",
       "      <td>6200</td>\n",
       "      <td>0</td>\n",
       "      <td>0</td>\n",
       "      <td>1</td>\n",
       "      <td>910</td>\n",
       "      <td>107700</td>\n",
       "      <td>106000</td>\n",
       "      <td>90410.0</td>\n",
       "    </tr>\n",
       "    <tr>\n",
       "      <th>162724</th>\n",
       "      <td>2019</td>\n",
       "      <td>39</td>\n",
       "      <td>1</td>\n",
       "      <td>101</td>\n",
       "      <td>23</td>\n",
       "      <td>2304</td>\n",
       "      <td>0</td>\n",
       "      <td>0</td>\n",
       "      <td>1</td>\n",
       "      <td>2310</td>\n",
       "      <td>42000</td>\n",
       "      <td>42000</td>\n",
       "      <td>35823.0</td>\n",
       "    </tr>\n",
       "    <tr>\n",
       "      <th>162727</th>\n",
       "      <td>2019</td>\n",
       "      <td>76</td>\n",
       "      <td>1</td>\n",
       "      <td>114</td>\n",
       "      <td>23</td>\n",
       "      <td>2306</td>\n",
       "      <td>0</td>\n",
       "      <td>0</td>\n",
       "      <td>3</td>\n",
       "      <td>0</td>\n",
       "      <td>126800</td>\n",
       "      <td>0</td>\n",
       "      <td>0.0</td>\n",
       "    </tr>\n",
       "    <tr>\n",
       "      <th>162730</th>\n",
       "      <td>2019</td>\n",
       "      <td>51</td>\n",
       "      <td>1</td>\n",
       "      <td>101</td>\n",
       "      <td>13</td>\n",
       "      <td>1301</td>\n",
       "      <td>0</td>\n",
       "      <td>0</td>\n",
       "      <td>1</td>\n",
       "      <td>1970</td>\n",
       "      <td>130010</td>\n",
       "      <td>0</td>\n",
       "      <td>0.0</td>\n",
       "    </tr>\n",
       "  </tbody>\n",
       "</table>\n",
       "<p>46270 rows × 13 columns</p>\n",
       "</div>"
      ],
      "text/plain": [
       "        YEAR  AGE  SCHOOL  EDUCD  DEGFIELD  DEGFIELDD  DEGFIELD2  DEGFIELD2D  \\\n",
       "0       2009   58       1    101        62       6203          0           0   \n",
       "4       2009   29       1    101        62       6206          0           0   \n",
       "8       2009   72       2    101        23       2300          0           0   \n",
       "13      2009   38       1    101        62       6201          0           0   \n",
       "14      2009   64       1    101        23       2300          0           0   \n",
       "...      ...  ...     ...    ...       ...        ...        ...         ...   \n",
       "162719  2019   81       1    101        23       2305          0           0   \n",
       "162720  2019   36       1    101        62       6200          0           0   \n",
       "162724  2019   39       1    101        23       2304          0           0   \n",
       "162727  2019   76       1    114        23       2306          0           0   \n",
       "162730  2019   51       1    101        13       1301          0           0   \n",
       "\n",
       "        EMPSTAT   OCC  INCTOT  INCWAGE  INCWAGE_CPIU_2010  \n",
       "0             1   420   40000    40000            40656.0  \n",
       "4             1  4850   50000    50000            50820.0  \n",
       "8             3     0    5400        0                0.0  \n",
       "13            1   800   37000    37000            37607.0  \n",
       "14            3     0    9700        0                0.0  \n",
       "...         ...   ...     ...      ...                ...  \n",
       "162719        3     0   45000        0                0.0  \n",
       "162720        1   910  107700   106000            90410.0  \n",
       "162724        1  2310   42000    42000            35823.0  \n",
       "162727        3     0  126800        0                0.0  \n",
       "162730        1  1970  130010        0                0.0  \n",
       "\n",
       "[46270 rows x 13 columns]"
      ]
     },
     "execution_count": 111,
     "metadata": {},
     "output_type": "execute_result"
    }
   ],
   "source": [
    "ipums_college = ipums[ipums[\"EDUCD\"].between(101, 999)]\n",
    "ipums_college"
   ]
  },
  {
   "cell_type": "code",
   "execution_count": 112,
   "id": "51de22f5",
   "metadata": {
    "deletable": false,
    "editable": false
   },
   "outputs": [
    {
     "data": {
      "text/html": [
       "<p><strong><pre style='display: inline;'>q2_2</pre></strong> passed! 🌟</p>"
      ],
      "text/plain": [
       "q2_2 results: All test cases passed!"
      ]
     },
     "execution_count": 112,
     "metadata": {},
     "output_type": "execute_result"
    }
   ],
   "source": [
    "grader.check(\"q2_2\")"
   ]
  },
  {
   "cell_type": "markdown",
   "id": "e9c04053",
   "metadata": {},
   "source": [
    "### Individuals in Workforce"
   ]
  },
  {
   "cell_type": "markdown",
   "id": "92206ffa",
   "metadata": {},
   "source": [
    "Juniors who cannot work and seniors who have retired from work will not have wages and salaries. We want to exclude them from our analysis. Assume that working age means 15-64 years old (inclusive). "
   ]
  },
  {
   "cell_type": "markdown",
   "id": "75c5e3a9",
   "metadata": {},
   "source": [
    "**Question 2.3:** Filter the dataframe `ipums_college` for individuals within the working age. "
   ]
  },
  {
   "cell_type": "code",
   "execution_count": 113,
   "id": "6ade3ae0",
   "metadata": {
    "tags": []
   },
   "outputs": [
    {
     "data": {
      "text/html": [
       "<div>\n",
       "<style scoped>\n",
       "    .dataframe tbody tr th:only-of-type {\n",
       "        vertical-align: middle;\n",
       "    }\n",
       "\n",
       "    .dataframe tbody tr th {\n",
       "        vertical-align: top;\n",
       "    }\n",
       "\n",
       "    .dataframe thead th {\n",
       "        text-align: right;\n",
       "    }\n",
       "</style>\n",
       "<table border=\"1\" class=\"dataframe\">\n",
       "  <thead>\n",
       "    <tr style=\"text-align: right;\">\n",
       "      <th></th>\n",
       "      <th>YEAR</th>\n",
       "      <th>AGE</th>\n",
       "      <th>SCHOOL</th>\n",
       "      <th>EDUCD</th>\n",
       "      <th>DEGFIELD</th>\n",
       "      <th>DEGFIELDD</th>\n",
       "      <th>DEGFIELD2</th>\n",
       "      <th>DEGFIELD2D</th>\n",
       "      <th>EMPSTAT</th>\n",
       "      <th>OCC</th>\n",
       "      <th>INCTOT</th>\n",
       "      <th>INCWAGE</th>\n",
       "      <th>INCWAGE_CPIU_2010</th>\n",
       "    </tr>\n",
       "  </thead>\n",
       "  <tbody>\n",
       "    <tr>\n",
       "      <th>0</th>\n",
       "      <td>2009</td>\n",
       "      <td>58</td>\n",
       "      <td>1</td>\n",
       "      <td>101</td>\n",
       "      <td>62</td>\n",
       "      <td>6203</td>\n",
       "      <td>0</td>\n",
       "      <td>0</td>\n",
       "      <td>1</td>\n",
       "      <td>420</td>\n",
       "      <td>40000</td>\n",
       "      <td>40000</td>\n",
       "      <td>40656.0</td>\n",
       "    </tr>\n",
       "    <tr>\n",
       "      <th>4</th>\n",
       "      <td>2009</td>\n",
       "      <td>29</td>\n",
       "      <td>1</td>\n",
       "      <td>101</td>\n",
       "      <td>62</td>\n",
       "      <td>6206</td>\n",
       "      <td>0</td>\n",
       "      <td>0</td>\n",
       "      <td>1</td>\n",
       "      <td>4850</td>\n",
       "      <td>50000</td>\n",
       "      <td>50000</td>\n",
       "      <td>50820.0</td>\n",
       "    </tr>\n",
       "    <tr>\n",
       "      <th>13</th>\n",
       "      <td>2009</td>\n",
       "      <td>38</td>\n",
       "      <td>1</td>\n",
       "      <td>101</td>\n",
       "      <td>62</td>\n",
       "      <td>6201</td>\n",
       "      <td>0</td>\n",
       "      <td>0</td>\n",
       "      <td>1</td>\n",
       "      <td>800</td>\n",
       "      <td>37000</td>\n",
       "      <td>37000</td>\n",
       "      <td>37607.0</td>\n",
       "    </tr>\n",
       "    <tr>\n",
       "      <th>14</th>\n",
       "      <td>2009</td>\n",
       "      <td>64</td>\n",
       "      <td>1</td>\n",
       "      <td>101</td>\n",
       "      <td>23</td>\n",
       "      <td>2300</td>\n",
       "      <td>0</td>\n",
       "      <td>0</td>\n",
       "      <td>3</td>\n",
       "      <td>0</td>\n",
       "      <td>9700</td>\n",
       "      <td>0</td>\n",
       "      <td>0.0</td>\n",
       "    </tr>\n",
       "    <tr>\n",
       "      <th>18</th>\n",
       "      <td>2009</td>\n",
       "      <td>47</td>\n",
       "      <td>1</td>\n",
       "      <td>101</td>\n",
       "      <td>53</td>\n",
       "      <td>5301</td>\n",
       "      <td>0</td>\n",
       "      <td>0</td>\n",
       "      <td>1</td>\n",
       "      <td>2010</td>\n",
       "      <td>68500</td>\n",
       "      <td>58000</td>\n",
       "      <td>58951.0</td>\n",
       "    </tr>\n",
       "    <tr>\n",
       "      <th>...</th>\n",
       "      <td>...</td>\n",
       "      <td>...</td>\n",
       "      <td>...</td>\n",
       "      <td>...</td>\n",
       "      <td>...</td>\n",
       "      <td>...</td>\n",
       "      <td>...</td>\n",
       "      <td>...</td>\n",
       "      <td>...</td>\n",
       "      <td>...</td>\n",
       "      <td>...</td>\n",
       "      <td>...</td>\n",
       "      <td>...</td>\n",
       "    </tr>\n",
       "    <tr>\n",
       "      <th>162715</th>\n",
       "      <td>2019</td>\n",
       "      <td>46</td>\n",
       "      <td>1</td>\n",
       "      <td>101</td>\n",
       "      <td>11</td>\n",
       "      <td>1103</td>\n",
       "      <td>0</td>\n",
       "      <td>0</td>\n",
       "      <td>3</td>\n",
       "      <td>205</td>\n",
       "      <td>92000</td>\n",
       "      <td>0</td>\n",
       "      <td>0.0</td>\n",
       "    </tr>\n",
       "    <tr>\n",
       "      <th>162717</th>\n",
       "      <td>2019</td>\n",
       "      <td>63</td>\n",
       "      <td>1</td>\n",
       "      <td>115</td>\n",
       "      <td>61</td>\n",
       "      <td>6105</td>\n",
       "      <td>0</td>\n",
       "      <td>0</td>\n",
       "      <td>1</td>\n",
       "      <td>3090</td>\n",
       "      <td>12000</td>\n",
       "      <td>12000</td>\n",
       "      <td>10235.0</td>\n",
       "    </tr>\n",
       "    <tr>\n",
       "      <th>162720</th>\n",
       "      <td>2019</td>\n",
       "      <td>36</td>\n",
       "      <td>1</td>\n",
       "      <td>101</td>\n",
       "      <td>62</td>\n",
       "      <td>6200</td>\n",
       "      <td>0</td>\n",
       "      <td>0</td>\n",
       "      <td>1</td>\n",
       "      <td>910</td>\n",
       "      <td>107700</td>\n",
       "      <td>106000</td>\n",
       "      <td>90410.0</td>\n",
       "    </tr>\n",
       "    <tr>\n",
       "      <th>162724</th>\n",
       "      <td>2019</td>\n",
       "      <td>39</td>\n",
       "      <td>1</td>\n",
       "      <td>101</td>\n",
       "      <td>23</td>\n",
       "      <td>2304</td>\n",
       "      <td>0</td>\n",
       "      <td>0</td>\n",
       "      <td>1</td>\n",
       "      <td>2310</td>\n",
       "      <td>42000</td>\n",
       "      <td>42000</td>\n",
       "      <td>35823.0</td>\n",
       "    </tr>\n",
       "    <tr>\n",
       "      <th>162730</th>\n",
       "      <td>2019</td>\n",
       "      <td>51</td>\n",
       "      <td>1</td>\n",
       "      <td>101</td>\n",
       "      <td>13</td>\n",
       "      <td>1301</td>\n",
       "      <td>0</td>\n",
       "      <td>0</td>\n",
       "      <td>1</td>\n",
       "      <td>1970</td>\n",
       "      <td>130010</td>\n",
       "      <td>0</td>\n",
       "      <td>0.0</td>\n",
       "    </tr>\n",
       "  </tbody>\n",
       "</table>\n",
       "<p>36809 rows × 13 columns</p>\n",
       "</div>"
      ],
      "text/plain": [
       "        YEAR  AGE  SCHOOL  EDUCD  DEGFIELD  DEGFIELDD  DEGFIELD2  DEGFIELD2D  \\\n",
       "0       2009   58       1    101        62       6203          0           0   \n",
       "4       2009   29       1    101        62       6206          0           0   \n",
       "13      2009   38       1    101        62       6201          0           0   \n",
       "14      2009   64       1    101        23       2300          0           0   \n",
       "18      2009   47       1    101        53       5301          0           0   \n",
       "...      ...  ...     ...    ...       ...        ...        ...         ...   \n",
       "162715  2019   46       1    101        11       1103          0           0   \n",
       "162717  2019   63       1    115        61       6105          0           0   \n",
       "162720  2019   36       1    101        62       6200          0           0   \n",
       "162724  2019   39       1    101        23       2304          0           0   \n",
       "162730  2019   51       1    101        13       1301          0           0   \n",
       "\n",
       "        EMPSTAT   OCC  INCTOT  INCWAGE  INCWAGE_CPIU_2010  \n",
       "0             1   420   40000    40000            40656.0  \n",
       "4             1  4850   50000    50000            50820.0  \n",
       "13            1   800   37000    37000            37607.0  \n",
       "14            3     0    9700        0                0.0  \n",
       "18            1  2010   68500    58000            58951.0  \n",
       "...         ...   ...     ...      ...                ...  \n",
       "162715        3   205   92000        0                0.0  \n",
       "162717        1  3090   12000    12000            10235.0  \n",
       "162720        1   910  107700   106000            90410.0  \n",
       "162724        1  2310   42000    42000            35823.0  \n",
       "162730        1  1970  130010        0                0.0  \n",
       "\n",
       "[36809 rows x 13 columns]"
      ]
     },
     "execution_count": 113,
     "metadata": {},
     "output_type": "execute_result"
    }
   ],
   "source": [
    "ipums_college_working_age = ipums_college[ipums_college[\"AGE\"].between(15, 64)]\n",
    "ipums_college_working_age"
   ]
  },
  {
   "cell_type": "code",
   "execution_count": 114,
   "id": "e22a03ac",
   "metadata": {
    "deletable": false,
    "editable": false
   },
   "outputs": [
    {
     "data": {
      "text/html": [
       "<p><strong><pre style='display: inline;'>q2_3</pre></strong> passed! ✨</p>"
      ],
      "text/plain": [
       "q2_3 results: All test cases passed!"
      ]
     },
     "execution_count": 114,
     "metadata": {},
     "output_type": "execute_result"
    }
   ],
   "source": [
    "grader.check(\"q2_3\")"
   ]
  },
  {
   "cell_type": "markdown",
   "id": "71cf8a83",
   "metadata": {},
   "source": [
    "### Double Majors"
   ]
  },
  {
   "cell_type": "markdown",
   "id": "7e78f706",
   "metadata": {},
   "source": [
    "Some individuals have double majors. The way the IPUMS ACS dataset captures this is by reporting values in `DEGFIELD2` in addition to `DEGFIELD`. This can complicate our analysis because these individuals' earnings are likely to be affected by both of their majors, while the proportion of influence from each major is unknown. \n",
    "\n",
    "To remove this bias from our analysis, we will stick to individuals with only one college major. We will do that for you here. "
   ]
  },
  {
   "cell_type": "code",
   "execution_count": 115,
   "id": "1643a14d",
   "metadata": {},
   "outputs": [
    {
     "data": {
      "text/html": [
       "<div>\n",
       "<style scoped>\n",
       "    .dataframe tbody tr th:only-of-type {\n",
       "        vertical-align: middle;\n",
       "    }\n",
       "\n",
       "    .dataframe tbody tr th {\n",
       "        vertical-align: top;\n",
       "    }\n",
       "\n",
       "    .dataframe thead th {\n",
       "        text-align: right;\n",
       "    }\n",
       "</style>\n",
       "<table border=\"1\" class=\"dataframe\">\n",
       "  <thead>\n",
       "    <tr style=\"text-align: right;\">\n",
       "      <th></th>\n",
       "      <th>YEAR</th>\n",
       "      <th>AGE</th>\n",
       "      <th>SCHOOL</th>\n",
       "      <th>EDUCD</th>\n",
       "      <th>DEGFIELD</th>\n",
       "      <th>DEGFIELDD</th>\n",
       "      <th>DEGFIELD2</th>\n",
       "      <th>DEGFIELD2D</th>\n",
       "      <th>EMPSTAT</th>\n",
       "      <th>OCC</th>\n",
       "      <th>INCTOT</th>\n",
       "      <th>INCWAGE</th>\n",
       "      <th>INCWAGE_CPIU_2010</th>\n",
       "    </tr>\n",
       "  </thead>\n",
       "  <tbody>\n",
       "    <tr>\n",
       "      <th>0</th>\n",
       "      <td>2009</td>\n",
       "      <td>58</td>\n",
       "      <td>1</td>\n",
       "      <td>101</td>\n",
       "      <td>62</td>\n",
       "      <td>6203</td>\n",
       "      <td>0</td>\n",
       "      <td>0</td>\n",
       "      <td>1</td>\n",
       "      <td>420</td>\n",
       "      <td>40000</td>\n",
       "      <td>40000</td>\n",
       "      <td>40656.0</td>\n",
       "    </tr>\n",
       "    <tr>\n",
       "      <th>4</th>\n",
       "      <td>2009</td>\n",
       "      <td>29</td>\n",
       "      <td>1</td>\n",
       "      <td>101</td>\n",
       "      <td>62</td>\n",
       "      <td>6206</td>\n",
       "      <td>0</td>\n",
       "      <td>0</td>\n",
       "      <td>1</td>\n",
       "      <td>4850</td>\n",
       "      <td>50000</td>\n",
       "      <td>50000</td>\n",
       "      <td>50820.0</td>\n",
       "    </tr>\n",
       "    <tr>\n",
       "      <th>13</th>\n",
       "      <td>2009</td>\n",
       "      <td>38</td>\n",
       "      <td>1</td>\n",
       "      <td>101</td>\n",
       "      <td>62</td>\n",
       "      <td>6201</td>\n",
       "      <td>0</td>\n",
       "      <td>0</td>\n",
       "      <td>1</td>\n",
       "      <td>800</td>\n",
       "      <td>37000</td>\n",
       "      <td>37000</td>\n",
       "      <td>37607.0</td>\n",
       "    </tr>\n",
       "    <tr>\n",
       "      <th>14</th>\n",
       "      <td>2009</td>\n",
       "      <td>64</td>\n",
       "      <td>1</td>\n",
       "      <td>101</td>\n",
       "      <td>23</td>\n",
       "      <td>2300</td>\n",
       "      <td>0</td>\n",
       "      <td>0</td>\n",
       "      <td>3</td>\n",
       "      <td>0</td>\n",
       "      <td>9700</td>\n",
       "      <td>0</td>\n",
       "      <td>0.0</td>\n",
       "    </tr>\n",
       "    <tr>\n",
       "      <th>18</th>\n",
       "      <td>2009</td>\n",
       "      <td>47</td>\n",
       "      <td>1</td>\n",
       "      <td>101</td>\n",
       "      <td>53</td>\n",
       "      <td>5301</td>\n",
       "      <td>0</td>\n",
       "      <td>0</td>\n",
       "      <td>1</td>\n",
       "      <td>2010</td>\n",
       "      <td>68500</td>\n",
       "      <td>58000</td>\n",
       "      <td>58951.0</td>\n",
       "    </tr>\n",
       "    <tr>\n",
       "      <th>...</th>\n",
       "      <td>...</td>\n",
       "      <td>...</td>\n",
       "      <td>...</td>\n",
       "      <td>...</td>\n",
       "      <td>...</td>\n",
       "      <td>...</td>\n",
       "      <td>...</td>\n",
       "      <td>...</td>\n",
       "      <td>...</td>\n",
       "      <td>...</td>\n",
       "      <td>...</td>\n",
       "      <td>...</td>\n",
       "      <td>...</td>\n",
       "    </tr>\n",
       "    <tr>\n",
       "      <th>162715</th>\n",
       "      <td>2019</td>\n",
       "      <td>46</td>\n",
       "      <td>1</td>\n",
       "      <td>101</td>\n",
       "      <td>11</td>\n",
       "      <td>1103</td>\n",
       "      <td>0</td>\n",
       "      <td>0</td>\n",
       "      <td>3</td>\n",
       "      <td>205</td>\n",
       "      <td>92000</td>\n",
       "      <td>0</td>\n",
       "      <td>0.0</td>\n",
       "    </tr>\n",
       "    <tr>\n",
       "      <th>162717</th>\n",
       "      <td>2019</td>\n",
       "      <td>63</td>\n",
       "      <td>1</td>\n",
       "      <td>115</td>\n",
       "      <td>61</td>\n",
       "      <td>6105</td>\n",
       "      <td>0</td>\n",
       "      <td>0</td>\n",
       "      <td>1</td>\n",
       "      <td>3090</td>\n",
       "      <td>12000</td>\n",
       "      <td>12000</td>\n",
       "      <td>10235.0</td>\n",
       "    </tr>\n",
       "    <tr>\n",
       "      <th>162720</th>\n",
       "      <td>2019</td>\n",
       "      <td>36</td>\n",
       "      <td>1</td>\n",
       "      <td>101</td>\n",
       "      <td>62</td>\n",
       "      <td>6200</td>\n",
       "      <td>0</td>\n",
       "      <td>0</td>\n",
       "      <td>1</td>\n",
       "      <td>910</td>\n",
       "      <td>107700</td>\n",
       "      <td>106000</td>\n",
       "      <td>90410.0</td>\n",
       "    </tr>\n",
       "    <tr>\n",
       "      <th>162724</th>\n",
       "      <td>2019</td>\n",
       "      <td>39</td>\n",
       "      <td>1</td>\n",
       "      <td>101</td>\n",
       "      <td>23</td>\n",
       "      <td>2304</td>\n",
       "      <td>0</td>\n",
       "      <td>0</td>\n",
       "      <td>1</td>\n",
       "      <td>2310</td>\n",
       "      <td>42000</td>\n",
       "      <td>42000</td>\n",
       "      <td>35823.0</td>\n",
       "    </tr>\n",
       "    <tr>\n",
       "      <th>162730</th>\n",
       "      <td>2019</td>\n",
       "      <td>51</td>\n",
       "      <td>1</td>\n",
       "      <td>101</td>\n",
       "      <td>13</td>\n",
       "      <td>1301</td>\n",
       "      <td>0</td>\n",
       "      <td>0</td>\n",
       "      <td>1</td>\n",
       "      <td>1970</td>\n",
       "      <td>130010</td>\n",
       "      <td>0</td>\n",
       "      <td>0.0</td>\n",
       "    </tr>\n",
       "  </tbody>\n",
       "</table>\n",
       "<p>32570 rows × 13 columns</p>\n",
       "</div>"
      ],
      "text/plain": [
       "        YEAR  AGE  SCHOOL  EDUCD  DEGFIELD  DEGFIELDD  DEGFIELD2  DEGFIELD2D  \\\n",
       "0       2009   58       1    101        62       6203          0           0   \n",
       "4       2009   29       1    101        62       6206          0           0   \n",
       "13      2009   38       1    101        62       6201          0           0   \n",
       "14      2009   64       1    101        23       2300          0           0   \n",
       "18      2009   47       1    101        53       5301          0           0   \n",
       "...      ...  ...     ...    ...       ...        ...        ...         ...   \n",
       "162715  2019   46       1    101        11       1103          0           0   \n",
       "162717  2019   63       1    115        61       6105          0           0   \n",
       "162720  2019   36       1    101        62       6200          0           0   \n",
       "162724  2019   39       1    101        23       2304          0           0   \n",
       "162730  2019   51       1    101        13       1301          0           0   \n",
       "\n",
       "        EMPSTAT   OCC  INCTOT  INCWAGE  INCWAGE_CPIU_2010  \n",
       "0             1   420   40000    40000            40656.0  \n",
       "4             1  4850   50000    50000            50820.0  \n",
       "13            1   800   37000    37000            37607.0  \n",
       "14            3     0    9700        0                0.0  \n",
       "18            1  2010   68500    58000            58951.0  \n",
       "...         ...   ...     ...      ...                ...  \n",
       "162715        3   205   92000        0                0.0  \n",
       "162717        1  3090   12000    12000            10235.0  \n",
       "162720        1   910  107700   106000            90410.0  \n",
       "162724        1  2310   42000    42000            35823.0  \n",
       "162730        1  1970  130010        0                0.0  \n",
       "\n",
       "[32570 rows x 13 columns]"
      ]
     },
     "execution_count": 115,
     "metadata": {},
     "output_type": "execute_result"
    }
   ],
   "source": [
    "ipums_single_major = ipums_college_working_age[ipums_college_working_age[\"DEGFIELD2\"] == 0]\n",
    "ipums_single_major"
   ]
  },
  {
   "cell_type": "code",
   "execution_count": 116,
   "id": "c25548c0",
   "metadata": {},
   "outputs": [],
   "source": [
    "ipums_s = ipums_single_major.drop(['DEGFIELD2', 'DEGFIELD2D'], axis=1)"
   ]
  },
  {
   "cell_type": "markdown",
   "id": "21b33f3e",
   "metadata": {},
   "source": [
    "### What Are Those Majors?"
   ]
  },
  {
   "cell_type": "markdown",
   "id": "5436073f",
   "metadata": {},
   "source": [
    "Majors in the dataframe (`DEGFIELD`, `DEGFIELDD`) are coded as integers. To find out what each code corresponds to, we will use a conversion dictionary given below. "
   ]
  },
  {
   "cell_type": "code",
   "execution_count": 117,
   "id": "d0fbde6e",
   "metadata": {},
   "outputs": [
    {
     "name": "stdout",
     "output_type": "stream",
     "text": [
      "{0: nan, 11: 'Agriculture', 13: 'Environment and Natural Resources', 14: 'Architecture', 15: 'Area, Ethnic, and Civilization Studies', 19: 'Communications', 20: 'Communication Technologies', 21: 'Computer and Information Sciences', 22: 'Cosmetology Services and Culinary Arts', 23: 'Education Administration and Teaching', 24: 'Engineering', 25: 'Engineering Technologies', 26: 'Linguistics and Foreign Languages', 29: 'Family and Consumer Sciences', 32: 'Law', 33: 'English Language, Literature, and Composition', 34: 'Liberal Arts and Humanities', 35: 'Library Science', 36: 'Biology and Life Sciences', 37: 'Mathematics and Statistics', 38: 'Military Technologies', 40: 'Interdisciplinary and Multi-Disciplinary Studies (General)', 41: 'Physical Fitness, Parks, Recreation, and Leisure', 48: 'Philosophy and Religious Studies', 49: 'Theology and Religious Vocations', 50: 'Physical Sciences', 51: 'Nuclear, Industrial Radiology, and Biological Technologies', 52: 'Psychology', 53: 'Criminal Justice and Fire Protection', 54: 'Public Affairs, Policy, and Social Work', 55: 'Social Sciences', 56: 'Construction Services', 57: 'Electrical and Mechanic Repairs and Technologies', 58: 'Precision Production and Industrial Arts', 59: 'Transportation Sciences and Technologies', 60: 'Fine Arts', 61: 'Medical and Health Sciences and Services', 62: 'Business', 64: 'History'}\n"
     ]
    }
   ],
   "source": [
    "degfield = pd.read_csv(\"data/degfield.txt\", sep='\\t').set_index(\"value\").to_dict()[\"label\"]\n",
    "degfieldd = pd.read_csv(\"data/degfieldd.txt\", sep='\\t').set_index(\"value\").to_dict()[\"label\"]\n",
    "print(degfield)"
   ]
  },
  {
   "cell_type": "markdown",
   "id": "2ba7aded",
   "metadata": {},
   "source": [
    "`DEGFIELD` gives a more general major field. For example, `DEGFIELD` of 55 corresponds to social sciences. \n",
    "\n",
    "`DEGFIELDD` gives a more detailed major field. For example, `DEGFIELDD` of 5501 corresponds to Economics. "
   ]
  },
  {
   "cell_type": "markdown",
   "id": "db3d27c7",
   "metadata": {},
   "source": [
    "Now we will replace all the code in `DEGFIELD` (majors) with texts. "
   ]
  },
  {
   "cell_type": "markdown",
   "id": "e1472096",
   "metadata": {},
   "source": [
    "**Question 2.4:** Complete the following function `replace_code_w_text`, which replaces degree of field codes in column `col` in the dataframe `data` with corresponding texts according to the `ref` dictionary. Hint: you may want to use [`pd.DataFrame.apply`](https://pandas.pydata.org/docs/reference/api/pandas.DataFrame.apply.html). "
   ]
  },
  {
   "cell_type": "code",
   "execution_count": 118,
   "id": "8c94401f",
   "metadata": {
    "tags": []
   },
   "outputs": [
    {
     "data": {
      "text/html": [
       "<div>\n",
       "<style scoped>\n",
       "    .dataframe tbody tr th:only-of-type {\n",
       "        vertical-align: middle;\n",
       "    }\n",
       "\n",
       "    .dataframe tbody tr th {\n",
       "        vertical-align: top;\n",
       "    }\n",
       "\n",
       "    .dataframe thead th {\n",
       "        text-align: right;\n",
       "    }\n",
       "</style>\n",
       "<table border=\"1\" class=\"dataframe\">\n",
       "  <thead>\n",
       "    <tr style=\"text-align: right;\">\n",
       "      <th></th>\n",
       "      <th>YEAR</th>\n",
       "      <th>AGE</th>\n",
       "      <th>SCHOOL</th>\n",
       "      <th>EDUCD</th>\n",
       "      <th>DEGFIELD</th>\n",
       "      <th>DEGFIELDD</th>\n",
       "      <th>EMPSTAT</th>\n",
       "      <th>OCC</th>\n",
       "      <th>INCTOT</th>\n",
       "      <th>INCWAGE</th>\n",
       "      <th>INCWAGE_CPIU_2010</th>\n",
       "    </tr>\n",
       "  </thead>\n",
       "  <tbody>\n",
       "    <tr>\n",
       "      <th>0</th>\n",
       "      <td>2009</td>\n",
       "      <td>58</td>\n",
       "      <td>1</td>\n",
       "      <td>101</td>\n",
       "      <td>Business</td>\n",
       "      <td>Business Management and Administration</td>\n",
       "      <td>1</td>\n",
       "      <td>420</td>\n",
       "      <td>40000</td>\n",
       "      <td>40000</td>\n",
       "      <td>40656.0</td>\n",
       "    </tr>\n",
       "    <tr>\n",
       "      <th>4</th>\n",
       "      <td>2009</td>\n",
       "      <td>29</td>\n",
       "      <td>1</td>\n",
       "      <td>101</td>\n",
       "      <td>Business</td>\n",
       "      <td>Marketing and Marketing Research</td>\n",
       "      <td>1</td>\n",
       "      <td>4850</td>\n",
       "      <td>50000</td>\n",
       "      <td>50000</td>\n",
       "      <td>50820.0</td>\n",
       "    </tr>\n",
       "    <tr>\n",
       "      <th>13</th>\n",
       "      <td>2009</td>\n",
       "      <td>38</td>\n",
       "      <td>1</td>\n",
       "      <td>101</td>\n",
       "      <td>Business</td>\n",
       "      <td>Accounting</td>\n",
       "      <td>1</td>\n",
       "      <td>800</td>\n",
       "      <td>37000</td>\n",
       "      <td>37000</td>\n",
       "      <td>37607.0</td>\n",
       "    </tr>\n",
       "    <tr>\n",
       "      <th>14</th>\n",
       "      <td>2009</td>\n",
       "      <td>64</td>\n",
       "      <td>1</td>\n",
       "      <td>101</td>\n",
       "      <td>Education Administration and Teaching</td>\n",
       "      <td>General Education</td>\n",
       "      <td>3</td>\n",
       "      <td>0</td>\n",
       "      <td>9700</td>\n",
       "      <td>0</td>\n",
       "      <td>0.0</td>\n",
       "    </tr>\n",
       "    <tr>\n",
       "      <th>18</th>\n",
       "      <td>2009</td>\n",
       "      <td>47</td>\n",
       "      <td>1</td>\n",
       "      <td>101</td>\n",
       "      <td>Criminal Justice and Fire Protection</td>\n",
       "      <td>Criminal Justice and Fire Protection</td>\n",
       "      <td>1</td>\n",
       "      <td>2010</td>\n",
       "      <td>68500</td>\n",
       "      <td>58000</td>\n",
       "      <td>58951.0</td>\n",
       "    </tr>\n",
       "    <tr>\n",
       "      <th>...</th>\n",
       "      <td>...</td>\n",
       "      <td>...</td>\n",
       "      <td>...</td>\n",
       "      <td>...</td>\n",
       "      <td>...</td>\n",
       "      <td>...</td>\n",
       "      <td>...</td>\n",
       "      <td>...</td>\n",
       "      <td>...</td>\n",
       "      <td>...</td>\n",
       "      <td>...</td>\n",
       "    </tr>\n",
       "    <tr>\n",
       "      <th>162715</th>\n",
       "      <td>2019</td>\n",
       "      <td>46</td>\n",
       "      <td>1</td>\n",
       "      <td>101</td>\n",
       "      <td>Agriculture</td>\n",
       "      <td>Animal Sciences</td>\n",
       "      <td>3</td>\n",
       "      <td>205</td>\n",
       "      <td>92000</td>\n",
       "      <td>0</td>\n",
       "      <td>0.0</td>\n",
       "    </tr>\n",
       "    <tr>\n",
       "      <th>162717</th>\n",
       "      <td>2019</td>\n",
       "      <td>63</td>\n",
       "      <td>1</td>\n",
       "      <td>115</td>\n",
       "      <td>Medical and Health Sciences and Services</td>\n",
       "      <td>Medical Technologies Technicians</td>\n",
       "      <td>1</td>\n",
       "      <td>3090</td>\n",
       "      <td>12000</td>\n",
       "      <td>12000</td>\n",
       "      <td>10235.0</td>\n",
       "    </tr>\n",
       "    <tr>\n",
       "      <th>162720</th>\n",
       "      <td>2019</td>\n",
       "      <td>36</td>\n",
       "      <td>1</td>\n",
       "      <td>101</td>\n",
       "      <td>Business</td>\n",
       "      <td>General Business</td>\n",
       "      <td>1</td>\n",
       "      <td>910</td>\n",
       "      <td>107700</td>\n",
       "      <td>106000</td>\n",
       "      <td>90410.0</td>\n",
       "    </tr>\n",
       "    <tr>\n",
       "      <th>162724</th>\n",
       "      <td>2019</td>\n",
       "      <td>39</td>\n",
       "      <td>1</td>\n",
       "      <td>101</td>\n",
       "      <td>Education Administration and Teaching</td>\n",
       "      <td>Elementary Education</td>\n",
       "      <td>1</td>\n",
       "      <td>2310</td>\n",
       "      <td>42000</td>\n",
       "      <td>42000</td>\n",
       "      <td>35823.0</td>\n",
       "    </tr>\n",
       "    <tr>\n",
       "      <th>162730</th>\n",
       "      <td>2019</td>\n",
       "      <td>51</td>\n",
       "      <td>1</td>\n",
       "      <td>101</td>\n",
       "      <td>Environment and Natural Resources</td>\n",
       "      <td>Environmental Science</td>\n",
       "      <td>1</td>\n",
       "      <td>1970</td>\n",
       "      <td>130010</td>\n",
       "      <td>0</td>\n",
       "      <td>0.0</td>\n",
       "    </tr>\n",
       "  </tbody>\n",
       "</table>\n",
       "<p>32570 rows × 11 columns</p>\n",
       "</div>"
      ],
      "text/plain": [
       "        YEAR  AGE  SCHOOL  EDUCD                                  DEGFIELD  \\\n",
       "0       2009   58       1    101                                  Business   \n",
       "4       2009   29       1    101                                  Business   \n",
       "13      2009   38       1    101                                  Business   \n",
       "14      2009   64       1    101     Education Administration and Teaching   \n",
       "18      2009   47       1    101      Criminal Justice and Fire Protection   \n",
       "...      ...  ...     ...    ...                                       ...   \n",
       "162715  2019   46       1    101                               Agriculture   \n",
       "162717  2019   63       1    115  Medical and Health Sciences and Services   \n",
       "162720  2019   36       1    101                                  Business   \n",
       "162724  2019   39       1    101     Education Administration and Teaching   \n",
       "162730  2019   51       1    101         Environment and Natural Resources   \n",
       "\n",
       "                                     DEGFIELDD  EMPSTAT   OCC  INCTOT  \\\n",
       "0       Business Management and Administration        1   420   40000   \n",
       "4             Marketing and Marketing Research        1  4850   50000   \n",
       "13                                  Accounting        1   800   37000   \n",
       "14                           General Education        3     0    9700   \n",
       "18        Criminal Justice and Fire Protection        1  2010   68500   \n",
       "...                                        ...      ...   ...     ...   \n",
       "162715                         Animal Sciences        3   205   92000   \n",
       "162717        Medical Technologies Technicians        1  3090   12000   \n",
       "162720                        General Business        1   910  107700   \n",
       "162724                    Elementary Education        1  2310   42000   \n",
       "162730                   Environmental Science        1  1970  130010   \n",
       "\n",
       "        INCWAGE  INCWAGE_CPIU_2010  \n",
       "0         40000            40656.0  \n",
       "4         50000            50820.0  \n",
       "13        37000            37607.0  \n",
       "14            0                0.0  \n",
       "18        58000            58951.0  \n",
       "...         ...                ...  \n",
       "162715        0                0.0  \n",
       "162717    12000            10235.0  \n",
       "162720   106000            90410.0  \n",
       "162724    42000            35823.0  \n",
       "162730        0                0.0  \n",
       "\n",
       "[32570 rows x 11 columns]"
      ]
     },
     "execution_count": 118,
     "metadata": {},
     "output_type": "execute_result"
    }
   ],
   "source": [
    "# returns the corresponding text given `code`\n",
    "# (you can also use a lambda function instead\n",
    "# of this function)\n",
    "def get_text(code, ref):\n",
    "    return ref[code]\n",
    "\n",
    "def replace_code_w_text(data, col, ref):\n",
    "    output = data.copy()\n",
    "    output[col] = output[col].apply(lambda x: get_text(x, ref))\n",
    "    return output\n",
    "\n",
    "ipums_s_text = ipums_s.copy()\n",
    "ipums_s_text = replace_code_w_text(ipums_s_text, \"DEGFIELD\", degfield)\n",
    "ipums_s_text = replace_code_w_text(ipums_s_text, \"DEGFIELDD\", degfieldd)\n",
    "ipums_s_text"
   ]
  },
  {
   "cell_type": "code",
   "execution_count": 119,
   "id": "74c0384e",
   "metadata": {
    "deletable": false,
    "editable": false
   },
   "outputs": [
    {
     "data": {
      "text/html": [
       "<p><strong><pre style='display: inline;'>q2_4</pre></strong> passed! 💯</p>"
      ],
      "text/plain": [
       "q2_4 results: All test cases passed!"
      ]
     },
     "execution_count": 119,
     "metadata": {},
     "output_type": "execute_result"
    }
   ],
   "source": [
    "grader.check(\"q2_4\")"
   ]
  },
  {
   "cell_type": "markdown",
   "id": "b6e914bc",
   "metadata": {},
   "source": [
    "----\n",
    "## Section 3: The Most Lucrative Major\n",
    "Now, we will try to find out which major graduates get the best salary. We will also take a look at how things have changed from 2009 to 2019. "
   ]
  },
  {
   "cell_type": "markdown",
   "id": "405606b1",
   "metadata": {},
   "source": [
    "### In 2009"
   ]
  },
  {
   "cell_type": "markdown",
   "id": "b1be96f7",
   "metadata": {},
   "source": [
    "Let's take a look at the most lucrative majors as of 2009. "
   ]
  },
  {
   "cell_type": "markdown",
   "id": "cbacda2e",
   "metadata": {},
   "source": [
    "**Question 3.1:** Filter the `ipums_s` dataframe for records for 2009. Then find the median total income (`INCTOT`) and the median wage and salary (`INCWAGE`) for each major (`DEGFIELDD`). The resulting dataframe should have only three columns: `DEGFIELDD`, `INCTOT`, `INCWAGE` (in that order). \n",
    "\n",
    "Hint: You may want to use [`groupby`](https://pandas.pydata.org/docs/reference/api/pandas.DataFrame.groupby.html) with a correct aggregation function. "
   ]
  },
  {
   "cell_type": "code",
   "execution_count": 87,
   "id": "839e13e1",
   "metadata": {
    "tags": []
   },
   "outputs": [
    {
     "data": {
      "text/html": [
       "<div>\n",
       "<style scoped>\n",
       "    .dataframe tbody tr th:only-of-type {\n",
       "        vertical-align: middle;\n",
       "    }\n",
       "\n",
       "    .dataframe tbody tr th {\n",
       "        vertical-align: top;\n",
       "    }\n",
       "\n",
       "    .dataframe thead th {\n",
       "        text-align: right;\n",
       "    }\n",
       "</style>\n",
       "<table border=\"1\" class=\"dataframe\">\n",
       "  <thead>\n",
       "    <tr style=\"text-align: right;\">\n",
       "      <th></th>\n",
       "      <th>DEGFIELDD</th>\n",
       "      <th>INCTOT</th>\n",
       "      <th>INCWAGE</th>\n",
       "    </tr>\n",
       "  </thead>\n",
       "  <tbody>\n",
       "    <tr>\n",
       "      <th>0</th>\n",
       "      <td>Accounting</td>\n",
       "      <td>60375.0</td>\n",
       "      <td>52500.0</td>\n",
       "    </tr>\n",
       "    <tr>\n",
       "      <th>1</th>\n",
       "      <td>Actuarial Science</td>\n",
       "      <td>350700.0</td>\n",
       "      <td>356000.0</td>\n",
       "    </tr>\n",
       "    <tr>\n",
       "      <th>2</th>\n",
       "      <td>Advertising and Public Relations</td>\n",
       "      <td>37050.0</td>\n",
       "      <td>31000.0</td>\n",
       "    </tr>\n",
       "    <tr>\n",
       "      <th>3</th>\n",
       "      <td>Aerospace Engineering</td>\n",
       "      <td>73500.0</td>\n",
       "      <td>71000.0</td>\n",
       "    </tr>\n",
       "    <tr>\n",
       "      <th>4</th>\n",
       "      <td>Agricultural Economics</td>\n",
       "      <td>48100.0</td>\n",
       "      <td>39000.0</td>\n",
       "    </tr>\n",
       "    <tr>\n",
       "      <th>...</th>\n",
       "      <td>...</td>\n",
       "      <td>...</td>\n",
       "      <td>...</td>\n",
       "    </tr>\n",
       "    <tr>\n",
       "      <th>166</th>\n",
       "      <td>Transportation Sciences and Technologies</td>\n",
       "      <td>69510.0</td>\n",
       "      <td>60000.0</td>\n",
       "    </tr>\n",
       "    <tr>\n",
       "      <th>167</th>\n",
       "      <td>Treatment Therapy Professions</td>\n",
       "      <td>50000.0</td>\n",
       "      <td>40000.0</td>\n",
       "    </tr>\n",
       "    <tr>\n",
       "      <th>168</th>\n",
       "      <td>United States History</td>\n",
       "      <td>48050.0</td>\n",
       "      <td>31000.0</td>\n",
       "    </tr>\n",
       "    <tr>\n",
       "      <th>169</th>\n",
       "      <td>Visual and Performing Arts</td>\n",
       "      <td>32500.0</td>\n",
       "      <td>22500.0</td>\n",
       "    </tr>\n",
       "    <tr>\n",
       "      <th>170</th>\n",
       "      <td>Zoology</td>\n",
       "      <td>73000.0</td>\n",
       "      <td>50000.0</td>\n",
       "    </tr>\n",
       "  </tbody>\n",
       "</table>\n",
       "<p>171 rows × 3 columns</p>\n",
       "</div>"
      ],
      "text/plain": [
       "                                    DEGFIELDD    INCTOT   INCWAGE\n",
       "0                                  Accounting   60375.0   52500.0\n",
       "1                           Actuarial Science  350700.0  356000.0\n",
       "2            Advertising and Public Relations   37050.0   31000.0\n",
       "3                       Aerospace Engineering   73500.0   71000.0\n",
       "4                      Agricultural Economics   48100.0   39000.0\n",
       "..                                        ...       ...       ...\n",
       "166  Transportation Sciences and Technologies   69510.0   60000.0\n",
       "167             Treatment Therapy Professions   50000.0   40000.0\n",
       "168                     United States History   48050.0   31000.0\n",
       "169                Visual and Performing Arts   32500.0   22500.0\n",
       "170                                   Zoology   73000.0   50000.0\n",
       "\n",
       "[171 rows x 3 columns]"
      ]
     },
     "execution_count": 120,
     "metadata": {},
     "output_type": "execute_result"
    }
   ],
   "source": [
    "ipums_s_2009 = ipums_s_text.query(\"YEAR == 2009\")\n",
    "ipums_s_2009_by_major = ipums_s_2009.groupby(\"DEGFIELDD\").agg({\"INCTOT\" : \"median\", \"INCWAGE\": \"median\"})\n",
    "ipums_s_2009_by_major = ipums_s_2009_by_major.reset_index()\n",
    "ipums_s_2009_by_major"
   ]
  },
  {
   "cell_type": "code",
   "execution_count": 88,
   "id": "22cd1704",
   "metadata": {
    "deletable": false,
    "editable": false
   },
   "outputs": [
    {
     "data": {
      "text/html": [
       "<p><strong><pre style='display: inline;'>q3_1</pre></strong> passed! 🌟</p>"
      ],
      "text/plain": [
       "q3_1 results: All test cases passed!"
      ]
     },
     "execution_count": 121,
     "metadata": {},
     "output_type": "execute_result"
    }
   ],
   "source": [
    "grader.check(\"q3_1\")"
   ]
  },
  {
   "cell_type": "markdown",
   "id": "482b4669",
   "metadata": {},
   "source": [
    "#### Ranking by Wage and Salaries"
   ]
  },
  {
   "cell_type": "markdown",
   "id": "449918d9",
   "metadata": {},
   "source": [
    "**Question 3.2:** Sort the `ipums_s_2009_by_major` by wage and salary (`INCWAGE`) in descending order."
   ]
  },
  {
   "cell_type": "code",
   "execution_count": 89,
   "id": "d9920f02",
   "metadata": {
    "tags": []
   },
   "outputs": [
    {
     "data": {
      "text/html": [
       "<div>\n",
       "<style scoped>\n",
       "    .dataframe tbody tr th:only-of-type {\n",
       "        vertical-align: middle;\n",
       "    }\n",
       "\n",
       "    .dataframe tbody tr th {\n",
       "        vertical-align: top;\n",
       "    }\n",
       "\n",
       "    .dataframe thead th {\n",
       "        text-align: right;\n",
       "    }\n",
       "</style>\n",
       "<table border=\"1\" class=\"dataframe\">\n",
       "  <thead>\n",
       "    <tr style=\"text-align: right;\">\n",
       "      <th></th>\n",
       "      <th>DEGFIELDD</th>\n",
       "      <th>INCTOT</th>\n",
       "      <th>INCWAGE</th>\n",
       "    </tr>\n",
       "  </thead>\n",
       "  <tbody>\n",
       "    <tr>\n",
       "      <th>1</th>\n",
       "      <td>Actuarial Science</td>\n",
       "      <td>350700.0</td>\n",
       "      <td>356000.0</td>\n",
       "    </tr>\n",
       "    <tr>\n",
       "      <th>79</th>\n",
       "      <td>Geosciences</td>\n",
       "      <td>130000.0</td>\n",
       "      <td>130000.0</td>\n",
       "    </tr>\n",
       "    <tr>\n",
       "      <th>130</th>\n",
       "      <td>Nuclear Engineering</td>\n",
       "      <td>120015.0</td>\n",
       "      <td>120000.0</td>\n",
       "    </tr>\n",
       "    <tr>\n",
       "      <th>137</th>\n",
       "      <td>Petroleum Engineering</td>\n",
       "      <td>110000.0</td>\n",
       "      <td>110000.0</td>\n",
       "    </tr>\n",
       "    <tr>\n",
       "      <th>123</th>\n",
       "      <td>Miscellaneous Social Sciences</td>\n",
       "      <td>120000.0</td>\n",
       "      <td>110000.0</td>\n",
       "    </tr>\n",
       "    <tr>\n",
       "      <th>...</th>\n",
       "      <td>...</td>\n",
       "      <td>...</td>\n",
       "      <td>...</td>\n",
       "    </tr>\n",
       "    <tr>\n",
       "      <th>86</th>\n",
       "      <td>Humanities</td>\n",
       "      <td>10550.0</td>\n",
       "      <td>10550.0</td>\n",
       "    </tr>\n",
       "    <tr>\n",
       "      <th>156</th>\n",
       "      <td>Social Psychology</td>\n",
       "      <td>31200.0</td>\n",
       "      <td>10000.0</td>\n",
       "    </tr>\n",
       "    <tr>\n",
       "      <th>129</th>\n",
       "      <td>Neuroscience</td>\n",
       "      <td>12800.0</td>\n",
       "      <td>9800.0</td>\n",
       "    </tr>\n",
       "    <tr>\n",
       "      <th>149</th>\n",
       "      <td>Precision Production and Industrial Arts</td>\n",
       "      <td>39000.0</td>\n",
       "      <td>4900.0</td>\n",
       "    </tr>\n",
       "    <tr>\n",
       "      <th>160</th>\n",
       "      <td>Soil Science</td>\n",
       "      <td>61750.0</td>\n",
       "      <td>2500.0</td>\n",
       "    </tr>\n",
       "  </tbody>\n",
       "</table>\n",
       "<p>171 rows × 3 columns</p>\n",
       "</div>"
      ],
      "text/plain": [
       "                                    DEGFIELDD    INCTOT   INCWAGE\n",
       "1                           Actuarial Science  350700.0  356000.0\n",
       "79                                Geosciences  130000.0  130000.0\n",
       "130                       Nuclear Engineering  120015.0  120000.0\n",
       "137                     Petroleum Engineering  110000.0  110000.0\n",
       "123             Miscellaneous Social Sciences  120000.0  110000.0\n",
       "..                                        ...       ...       ...\n",
       "86                                 Humanities   10550.0   10550.0\n",
       "156                         Social Psychology   31200.0   10000.0\n",
       "129                              Neuroscience   12800.0    9800.0\n",
       "149  Precision Production and Industrial Arts   39000.0    4900.0\n",
       "160                              Soil Science   61750.0    2500.0\n",
       "\n",
       "[171 rows x 3 columns]"
      ]
     },
     "execution_count": 122,
     "metadata": {},
     "output_type": "execute_result"
    }
   ],
   "source": [
    "ipums_s_2009_highest_incwage_majors = ipums_s_2009_by_major.sort_values(by=\"INCWAGE\", ascending=False)\n",
    "ipums_s_2009_highest_incwage_majors"
   ]
  },
  {
   "cell_type": "code",
   "execution_count": 90,
   "id": "a9cba69b",
   "metadata": {
    "deletable": false,
    "editable": false
   },
   "outputs": [
    {
     "data": {
      "text/html": [
       "<p><strong><pre style='display: inline;'>q3_2</pre></strong> passed! 🎉</p>"
      ],
      "text/plain": [
       "q3_2 results: All test cases passed!"
      ]
     },
     "execution_count": 123,
     "metadata": {},
     "output_type": "execute_result"
    }
   ],
   "source": [
    "grader.check(\"q3_2\")"
   ]
  },
  {
   "cell_type": "markdown",
   "id": "cb5fd156",
   "metadata": {},
   "source": [
    "### In 2019"
   ]
  },
  {
   "cell_type": "markdown",
   "id": "eb6a8084",
   "metadata": {},
   "source": [
    "To find out how things have changed from 2009 to 2019, we will do the same for 2019. "
   ]
  },
  {
   "cell_type": "markdown",
   "id": "cb1499fe",
   "metadata": {},
   "source": [
    "**Question 3.3:** Create a dataframe `ipums_s_2019_highest_incwage_majors` that contains the sorted median wage for each major. The dataframe is sorted in descreasing order on the variable of interest. \n",
    "\n",
    "Hint: Start by copying the code you used for 2009."
   ]
  },
  {
   "cell_type": "code",
   "execution_count": 91,
   "id": "95911f82",
   "metadata": {
    "tags": []
   },
   "outputs": [],
   "source": [
    "ipums_s_2019 = ipums_s_text.query(\"YEAR == 2019\")\n",
    "ipums_s_2019_by_major = ipums_s_2019.groupby(\"DEGFIELDD\").agg({\"INCTOT\" : \"median\", \"INCWAGE\": \"median\"})\n",
    "ipums_s_2019_by_major = ipums_s_2019_by_major.reset_index()\n",
    "ipums_s_2019_highest_incwage_majors = ipums_s_2019_by_major.sort_values(by=\"INCWAGE\", ascending=False)"
   ]
  },
  {
   "cell_type": "code",
   "execution_count": 92,
   "id": "3f8a3a07",
   "metadata": {
    "deletable": false,
    "editable": false
   },
   "outputs": [
    {
     "data": {
      "text/html": [
       "<p><strong><pre style='display: inline;'>q3_3</pre></strong> passed! 🎉</p>"
      ],
      "text/plain": [
       "q3_3 results: All test cases passed!"
      ]
     },
     "execution_count": 125,
     "metadata": {},
     "output_type": "execute_result"
    }
   ],
   "source": [
    "grader.check(\"q3_3\")"
   ]
  },
  {
   "cell_type": "markdown",
   "id": "e452b818",
   "metadata": {},
   "source": [
    "### Comparison\n",
    "There seems to be a significant change in the most lucrative majors from 2009 to 2019. Let's compare them now."
   ]
  },
  {
   "cell_type": "markdown",
   "id": "b9f0321b",
   "metadata": {},
   "source": [
    "The first thing to do is to select the top ten highest paid majors from 2009 and 2019. "
   ]
  },
  {
   "cell_type": "code",
   "execution_count": 93,
   "id": "39d10804",
   "metadata": {},
   "outputs": [
    {
     "data": {
      "text/plain": [
       "['Aerospace Engineering',\n",
       " 'Actuarial Science',\n",
       " 'Cognitive Science and Biopsychology',\n",
       " 'Materials Engineering and Materials Science',\n",
       " 'Nuclear Engineering',\n",
       " 'Geosciences',\n",
       " 'Petroleum Engineering',\n",
       " 'Pharmacy, Pharmaceutical Sciences, and Administration',\n",
       " 'Atmospheric Sciences and Meteorology',\n",
       " 'Electrical Engineering',\n",
       " 'Military Technologies',\n",
       " 'Pharmacology',\n",
       " 'Mining and Mineral Engineering',\n",
       " 'Chemical Engineering',\n",
       " 'Materials Science',\n",
       " 'Applied Mathematics',\n",
       " 'Physical Sciences',\n",
       " 'Mathematics and Computer Science',\n",
       " 'Naval Architecture and Marine Engineering',\n",
       " 'Miscellaneous Social Sciences']"
      ]
     },
     "execution_count": 126,
     "metadata": {},
     "output_type": "execute_result"
    }
   ],
   "source": [
    "top_ten_majors = list(set(list(ipums_s_2009_highest_incwage_majors.iloc[:10][\"DEGFIELDD\"]) + \n",
    "                          list(ipums_s_2019_highest_incwage_majors.iloc[:10][\"DEGFIELDD\"])\n",
    "                         ))\n",
    "top_ten_majors"
   ]
  },
  {
   "cell_type": "code",
   "execution_count": 94,
   "id": "36191da8-bb43-400d-a35f-4f74ee53fc8e",
   "metadata": {},
   "outputs": [
    {
     "data": {
      "text/html": [
       "<div>\n",
       "<style scoped>\n",
       "    .dataframe tbody tr th:only-of-type {\n",
       "        vertical-align: middle;\n",
       "    }\n",
       "\n",
       "    .dataframe tbody tr th {\n",
       "        vertical-align: top;\n",
       "    }\n",
       "\n",
       "    .dataframe thead th {\n",
       "        text-align: right;\n",
       "    }\n",
       "</style>\n",
       "<table border=\"1\" class=\"dataframe\">\n",
       "  <thead>\n",
       "    <tr style=\"text-align: right;\">\n",
       "      <th></th>\n",
       "      <th>DEGFIELDD</th>\n",
       "      <th>INCTOT</th>\n",
       "      <th>INCWAGE</th>\n",
       "    </tr>\n",
       "  </thead>\n",
       "  <tbody>\n",
       "    <tr>\n",
       "      <th>129</th>\n",
       "      <td>Naval Architecture and Marine Engineering</td>\n",
       "      <td>181750.0</td>\n",
       "      <td>132500.0</td>\n",
       "    </tr>\n",
       "    <tr>\n",
       "      <th>107</th>\n",
       "      <td>Mathematics and Computer Science</td>\n",
       "      <td>130000.0</td>\n",
       "      <td>130000.0</td>\n",
       "    </tr>\n",
       "    <tr>\n",
       "      <th>138</th>\n",
       "      <td>Pharmacology</td>\n",
       "      <td>126100.0</td>\n",
       "      <td>125000.0</td>\n",
       "    </tr>\n",
       "    <tr>\n",
       "      <th>114</th>\n",
       "      <td>Mining and Mineral Engineering</td>\n",
       "      <td>120000.0</td>\n",
       "      <td>120000.0</td>\n",
       "    </tr>\n",
       "    <tr>\n",
       "      <th>104</th>\n",
       "      <td>Materials Science</td>\n",
       "      <td>110000.0</td>\n",
       "      <td>110000.0</td>\n",
       "    </tr>\n",
       "    <tr>\n",
       "      <th>...</th>\n",
       "      <td>...</td>\n",
       "      <td>...</td>\n",
       "      <td>...</td>\n",
       "    </tr>\n",
       "    <tr>\n",
       "      <th>42</th>\n",
       "      <td>Counseling Psychology</td>\n",
       "      <td>36850.0</td>\n",
       "      <td>20000.0</td>\n",
       "    </tr>\n",
       "    <tr>\n",
       "      <th>26</th>\n",
       "      <td>Clinical Psychology</td>\n",
       "      <td>37500.0</td>\n",
       "      <td>20000.0</td>\n",
       "    </tr>\n",
       "    <tr>\n",
       "      <th>14</th>\n",
       "      <td>Astronomy and Astrophysics</td>\n",
       "      <td>11000.0</td>\n",
       "      <td>11000.0</td>\n",
       "    </tr>\n",
       "    <tr>\n",
       "      <th>54</th>\n",
       "      <td>Electrical and Mechanic Repairs and Technologies</td>\n",
       "      <td>27500.0</td>\n",
       "      <td>5000.0</td>\n",
       "    </tr>\n",
       "    <tr>\n",
       "      <th>1</th>\n",
       "      <td>Actuarial Science</td>\n",
       "      <td>3150.0</td>\n",
       "      <td>3150.0</td>\n",
       "    </tr>\n",
       "  </tbody>\n",
       "</table>\n",
       "<p>170 rows × 3 columns</p>\n",
       "</div>"
      ],
      "text/plain": [
       "                                            DEGFIELDD    INCTOT   INCWAGE\n",
       "129         Naval Architecture and Marine Engineering  181750.0  132500.0\n",
       "107                  Mathematics and Computer Science  130000.0  130000.0\n",
       "138                                      Pharmacology  126100.0  125000.0\n",
       "114                    Mining and Mineral Engineering  120000.0  120000.0\n",
       "104                                 Materials Science  110000.0  110000.0\n",
       "..                                                ...       ...       ...\n",
       "42                              Counseling Psychology   36850.0   20000.0\n",
       "26                                Clinical Psychology   37500.0   20000.0\n",
       "14                         Astronomy and Astrophysics   11000.0   11000.0\n",
       "54   Electrical and Mechanic Repairs and Technologies   27500.0    5000.0\n",
       "1                                   Actuarial Science    3150.0    3150.0\n",
       "\n",
       "[170 rows x 3 columns]"
      ]
     },
     "execution_count": 127,
     "metadata": {},
     "output_type": "execute_result"
    }
   ],
   "source": [
    "ipums_s_2019_highest_incwage_majors"
   ]
  },
  {
   "cell_type": "markdown",
   "id": "dc4f5f7b",
   "metadata": {},
   "source": [
    "Next, we'll filter the table for only these majors. We'll see how they changed from 2009 to 2019."
   ]
  },
  {
   "cell_type": "markdown",
   "id": "9aaf8db7",
   "metadata": {},
   "source": [
    "**Question 3.4:** Filter the `ipums_s_2019_highest_incwage_majors` and `ipums_s_2009_highest_incwage_majors` for only those majors (`DEGFIELDD`) in the `top_ten_majors` list, and then merge them together. Finally, sort the dataframe by wages and salaries in 2009 in a descending order. \n",
    "\n",
    "Hint: You may want to use [`isin`](https://pandas.pydata.org/pandas-docs/stable/reference/api/pandas.DataFrame.isin.html)."
   ]
  },
  {
   "cell_type": "code",
   "execution_count": 141,
   "id": "840ac605",
   "metadata": {
    "tags": []
   },
   "outputs": [
    {
     "data": {
      "text/html": [
       "<div>\n",
       "<style scoped>\n",
       "    .dataframe tbody tr th:only-of-type {\n",
       "        vertical-align: middle;\n",
       "    }\n",
       "\n",
       "    .dataframe tbody tr th {\n",
       "        vertical-align: top;\n",
       "    }\n",
       "\n",
       "    .dataframe thead th {\n",
       "        text-align: right;\n",
       "    }\n",
       "</style>\n",
       "<table border=\"1\" class=\"dataframe\">\n",
       "  <thead>\n",
       "    <tr style=\"text-align: right;\">\n",
       "      <th></th>\n",
       "      <th>DEGFIELDD</th>\n",
       "      <th>INCTOT_2019</th>\n",
       "      <th>INCWAGE_2019</th>\n",
       "      <th>INCTOT_2009</th>\n",
       "      <th>INCWAGE_2009</th>\n",
       "    </tr>\n",
       "  </thead>\n",
       "  <tbody>\n",
       "    <tr>\n",
       "      <th>17</th>\n",
       "      <td>Actuarial Science</td>\n",
       "      <td>3150.0</td>\n",
       "      <td>3150.0</td>\n",
       "      <td>350700.0</td>\n",
       "      <td>356000.0</td>\n",
       "    </tr>\n",
       "    <tr>\n",
       "      <th>9</th>\n",
       "      <td>Geosciences</td>\n",
       "      <td>95000.0</td>\n",
       "      <td>95000.0</td>\n",
       "      <td>130000.0</td>\n",
       "      <td>130000.0</td>\n",
       "    </tr>\n",
       "    <tr>\n",
       "      <th>14</th>\n",
       "      <td>Nuclear Engineering</td>\n",
       "      <td>81000.0</td>\n",
       "      <td>75000.0</td>\n",
       "      <td>120015.0</td>\n",
       "      <td>120000.0</td>\n",
       "    </tr>\n",
       "    <tr>\n",
       "      <th>10</th>\n",
       "      <td>Petroleum Engineering</td>\n",
       "      <td>87700.0</td>\n",
       "      <td>83000.0</td>\n",
       "      <td>110000.0</td>\n",
       "      <td>110000.0</td>\n",
       "    </tr>\n",
       "    <tr>\n",
       "      <th>12</th>\n",
       "      <td>Miscellaneous Social Sciences</td>\n",
       "      <td>77500.0</td>\n",
       "      <td>77500.0</td>\n",
       "      <td>120000.0</td>\n",
       "      <td>110000.0</td>\n",
       "    </tr>\n",
       "    <tr>\n",
       "      <th>11</th>\n",
       "      <td>Pharmacy, Pharmaceutical Sciences, and Adminis...</td>\n",
       "      <td>90000.0</td>\n",
       "      <td>80500.0</td>\n",
       "      <td>98600.0</td>\n",
       "      <td>92000.0</td>\n",
       "    </tr>\n",
       "    <tr>\n",
       "      <th>13</th>\n",
       "      <td>Applied Mathematics</td>\n",
       "      <td>75000.0</td>\n",
       "      <td>75000.0</td>\n",
       "      <td>108750.0</td>\n",
       "      <td>92000.0</td>\n",
       "    </tr>\n",
       "    <tr>\n",
       "      <th>16</th>\n",
       "      <td>Physical Sciences</td>\n",
       "      <td>121000.0</td>\n",
       "      <td>45000.0</td>\n",
       "      <td>91000.0</td>\n",
       "      <td>90500.0</td>\n",
       "    </tr>\n",
       "    <tr>\n",
       "      <th>15</th>\n",
       "      <td>Atmospheric Sciences and Meteorology</td>\n",
       "      <td>65000.0</td>\n",
       "      <td>65000.0</td>\n",
       "      <td>87000.0</td>\n",
       "      <td>87000.0</td>\n",
       "    </tr>\n",
       "    <tr>\n",
       "      <th>3</th>\n",
       "      <td>Mining and Mineral Engineering</td>\n",
       "      <td>120000.0</td>\n",
       "      <td>120000.0</td>\n",
       "      <td>81600.0</td>\n",
       "      <td>81500.0</td>\n",
       "    </tr>\n",
       "    <tr>\n",
       "      <th>8</th>\n",
       "      <td>Chemical Engineering</td>\n",
       "      <td>105550.0</td>\n",
       "      <td>100000.0</td>\n",
       "      <td>87500.0</td>\n",
       "      <td>80000.0</td>\n",
       "    </tr>\n",
       "    <tr>\n",
       "      <th>4</th>\n",
       "      <td>Electrical Engineering</td>\n",
       "      <td>113000.0</td>\n",
       "      <td>109000.0</td>\n",
       "      <td>83000.0</td>\n",
       "      <td>78500.0</td>\n",
       "    </tr>\n",
       "    <tr>\n",
       "      <th>5</th>\n",
       "      <td>Materials Engineering and Materials Science</td>\n",
       "      <td>119000.0</td>\n",
       "      <td>104000.0</td>\n",
       "      <td>73000.0</td>\n",
       "      <td>73000.0</td>\n",
       "    </tr>\n",
       "    <tr>\n",
       "      <th>7</th>\n",
       "      <td>Aerospace Engineering</td>\n",
       "      <td>104100.0</td>\n",
       "      <td>100000.0</td>\n",
       "      <td>73500.0</td>\n",
       "      <td>71000.0</td>\n",
       "    </tr>\n",
       "    <tr>\n",
       "      <th>2</th>\n",
       "      <td>Pharmacology</td>\n",
       "      <td>126100.0</td>\n",
       "      <td>125000.0</td>\n",
       "      <td>75000.0</td>\n",
       "      <td>69000.0</td>\n",
       "    </tr>\n",
       "    <tr>\n",
       "      <th>1</th>\n",
       "      <td>Mathematics and Computer Science</td>\n",
       "      <td>130000.0</td>\n",
       "      <td>130000.0</td>\n",
       "      <td>65500.0</td>\n",
       "      <td>65500.0</td>\n",
       "    </tr>\n",
       "    <tr>\n",
       "      <th>0</th>\n",
       "      <td>Naval Architecture and Marine Engineering</td>\n",
       "      <td>181750.0</td>\n",
       "      <td>132500.0</td>\n",
       "      <td>57150.0</td>\n",
       "      <td>57000.0</td>\n",
       "    </tr>\n",
       "    <tr>\n",
       "      <th>6</th>\n",
       "      <td>Cognitive Science and Biopsychology</td>\n",
       "      <td>144350.0</td>\n",
       "      <td>100500.0</td>\n",
       "      <td>54000.0</td>\n",
       "      <td>54000.0</td>\n",
       "    </tr>\n",
       "  </tbody>\n",
       "</table>\n",
       "</div>"
      ],
      "text/plain": [
       "                                            DEGFIELDD  INCTOT_2019  \\\n",
       "17                                  Actuarial Science       3150.0   \n",
       "9                                         Geosciences      95000.0   \n",
       "14                                Nuclear Engineering      81000.0   \n",
       "10                              Petroleum Engineering      87700.0   \n",
       "12                      Miscellaneous Social Sciences      77500.0   \n",
       "11  Pharmacy, Pharmaceutical Sciences, and Adminis...      90000.0   \n",
       "13                                Applied Mathematics      75000.0   \n",
       "16                                  Physical Sciences     121000.0   \n",
       "15               Atmospheric Sciences and Meteorology      65000.0   \n",
       "3                      Mining and Mineral Engineering     120000.0   \n",
       "8                                Chemical Engineering     105550.0   \n",
       "4                              Electrical Engineering     113000.0   \n",
       "5         Materials Engineering and Materials Science     119000.0   \n",
       "7                               Aerospace Engineering     104100.0   \n",
       "2                                        Pharmacology     126100.0   \n",
       "1                    Mathematics and Computer Science     130000.0   \n",
       "0           Naval Architecture and Marine Engineering     181750.0   \n",
       "6                 Cognitive Science and Biopsychology     144350.0   \n",
       "\n",
       "    INCWAGE_2019  INCTOT_2009  INCWAGE_2009  \n",
       "17        3150.0     350700.0      356000.0  \n",
       "9        95000.0     130000.0      130000.0  \n",
       "14       75000.0     120015.0      120000.0  \n",
       "10       83000.0     110000.0      110000.0  \n",
       "12       77500.0     120000.0      110000.0  \n",
       "11       80500.0      98600.0       92000.0  \n",
       "13       75000.0     108750.0       92000.0  \n",
       "16       45000.0      91000.0       90500.0  \n",
       "15       65000.0      87000.0       87000.0  \n",
       "3       120000.0      81600.0       81500.0  \n",
       "8       100000.0      87500.0       80000.0  \n",
       "4       109000.0      83000.0       78500.0  \n",
       "5       104000.0      73000.0       73000.0  \n",
       "7       100000.0      73500.0       71000.0  \n",
       "2       125000.0      75000.0       69000.0  \n",
       "1       130000.0      65500.0       65500.0  \n",
       "0       132500.0      57150.0       57000.0  \n",
       "6       100500.0      54000.0       54000.0  "
      ]
     },
     "execution_count": 141,
     "metadata": {},
     "output_type": "execute_result"
    }
   ],
   "source": [
    "ipums_2019_top_ten_majors = ipums_s_2019_highest_incwage_majors[ipums_s_2019_highest_incwage_majors[\"DEGFIELDD\"].isin(top_ten_majors)]\n",
    "ipums_2019_top_ten_majors = ipums_2019_top_ten_majors.rename(\n",
    "    columns={\"INCTOT\": \"INCTOT_2019\", \"INCWAGE\": \"INCWAGE_2019\"}\n",
    ") # rename the columns\n",
    "\n",
    "ipums_2009_top_ten_majors = ipums_s_2009_highest_incwage_majors[ipums_s_2009_highest_incwage_majors[\"DEGFIELDD\"].isin(top_ten_majors)]\n",
    "ipums_2009_top_ten_majors = ipums_2009_top_ten_majors.rename(\n",
    "    columns={\"INCTOT\": \"INCTOT_2009\", \"INCWAGE\": \"INCWAGE_2009\"}\n",
    ") # rename the columns\n",
    "\n",
    "# # merge and sort here\n",
    "ipums_top_ten_majors = ipums_2019_top_ten_majors.merge(ipums_2009_top_ten_majors, on=\"DEGFIELDD\")\n",
    "ipums_top_ten_majors = ipums_top_ten_majors.sort_values([\"INCWAGE_2009\"], ascending=[0])\n",
    "ipums_top_ten_majors"
   ]
  },
  {
   "cell_type": "code",
   "execution_count": 142,
   "id": "066c2516",
   "metadata": {
    "deletable": false,
    "editable": false
   },
   "outputs": [
    {
     "data": {
      "text/html": [
       "<p><strong><pre style='display: inline;'>q3_4</pre></strong> passed! 💯</p>"
      ],
      "text/plain": [
       "q3_4 results: All test cases passed!"
      ]
     },
     "execution_count": 142,
     "metadata": {},
     "output_type": "execute_result"
    }
   ],
   "source": [
    "grader.check(\"q3_4\")"
   ]
  },
  {
   "cell_type": "markdown",
   "id": "d2139a2d",
   "metadata": {},
   "source": [
    "Now let's generate some visualization to see this change. "
   ]
  },
  {
   "cell_type": "code",
   "execution_count": 143,
   "id": "062cd659",
   "metadata": {},
   "outputs": [
    {
     "data": {
      "image/png": "[encoded data removed]",
      "text/plain": [
       "<Figure size 800x1000 with 1 Axes>"
      ]
     },
     "metadata": {},
     "output_type": "display_data"
    }
   ],
   "source": [
    "height = 0.8\n",
    "plt.figure(figsize=(8, 10))\n",
    "\n",
    "plt.barh(y=np.arange(len(ipums_top_ten_majors))*3+height/2, height=height, \n",
    "         width=ipums_top_ten_majors.sort_values(\"INCWAGE_2009\")[\"INCWAGE_2009\"], \n",
    "         color=\"peachpuff\", label=\"2009\")\n",
    "\n",
    "plt.barh(y=np.arange(len(ipums_top_ten_majors))*3-height/2, height=height, \n",
    "         width=ipums_top_ten_majors.sort_values(\"INCWAGE_2009\")[\"INCWAGE_2019\"], \n",
    "         color=\"sandybrown\", label=\"2019\")\n",
    "\n",
    "plt.yticks(np.arange(len(ipums_top_ten_majors))*3, ipums_top_ten_majors.sort_values(\"INCWAGE_2009\")[\"DEGFIELDD\"])\n",
    "plt.title(\"Highest Paid College Majors in 2009 vs 2019 (Wage and Salaries)\")\n",
    "plt.legend();"
   ]
  },
  {
   "cell_type": "markdown",
   "id": "ea6d5ade",
   "metadata": {},
   "source": [
    "<!-- BEGIN QUESTION -->\n",
    "\n",
    "**Question 3.5:** Comment on the results shown above. Do these results match your expectations? In addition, do you think there is a potential problem related to outliers? If so, what is a good way to mitigate this problem? "
   ]
  },
  {
   "cell_type": "markdown",
   "id": "86a7e3ca",
   "metadata": {},
   "source": [
    "This does match my expetations, esspecially in the cs and engineering realm. Although engineering majors have been popular for decades, the amount of growth in these areas and shrinkage in others, such as actuarial science and natural sciences makes sense. As for outliers, there could be potential for outliers, or change of major name. Maybe actuarial sciences is grouped with business or economics majors at many universities. A good way to mitigate this would be to collect more data on if this is true and then reclassify."
   ]
  },
  {
   "cell_type": "markdown",
   "id": "915889bf",
   "metadata": {},
   "source": [
    "<!-- END QUESTION -->\n",
    "\n",
    "----\n",
    "## Section 4: Income Over Life-Cycle (Optional)\n",
    "In the final section of this lab, we will take a look at how lifetime earnings vary by major. **Although this section is optional, it is by no means more difficult than the previous sections, and we strongly encourage you to try it. The results are also very interesting!** This is related to the [Life-Cycle Hypothesis](https://www.economicshelp.org/blog/27080/concepts/life-cycle-hypothesis/).\n",
    "\n",
    "For example, some people make a lot of money early in life but don't see a significant increase in income later on; and some other people don't make a lot of money right out of college, but their income increases significantly as they get older. We want to see if this is related to their major, using the most recent data from 2019. "
   ]
  },
  {
   "cell_type": "markdown",
   "id": "824f2d52",
   "metadata": {},
   "source": [
    "### Economics Majors"
   ]
  },
  {
   "cell_type": "markdown",
   "id": "ad7f1b97",
   "metadata": {},
   "source": [
    "First we will look at the Economics majors. Economics majors contains Agricultural Economics, Economics, and Business Economics, which are represented by `DEGFIELDD` codes 1102, 5501, and 6205. "
   ]
  },
  {
   "cell_type": "markdown",
   "id": "6ecbebdd",
   "metadata": {},
   "source": [
    "**Question 4.1:** Filter the `ipums_s` dataframe for Economics majors based on the criteria above. We only need records for 2019. "
   ]
  },
  {
   "cell_type": "code",
   "execution_count": 147,
   "id": "cf2d6aba",
   "metadata": {
    "tags": []
   },
   "outputs": [
    {
     "data": {
      "text/plain": [
       "Ellipsis"
      ]
     },
     "execution_count": 147,
     "metadata": {},
     "output_type": "execute_result"
    }
   ],
   "source": [
    "ipums_s_2019_econ = ...\n",
    "ipums_s_2019_econ"
   ]
  },
  {
   "cell_type": "code",
   "execution_count": null,
   "id": "dc1467c1",
   "metadata": {
    "deletable": false,
    "editable": false
   },
   "outputs": [],
   "source": [
    "grader.check(\"q4_1\")"
   ]
  },
  {
   "cell_type": "markdown",
   "id": "02d62476",
   "metadata": {},
   "source": [
    "Now we are going to create a visualization of the life cycle income for Economics majors. We will plot the 25th percentile, 50th percentile, 75th percentile, and 90th percentile incomes on the same graph. The y-axis will be the percentile income, and the x-axis will be age."
   ]
  },
  {
   "cell_type": "markdown",
   "id": "8a4d87f0",
   "metadata": {},
   "source": [
    "We have defined the percentile function for you. It can be used as an aggregation function after the groupby."
   ]
  },
  {
   "cell_type": "code",
   "execution_count": null,
   "id": "e85dd638",
   "metadata": {},
   "outputs": [],
   "source": [
    "# percentile function used in groupby aggregate\n",
    "def percentile(n):\n",
    "    def _percentile(x):\n",
    "        return np.percentile(x, n)\n",
    "    _percentile.__name__ = f'percentile_{n}'\n",
    "    return _percentile"
   ]
  },
  {
   "cell_type": "markdown",
   "id": "efab651d",
   "metadata": {},
   "source": [
    "For example, \n",
    "\n",
    "```python\n",
    ">>> df.groupby(...).agg(percentile(25))\n",
    "```\n",
    "\n",
    "will return the 25th percentile values in each group. "
   ]
  },
  {
   "cell_type": "markdown",
   "id": "e6a79569",
   "metadata": {},
   "source": [
    "<!-- BEGIN QUESTION -->\n",
    "\n",
    "**Question 4.2:** Plot the 25th, 50th, 75th, 90th percentile wages and salaries for Economics majors at each age. \n",
    "\n",
    "Hint: You will need to use groupby on `AGE`. Remember to reset index after groupby and aggregate. "
   ]
  },
  {
   "cell_type": "code",
   "execution_count": null,
   "id": "a6522e4a",
   "metadata": {
    "tags": []
   },
   "outputs": [],
   "source": [
    "percentiles = [25, 50, 75, 90]\n",
    "\n",
    "plt.figure(figsize=(9, 6))\n",
    "for p in percentiles:\n",
    "    ipums_s_2019_econ_p_by_age = ...\n",
    "    plt.plot(..., label=f\"Econ {p}th Percentile\")\n",
    "plt.title(\"Percentile Wage and Salaries By Age for Economics Majors in 2019\")\n",
    "plt.xlabel(\"Age\")\n",
    "plt.legend();"
   ]
  },
  {
   "cell_type": "markdown",
   "id": "464e6c3a",
   "metadata": {},
   "source": [
    "<!-- END QUESTION -->\n",
    "\n",
    "**Note that the graph appears to be very volatile. This is due to our extremely small sample size. However, the overall trend is valid.** "
   ]
  },
  {
   "cell_type": "markdown",
   "id": "7d62f13c",
   "metadata": {},
   "source": [
    "### Computer Science Majors"
   ]
  },
  {
   "cell_type": "markdown",
   "id": "fcc8b4e2",
   "metadata": {},
   "source": [
    "This time, repeat the same process for computer science majors. CS majors are represented by `DEGFIELDD` codes 2100, 2101, 2102, 2106, 2107, 2407, and 4005. "
   ]
  },
  {
   "cell_type": "markdown",
   "id": "3b8ee2cf",
   "metadata": {},
   "source": [
    "<!-- BEGIN QUESTION -->\n",
    "\n",
    "**Question 4.3:** Filter the `ipums_s` dataframe for CS majors based on the criteria above. We only need records for 2019. Then plot the 25th, 50th, 75th, 90th percentile wage and salary for CS majors of each age."
   ]
  },
  {
   "cell_type": "code",
   "execution_count": null,
   "id": "47ebc2ac",
   "metadata": {
    "tags": []
   },
   "outputs": [],
   "source": [
    "...\n",
    "plt.title(\"Percentile Wage and Salaries By Age for CS Majors in 2019\")\n",
    "plt.xlabel(\"Age\")\n",
    "plt.legend();"
   ]
  },
  {
   "cell_type": "markdown",
   "id": "e534a162",
   "metadata": {},
   "source": [
    "<!-- END QUESTION -->\n",
    "\n",
    "### Comparison"
   ]
  },
  {
   "cell_type": "markdown",
   "id": "eab897a7",
   "metadata": {},
   "source": [
    "Let's now compare the lifecycle income of Economics majors and CS majors. "
   ]
  },
  {
   "cell_type": "markdown",
   "id": "fe15f023",
   "metadata": {},
   "source": [
    "<!-- BEGIN QUESTION -->\n",
    "\n",
    "**Question 4.4:** Plot the lifecycle wage and salaries of Economics and CS majors together. \n",
    "\n",
    "Hint: You only need to copy and paste in the code in the for loop. "
   ]
  },
  {
   "cell_type": "code",
   "execution_count": null,
   "id": "7a56e879",
   "metadata": {
    "tags": []
   },
   "outputs": [],
   "source": [
    "colors = ['sandybrown', 'coral', 'chocolate', 'sienna', 'cornflowerblue', 'royalblue', 'mediumblue', 'navy']\n",
    "plt.figure(figsize=(12, 8))\n",
    "\n",
    "percentiles = [25, 50, 75, 90]\n",
    "# Economics majors\n",
    "for i, p in enumerate(percentiles):\n",
    "    ...\n",
    "    plt.plot(..., label=f\"Econ {p}th Percentile\", color=colors[i])\n",
    "\n",
    "# CS majors\n",
    "for i, p in enumerate(percentiles):\n",
    "    ...\n",
    "    plt.plot(..., label=f\"CS {p}th Percentile\", color=colors[i+len(percentiles)])\n",
    "plt.title(\"Percentile Wage and Salaries By Age in 2019 (Economics vs Computer Science)\")\n",
    "plt.xlabel(\"Age\")\n",
    "plt.legend();"
   ]
  },
  {
   "cell_type": "markdown",
   "id": "e70348df",
   "metadata": {},
   "source": [
    "<!-- END QUESTION -->\n",
    "\n",
    "**Congratulations!** You're done with Econ 148 Lab 2!"
   ]
  },
  {
   "cell_type": "markdown",
   "id": "8080d723",
   "metadata": {},
   "source": [
    "---\n",
    "## Feedback"
   ]
  },
  {
   "cell_type": "markdown",
   "id": "7d06a3ee",
   "metadata": {},
   "source": [
    "**Question 5:** Please fill out this short [feedback form](https://forms.gle/kKzxPm6oUBgxn3Pt8) to let us know your thoughts about this lab! We really appreciate your opinions and feedback! At the end of the Google form, you should see a codeword. Assign the codeword to the variable `codeword` below. "
   ]
  },
  {
   "cell_type": "code",
   "execution_count": null,
   "id": "244671cd",
   "metadata": {
    "tags": []
   },
   "outputs": [],
   "source": [
    "codeword = ..."
   ]
  },
  {
   "cell_type": "code",
   "execution_count": null,
   "id": "29203759",
   "metadata": {
    "deletable": false,
    "editable": false
   },
   "outputs": [],
   "source": [
    "grader.check(\"q5\")"
   ]
  },
  {
   "cell_type": "markdown",
   "id": "b087d29a",
   "metadata": {
    "deletable": false,
    "editable": false
   },
   "source": [
    "## Submission\n",
    "\n",
    "Make sure you have run all cells in your notebook in order before running the cell below, so that all images/graphs appear in the output. The cell below will generate a zip file for you to submit. **Please save before exporting!**"
   ]
  },
  {
   "cell_type": "code",
   "execution_count": null,
   "id": "5767f165",
   "metadata": {
    "deletable": false,
    "editable": false
   },
   "outputs": [],
   "source": [
    "# Save your notebook first, then run this cell to export your submission.\n",
    "grader.export(run_tests=True)"
   ]
  },
  {
   "cell_type": "markdown",
   "id": "4c6badc0",
   "metadata": {},
   "source": [
    " "
   ]
  }
 ],
 "metadata": {
  "kernelspec": {
   "display_name": "Python 3 (ipykernel)",
   "language": "python",
   "name": "python3"
  },
  "language_info": {
   "codemirror_mode": {
    "name": "ipython",
    "version": 3
   },
   "file_extension": ".py",
   "mimetype": "text/x-python",
   "name": "python",
   "nbconvert_exporter": "python",
   "pygments_lexer": "ipython3",
   "version": "3.9.15"
  },
  "otter": {
   "OK_FORMAT": true,
   "tests": {
    "q1_1": {
     "name": "q1_1",
     "points": null,
     "suites": [
      {
       "cases": [
        {
         "code": ">>> len(api_key) > 0\nTrue",
         "hidden": false,
         "locked": false
        }
       ],
       "scored": true,
       "setup": "",
       "teardown": "",
       "type": "doctest"
      }
     ]
    },
    "q1_3": {
     "name": "q1_3",
     "points": null,
     "suites": [
      {
       "cases": [
        {
         "code": ">>> test_params = {\"ec\": 148, \"eric\": \"van dusen\", \"ds\": \"economists\"}\n>>> test_link = \"https://thisisnotavalidlink.us\"\n>>> test_ep = \"/test\"\n>>> test_res = fetch(test_link, test_ep, test_params, url_only=True)\n>>> test_res == 'https://thisisnotavalidlink.us/test?ec=148&eric=van+dusen&ds=economists'\nTrue",
         "hidden": false,
         "locked": false
        }
       ],
       "scored": true,
       "setup": "",
       "teardown": "",
       "type": "doctest"
      }
     ]
    },
    "q1_4": {
     "name": "q1_4",
     "points": null,
     "suites": [
      {
       "cases": [
        {
         "code": ">>> \"fred/series/observations\" in endpoint\nTrue",
         "hidden": false,
         "locked": false
        },
        {
         "code": ">>> len(params_UNRATE) >= 6\nTrue",
         "hidden": false,
         "locked": false
        },
        {
         "code": ">>> \"series_id\" in params_UNRATE.keys() and params_UNRATE[\"series_id\"] == \"UNRATE\"\nTrue",
         "hidden": false,
         "locked": false
        },
        {
         "code": ">>> \"observation_start\" in params_UNRATE.keys() and params_UNRATE[\"observation_start\"] == \"1958-01-01\"\nTrue",
         "hidden": false,
         "locked": false
        },
        {
         "code": ">>> \"observation_end\" in params_UNRATE.keys() and params_UNRATE[\"observation_end\"] == \"2022-10-01\"\nTrue",
         "hidden": false,
         "locked": false
        },
        {
         "code": ">>> \"frequency\" in params_UNRATE.keys() and params_UNRATE[\"frequency\"] == \"q\"\nTrue",
         "hidden": false,
         "locked": false
        },
        {
         "code": ">>> \"units\" not in params_UNRATE.keys() or (\"units\" in params_UNRATE.keys() and params_UNRATE[\"units\"] == \"lin\")\nTrue",
         "hidden": false,
         "locked": false
        },
        {
         "code": ">>> \"aggregation_method\" not in params_UNRATE.keys() or (\"aggregation_method\" in params_UNRATE.keys() and params_UNRATE[\"aggregation_method\"] == \"avg\")\nTrue",
         "hidden": false,
         "locked": false
        },
        {
         "code": ">>> \"api_key\" in params_UNRATE.keys()\nTrue",
         "hidden": false,
         "locked": false
        },
        {
         "code": ">>> \"file_type\" in params_UNRATE.keys()\nTrue",
         "hidden": false,
         "locked": false
        }
       ],
       "scored": true,
       "setup": "",
       "teardown": "",
       "type": "doctest"
      }
     ]
    },
    "q1_5": {
     "name": "q1_5",
     "points": null,
     "suites": [
      {
       "cases": [
        {
         "code": ">>> \"series_id\" in params_INFLATION.keys() and params_INFLATION[\"series_id\"] == \"CPILFESL\"\nTrue",
         "hidden": false,
         "locked": false
        },
        {
         "code": ">>> \"observation_start\" in params_INFLATION.keys() and params_INFLATION[\"observation_start\"] == \"1958-01-01\"\nTrue",
         "hidden": false,
         "locked": false
        },
        {
         "code": ">>> \"observation_end\" in params_INFLATION.keys() and params_INFLATION[\"observation_end\"] == \"2022-10-01\"\nTrue",
         "hidden": false,
         "locked": false
        },
        {
         "code": ">>> \"frequency\" in params_INFLATION.keys() and params_INFLATION[\"frequency\"] == \"q\"\nTrue",
         "hidden": false,
         "locked": false
        },
        {
         "code": ">>> \"units\" in params_INFLATION.keys() and params_INFLATION[\"units\"] == \"pc1\"\nTrue",
         "hidden": false,
         "locked": false
        },
        {
         "code": ">>> \"aggregation_method\" not in params_INFLATION.keys() or (\"aggregation_method\" in params_INFLATION.keys() and params_INFLATION[\"aggregation_method\"] == \"avg\")\nTrue",
         "hidden": false,
         "locked": false
        },
        {
         "code": ">>> \"api_key\" in params_UNRATE.keys()\nTrue",
         "hidden": false,
         "locked": false
        },
        {
         "code": ">>> \"file_type\" in params_UNRATE.keys()\nTrue",
         "hidden": false,
         "locked": false
        }
       ],
       "scored": true,
       "setup": "",
       "teardown": "",
       "type": "doctest"
      }
     ]
    },
    "q2_1": {
     "name": "q2_1",
     "points": null,
     "suites": [
      {
       "cases": [
        {
         "code": ">>> ipums_raw.shape[0] == 162731\nTrue",
         "hidden": false,
         "locked": false
        }
       ],
       "scored": true,
       "setup": "",
       "teardown": "",
       "type": "doctest"
      }
     ]
    },
    "q2_2": {
     "name": "q2_2",
     "points": null,
     "suites": [
      {
       "cases": [
        {
         "code": ">>> ipums_college.shape == (46270, 13)\nTrue",
         "hidden": false,
         "locked": false
        },
        {
         "code": ">>> np.sum(ipums_college[\"DEGFIELD\"] == 0) == 0\nTrue",
         "hidden": false,
         "locked": false
        }
       ],
       "scored": true,
       "setup": "",
       "teardown": "",
       "type": "doctest"
      }
     ]
    },
    "q2_3": {
     "name": "q2_3",
     "points": null,
     "suites": [
      {
       "cases": [
        {
         "code": ">>> ipums_college_working_age.shape == (36809, 13)\nTrue",
         "hidden": false,
         "locked": false
        },
        {
         "code": ">>> len(ipums_college_working_age[ipums_college_working_age[\"AGE\"] < 15]) == 0\nTrue",
         "hidden": false,
         "locked": false
        },
        {
         "code": ">>> len(ipums_college_working_age[ipums_college_working_age[\"AGE\"] > 64]) == 0\nTrue",
         "hidden": false,
         "locked": false
        }
       ],
       "scored": true,
       "setup": "",
       "teardown": "",
       "type": "doctest"
      }
     ]
    },
    "q2_4": {
     "name": "q2_4",
     "points": null,
     "suites": [
      {
       "cases": [
        {
         "code": ">>> ipums_s_text.shape == (32570, 11)\nTrue",
         "hidden": false,
         "locked": false
        },
        {
         "code": ">>> np.sum(ipums_s_text['DEGFIELD'] == 'Social Sciences') == 2218\nTrue",
         "hidden": false,
         "locked": false
        },
        {
         "code": ">>> np.sum(ipums_s_text['DEGFIELDD'] == 'Economics') == 613\nTrue",
         "hidden": false,
         "locked": false
        }
       ],
       "scored": true,
       "setup": "",
       "teardown": "",
       "type": "doctest"
      }
     ]
    },
    "q3_1": {
     "name": "q3_1",
     "points": null,
     "suites": [
      {
       "cases": [
        {
         "code": ">>> ipums_s_2009_by_major.shape == (171, 3)\nTrue",
         "hidden": false,
         "locked": false
        },
        {
         "code": ">>> np.isclose(np.max(ipums_s_2009_by_major[\"INCTOT\"]), 350700.0)\nTrue",
         "hidden": false,
         "locked": false
        }
       ],
       "scored": true,
       "setup": "",
       "teardown": "",
       "type": "doctest"
      }
     ]
    },
    "q3_2": {
     "name": "q3_2",
     "points": null,
     "suites": [
      {
       "cases": [
        {
         "code": ">>> ipums_s_2009_highest_incwage_majors.iloc[0][\"DEGFIELDD\"] == 'Actuarial Science'\nTrue",
         "hidden": false,
         "locked": false
        },
        {
         "code": ">>> ipums_s_2009_highest_incwage_majors.iloc[-1][\"DEGFIELDD\"] == 'Soil Science'\nTrue",
         "hidden": false,
         "locked": false
        }
       ],
       "scored": true,
       "setup": "",
       "teardown": "",
       "type": "doctest"
      }
     ]
    },
    "q3_3": {
     "name": "q3_3",
     "points": null,
     "suites": [
      {
       "cases": [
        {
         "code": ">>> ipums_s_2019_highest_incwage_majors.shape == (170, 3)\nTrue",
         "hidden": false,
         "locked": false
        },
        {
         "code": ">>> ipums_s_2019_highest_incwage_majors.iloc[0][\"DEGFIELDD\"] == 'Naval Architecture and Marine Engineering'\nTrue",
         "hidden": false,
         "locked": false
        },
        {
         "code": ">>> ipums_s_2019_highest_incwage_majors.iloc[-1][\"DEGFIELDD\"] == 'Actuarial Science'\nTrue",
         "hidden": false,
         "locked": false
        }
       ],
       "scored": true,
       "setup": "",
       "teardown": "",
       "type": "doctest"
      }
     ]
    },
    "q3_4": {
     "name": "q3_4",
     "points": null,
     "suites": [
      {
       "cases": [
        {
         "code": ">>> ipums_top_ten_majors.shape == (18, 5)\nTrue",
         "hidden": false,
         "locked": false
        },
        {
         "code": ">>> ipums_top_ten_majors.iloc[0]['DEGFIELDD'] == 'Actuarial Science'\nTrue",
         "hidden": false,
         "locked": false
        },
        {
         "code": ">>> ipums_top_ten_majors.iloc[-1]['DEGFIELDD'] == 'Cognitive Science and Biopsychology'\nTrue",
         "hidden": false,
         "locked": false
        },
        {
         "code": ">>> np.isclose(ipums_top_ten_majors.iloc[0]['INCTOT_2009'], 350700.0)\nTrue",
         "hidden": false,
         "locked": false
        },
        {
         "code": ">>> np.isclose(ipums_top_ten_majors.iloc[0]['INCTOT_2019'], 3150.0)\nTrue",
         "hidden": false,
         "locked": false
        },
        {
         "code": ">>> np.isclose(np.sum(ipums_top_ten_majors['INCWAGE_2009']), 1817000.0)\nTrue",
         "hidden": false,
         "locked": false
        }
       ],
       "scored": true,
       "setup": "",
       "teardown": "",
       "type": "doctest"
      }
     ]
    },
    "q4_1": {
     "name": "q4_1",
     "points": 0,
     "suites": [
      {
       "cases": [
        {
         "code": ">>> ipums_s_2019_econ.shape == (375, 11)\nTrue",
         "hidden": false,
         "locked": false
        },
        {
         "code": ">>> np.sum(~ipums_s_2019_econ[\"DEGFIELDD\"].isin([1102, 5501, 6205])) == 0\nTrue",
         "hidden": false,
         "locked": false
        }
       ],
       "scored": true,
       "setup": "",
       "teardown": "",
       "type": "doctest"
      }
     ]
    },
    "q5": {
     "name": "q5",
     "points": null,
     "suites": [
      {
       "cases": [
        {
         "code": ">>> sum([ord(c) for c in codeword])^0xec148 == 967422\nTrue",
         "hidden": false,
         "locked": false
        }
       ],
       "scored": true,
       "setup": "",
       "teardown": "",
       "type": "doctest"
      }
     ]
    }
   }
  }
 },
 "nbformat": 4,
 "nbformat_minor": 5
}
